{
 "cells": [
  {
   "cell_type": "markdown",
   "metadata": {},
   "source": [
    "# M2PI Problem Session 1\n",
    "\n",
    "### Key Concepts & Packages\n",
    "\n",
    "The following packages and ideas are part of the python language itself. They are always available and understanding them **will** make your life much easier. Individually, they help solve simple problems in an efficient way, together you to combine them to solve more complex problems\n",
    "\n",
    "  * [Truthy and Falsy values](https://www.freecodecamp.org/news/truthy-and-falsy-values-in-python/)\n",
    "  * [Indexing](https://towardsdatascience.com/the-basics-of-indexing-and-slicing-python-lists-2d12c90a94cf) and [numpy indexing](https://numpy.org/doc/stable/reference/arrays.indexing.html)\n",
    "  * Regular expressions [re](https://docs.python.org/3/library/re.html)\n",
    "  * Hashes and [Collections](https://docs.python.org/3/library/collections.html)\n",
    "\n",
    "Everything we will do in the first problem session can be done using only these parts of the language. If any of these areas are unfamiliar to you, feel free to take some time out of the session to explore them for yourself, you can come back to the problems later on.\n",
    "\n",
    "### Additional modules\n",
    "These modules aren't part of the core python language, but they're very well written and very widely used. You won't need them in the first problem session, but they're well worth investigating and learning them will pay off when you have to work on real world problems.\n",
    "\n",
    "* [Requests](https://docs.python-requests.org/en/master/) HTTP for humans\n",
    "* [Pandas](https://pandas.pydata.org/) DataFrames \n",
    "* [Numpy](https://numpy.org/) Efficient numerical operations\n",
    "* [Matplotlib](https://matplotlib.org/) Plotting and visualization\n",
    "* [sklearn](https://scikit-learn.org/stable/) Machine learning\n",
    "\n",
    "There are **lots** of other python modules available as well. In general you should look for an existing python module before writing something from scratch, it'll save you a lot of work and let you focus on the interesting parts of your problem. [PyPI](https://pypi.org/) is the canonical source for many packages and integrates with the `pip` package manager, but you'll also find many packages via [conda](https://docs.conda.io/en/latest/miniconda.html). When you are looking for a new package, some of the things to consider are\n",
    "\n",
    "  1. Does it do what you need? Does it do it well?\n",
    "  1. Does it have a good support community and active development? Often the associated GitHub issue queue can help you judge this\n",
    "  "
   ]
  },
  {
   "cell_type": "markdown",
   "metadata": {},
   "source": [
    "## Truthy and Falsy Values\n",
    "\n",
    "Python has a built in type for boolean values. It uses the `True` and `False` keywords to represent the two states, and they behave exactly as you might expect in conditional expressions"
   ]
  },
  {
   "cell_type": "code",
   "execution_count": null,
   "metadata": {},
   "outputs": [],
   "source": [
    "if True:\n",
    "    print(f\"{True} is of type {type(True)}\")"
   ]
  },
  {
   "cell_type": "markdown",
   "metadata": {},
   "source": [
    "You can assign boolean values to variables in your code or you can use the results of a boolean expression directly. Python also provides a `bool()` function which will evaluate whether a particular object should be interpreted as `True` or `False`. You can even extend that to your own classes by defining a `__bool__()` method.\n",
    "\n",
    "\n",
    "It is possible to coerce lots of different types to be `True` or `False` using the `bool()` function, but it is worth being able to predict what values it will return for simple cases to help you understand logic flow in other people's code and to make your own code more efficient and easier to read."
   ]
  },
  {
   "cell_type": "markdown",
   "metadata": {},
   "source": [
    "### Falsy Values\n",
    "\n",
    "  * Empty lists, sets, tuples, dicts, strings\n",
    "  * Zero values \"0\", \"0.0\", \"0j\"\n",
    "  * `False`\n",
    "  * `None`"
   ]
  },
  {
   "cell_type": "code",
   "execution_count": null,
   "metadata": {},
   "outputs": [],
   "source": [
    "bool(None)"
   ]
  },
  {
   "cell_type": "markdown",
   "metadata": {},
   "source": [
    "### Truthy Values\n",
    "\n",
    "  * Non-empty lists, sets, tuples, dicts, strings\n",
    "  * non-zero values\n",
    "  * `True`"
   ]
  },
  {
   "cell_type": "code",
   "execution_count": null,
   "metadata": {},
   "outputs": [],
   "source": [
    "bool(1)"
   ]
  },
  {
   "cell_type": "markdown",
   "metadata": {},
   "source": [
    "You can also combine boolean values as you would expect with the `and` and `or` keywords and you can invert a boolean condition with `not`.\n",
    "\n",
    "Try predicting the output of the cells below before running them"
   ]
  },
  {
   "cell_type": "code",
   "execution_count": 10,
   "metadata": {},
   "outputs": [
    {
     "name": "stdout",
     "output_type": "stream",
     "text": [
      "a\n"
     ]
    }
   ],
   "source": [
    "if (True or False):\n",
    "    print('a')\n",
    "else:\n",
    "    print('b')"
   ]
  },
  {
   "cell_type": "code",
   "execution_count": 11,
   "metadata": {},
   "outputs": [
    {
     "name": "stdout",
     "output_type": "stream",
     "text": [
      "1\n",
      "7\n",
      "-3\n",
      "-0.1\n"
     ]
    }
   ],
   "source": [
    "for i in [1, 7, 0, -3, -0.1]:\n",
    "    if i: print(i)"
   ]
  },
  {
   "cell_type": "code",
   "execution_count": 12,
   "metadata": {},
   "outputs": [
    {
     "name": "stdout",
     "output_type": "stream",
     "text": [
      "True\n"
     ]
    }
   ],
   "source": [
    "a = 3\n",
    "b = 14\n",
    "print( not ( not a == 3 or not b == 14) )"
   ]
  },
  {
   "cell_type": "code",
   "execution_count": 13,
   "metadata": {},
   "outputs": [
    {
     "name": "stdout",
     "output_type": "stream",
     "text": [
      "if x is not None\n"
     ]
    }
   ],
   "source": [
    "x = []\n",
    "if x: \n",
    "    print('if x') \n",
    "if x is not None: \n",
    "    print('if x is not None')"
   ]
  },
  {
   "cell_type": "code",
   "execution_count": 14,
   "metadata": {},
   "outputs": [
    {
     "name": "stdout",
     "output_type": "stream",
     "text": [
      "I found a ... dog\n",
      "I found something, but I think it might be nothing!\n",
      "I found a ... 13\n",
      "I found something, but I think it might be nothing!\n",
      "I found a ... -2\n",
      "I found a ... cat\n",
      "I found a ... 3\n",
      "I found a ... 1\n"
     ]
    }
   ],
   "source": [
    "myList = [1, 3, \"cat\", -2, None, 13, dict(), \"dog\"]\n",
    "\n",
    "while myList:\n",
    "    item = myList.pop()\n",
    "    if item:\n",
    "        print(f\"I found a ... {item}\")\n",
    "    else:\n",
    "        print(f\"I found something, but I think it might be nothing!\")\n"
   ]
  },
  {
   "cell_type": "markdown",
   "metadata": {},
   "source": [
    "## Indexing and Slicing\n",
    "\n",
    "Python indexing is very flexible and can help you solve lots of different kinds of problems. All collections in python support some notion of indexing, but we'll focus on numerical indexing (lists and tuples) for now and talk about hashes (dicts and sets) later. The advantage of numerical indexing is that the index values have a natural order ($0, 1,\\ldots, N-1$)."
   ]
  },
  {
   "cell_type": "code",
   "execution_count": 15,
   "metadata": {},
   "outputs": [
    {
     "data": {
      "text/plain": [
       "['a',\n",
       " 'b',\n",
       " 'c',\n",
       " 'd',\n",
       " 'e',\n",
       " 'f',\n",
       " 'g',\n",
       " 'h',\n",
       " 'i',\n",
       " 'j',\n",
       " 'k',\n",
       " 'l',\n",
       " 'm',\n",
       " 'n',\n",
       " 'o',\n",
       " 'p',\n",
       " 'q',\n",
       " 'r',\n",
       " 's',\n",
       " 't',\n",
       " 'u',\n",
       " 'v',\n",
       " 'w',\n",
       " 'x',\n",
       " 'y',\n",
       " 'z']"
      ]
     },
     "execution_count": 15,
     "metadata": {},
     "output_type": "execute_result"
    }
   ],
   "source": [
    "alphabet = [x for x in 'abcdefghijklmnopqrstuvwxyz']\n",
    "alphabet"
   ]
  },
  {
   "cell_type": "markdown",
   "metadata": {},
   "source": [
    "Python is \"zero indexed\"; the first position in an index is labeled by 0 and if the list is $N$ elements long, the last position will be labeled by $N-1$"
   ]
  },
  {
   "cell_type": "code",
   "execution_count": 17,
   "metadata": {},
   "outputs": [
    {
     "name": "stdout",
     "output_type": "stream",
     "text": [
      "Starting at 'a' and ending at 'z'\n"
     ]
    }
   ],
   "source": [
    "print(f\"Starting at '{alphabet[0]}' and ending at '{alphabet[len(alphabet) - 1]}'\")"
   ]
  },
  {
   "cell_type": "markdown",
   "metadata": {},
   "source": [
    "We can specify ranges (called slices) by separating the start and stop with a colon, but notice that the start value is _inclusive_ while the end value is _exclusive_."
   ]
  },
  {
   "cell_type": "code",
   "execution_count": 18,
   "metadata": {},
   "outputs": [
    {
     "name": "stdout",
     "output_type": "stream",
     "text": [
      "positions [1:5] give us ['b', 'c', 'd', 'e'] but position [5] is 'f'\n"
     ]
    }
   ],
   "source": [
    "print(f\"positions [1:5] give us {alphabet[1:5]} but position [5] is '{alphabet[5]}'\")"
   ]
  },
  {
   "cell_type": "markdown",
   "metadata": {},
   "source": [
    "If you omit the start index, python assumes you want to start at position 0. If you omit the stop index, it assumes you want the last element. You can also specify a \"stride\" length to select regular patterns of items (e.g. every 3rd letter)"
   ]
  },
  {
   "cell_type": "code",
   "execution_count": 22,
   "metadata": {},
   "outputs": [
    {
     "data": {
      "text/plain": [
       "['f', 'i', 'l', 'o']"
      ]
     },
     "execution_count": 22,
     "metadata": {},
     "output_type": "execute_result"
    }
   ],
   "source": [
    "alphabet[5:15:3]"
   ]
  },
  {
   "cell_type": "markdown",
   "metadata": {},
   "source": [
    "Python also lets you give negative numbers in any of the slice positions. In the start and stop positions, these are interpreted relative to the _end_ (-1 is the last element of the collection). For the stride position it means counting from the stop to the start position. The exclusive/inclusive behaviour still applies for a negative stride but it takes a little bit of getting used to!"
   ]
  },
  {
   "cell_type": "code",
   "execution_count": 24,
   "metadata": {},
   "outputs": [
    {
     "data": {
      "text/plain": [
       "['f', 'e', 'd', 'c', 'b']"
      ]
     },
     "execution_count": 24,
     "metadata": {},
     "output_type": "execute_result"
    }
   ],
   "source": [
    "alphabet[5:0:-1]"
   ]
  },
  {
   "cell_type": "code",
   "execution_count": 25,
   "metadata": {},
   "outputs": [
    {
     "data": {
      "text/plain": [
       "['q', 'r', 's', 't', 'u']"
      ]
     },
     "execution_count": 25,
     "metadata": {},
     "output_type": "execute_result"
    }
   ],
   "source": [
    "alphabet[-10:-5:1]"
   ]
  },
  {
   "cell_type": "code",
   "execution_count": 26,
   "metadata": {},
   "outputs": [
    {
     "data": {
      "text/plain": [
       "['v', 't', 'r']"
      ]
     },
     "execution_count": 26,
     "metadata": {},
     "output_type": "execute_result"
    }
   ],
   "source": [
    "alphabet[-5:-10:-2]"
   ]
  },
  {
   "cell_type": "markdown",
   "metadata": {},
   "source": [
    "## Regular Expressions\n",
    "\n",
    "A regular expressions is...\n",
    "\n",
    "> A sequence of characters that specifies a search pattern - _[Wikipedia: Regular Expression](https://en.wikipedia.org/wiki/Regular_expression)_\n",
    "\n",
    "Any time you are working with text where there is any sort of regularity or structure in the text, regular expressions can help you pick out the parts you need. [Python Regular Expressions](https://docs.python.org/3/howto/regex.html#) are implemented in the `re` module. At a very basic level, `re` can help you match explicit strings within blocks of text..."
   ]
  },
  {
   "cell_type": "code",
   "execution_count": 27,
   "metadata": {},
   "outputs": [
    {
     "data": {
      "text/plain": [
       "['in', 'in', 'in', 'in', 'in', 'in']"
      ]
     },
     "execution_count": 27,
     "metadata": {},
     "output_type": "execute_result"
    }
   ],
   "source": [
    "import re\n",
    "\n",
    "line = \"Of all the gin joints in all the towns in all the world, she walks into mine.\"\n",
    "\n",
    "x = re.findall('in', line)\n",
    "x"
   ]
  },
  {
   "cell_type": "markdown",
   "metadata": {},
   "source": [
    "But regular expressions can do a whole lot more. The basic idea is to use a special language to describe exactly what you are trying to find. Here is a simple example\n",
    "\n",
    "```\n",
    "^[A-Z]{1}[a-z]+\n",
    "```\n",
    "\n",
    "and here is how to interprete that specific regular expression (regex)\n",
    "\n",
    "  * The `^` at the beginning says to match the beginning of a line (first char)\n",
    "  * The `[A-Z]{1}` is a single instruction\n",
    "      * `[A-Z]` match any upper case letter from `A` to `Z`\n",
    "      * `{1}` match exactly 1 occurence of the preceeding item (1 upper case letter)\n",
    "  * `[a-z]+` matches one _or more_ occurrences of the letters `a` to `z` \n",
    "\n",
    "So this regex should be able to match a single (ascii) word at the beginning of a line which starts with a capital letter."
   ]
  },
  {
   "cell_type": "code",
   "execution_count": 29,
   "metadata": {},
   "outputs": [
    {
     "name": "stdout",
     "output_type": "stream",
     "text": [
      "On line matches <re.Match object; span=(0, 2), match='In'>\n",
      "On line matches <re.Match object; span=(30, 33), match='But'>\n",
      "On line matches None\n"
     ]
    }
   ],
   "source": [
    "dahl = \"\"\"\n",
    "In fairy-tales, witches always wear silly black hats and black coats,\n",
    "and they ride on broomsticks. But this is not a fairy-tale. This is \n",
    "about REAL WITCHES.\n",
    "\"\"\"\n",
    "\n",
    "for line, text in enumerate(dahl.strip().split('\\n')):\n",
    "    \n",
    "    matches = re.search(r'[A-Z]{1}[a-z]+', text)\n",
    "\n",
    "    print(f\"On line matches {matches}\")"
   ]
  },
  {
   "cell_type": "markdown",
   "metadata": {},
   "source": [
    "In addition to just telling you if it finds a match to your regular expression, the `re` module can help you extract the specific text which matched and use it in your code. This is called [match grouping](https://docs.python.org/3/howto/regex.html#grouping) and to use it, you surround the items you want to extract with parentheses"
   ]
  },
  {
   "cell_type": "code",
   "execution_count": 32,
   "metadata": {},
   "outputs": [
    {
     "name": "stdout",
     "output_type": "stream",
     "text": [
      "Kiesenhofer finished in 3:52:45 from AUT\n",
      "Vleuten finished in 3:54:00 from NED\n",
      "Borghini finished in 3:54:14 from ITA\n"
     ]
    }
   ],
   "source": [
    "race = [\n",
    "    \"Kiesenhofer AUT  3:52:45\",\n",
    "    \"Vleuten     NED  3:54:00\",\n",
    "    \"Borghini    ITA  3:54:14\"\n",
    "]\n",
    "\n",
    "m = re.compile('^([A-Z]{1}[a-z]+)\\s+([A-Z]{3})\\s+(\\d{1,2}\\:\\d{1,2}\\:\\d{1,2})$')\n",
    "\n",
    "for cyclist in race:\n",
    "    name, country, time = m.match(cyclist).groups()\n",
    "    print(f\"{name} finished in {time} from {country}\")"
   ]
  },
  {
   "cell_type": "markdown",
   "metadata": {},
   "source": [
    "Another handy trick with grouping is to assign names to the match groups. The basic syntax looks like `(?P<name>[A-Z]{1}[a-z]+)` but see the [named groups documentation](https://docs.python.org/3/howto/regex.html#non-capturing-and-named-groups) for more details."
   ]
  },
  {
   "cell_type": "markdown",
   "metadata": {},
   "source": [
    "#### Tips\n",
    "\n",
    "Constructing regex's can be a bit of an art form and the final expressions _can_ become hard to read (even when you are the person who wrote them!). All I can say is it is worth slowing down, reading and reading them carefully. Once you've broken them down into components they become much more digestible and the rewards you will get from being able to wield regex's far outweigh the difficulty in learning them.\n",
    "\n",
    "* The [Python Regex Documentation](https://docs.python.org/3/howto/regex.html#) is very good\n",
    "* Make sure you understand the difference between `re.search`, `re.match`, `re.findall`\n",
    "* [pythex.org](pythex.org) is a very handy website which lets you put in your regular expression and a test string. It'll show you the results and explain how it used your regex to get them with syntax highlighting. If you stumble across an unreadable regex in the wild, [pythex.org](pythex.org) can be a handy first step in understanding it.\n",
    "* If there is _even more_ structure in your data (e.g. a CSV), then regex's might _not_ be the answer, in that case modules like pandas can do all of your regexes and matching for you."
   ]
  },
  {
   "cell_type": "markdown",
   "metadata": {},
   "source": [
    "## Hashes and Collections\n",
    "\n",
    "In addition to lists, Python provides two main types of unordered collection, dictionaries and sets. Technically, since Python 3.7 dictionaries are now ordered, but for the most part it is better to think of them as a unsorted hash of `key`:`value` pairs. Together with a few basic algorithms, hashes can get you quite far with a huge proportion of real world problems. We'll assume that you are very familiar with dictionaries, but the Python standard library includes the [collections module](https://docs.python.org/3/library/collections.html) which adds some useful variations.\n",
    "\n",
    "  * namedtuple: Like a tuple, but with names!\n",
    "  * dequeue: A list like container with fast appends and pops\n",
    "  * Chainmap: Combine several dictionaries\n",
    "  * Counter: Turns an iterable into a dictionary of keys and value counts\n",
    "  * defaultdict: Like a dictionary but works with missing values\n",
    "  * UserDict, UserList, UserString: Subclasses of existing collections\n",
    "  \n",
    "We'll only look at Counter for now, but they are all worth playing with\n"
   ]
  },
  {
   "cell_type": "markdown",
   "metadata": {},
   "source": [
    "### Counter\n",
    "\n",
    "Counter is a subclass of dictionary, but it adds some really useful functionality around tracking occurrences."
   ]
  },
  {
   "cell_type": "code",
   "execution_count": 33,
   "metadata": {},
   "outputs": [
    {
     "data": {
      "text/plain": [
       "[(' ', 8),\n",
       " ('e', 6),\n",
       " ('n', 4),\n",
       " ('t', 3),\n",
       " ('h', 3),\n",
       " ('a', 3),\n",
       " ('w', 2),\n",
       " ('s', 2),\n",
       " ('i', 2),\n",
       " ('m', 2),\n",
       " ('l', 1),\n",
       " ('p', 1),\n",
       " ('d', 1),\n",
       " ('o', 1),\n",
       " ('c', 1),\n",
       " ('b', 1),\n",
       " ('g', 1),\n",
       " ('y', 1),\n",
       " ('u', 1)]"
      ]
     },
     "execution_count": 33,
     "metadata": {},
     "output_type": "execute_result"
    }
   ],
   "source": [
    "from collections import Counter\n",
    "\n",
    "message = \"we slept in what had once been the gymnasium\"\n",
    "\n",
    "letter_count = Counter(message)\n",
    "letter_count.most_common()"
   ]
  },
  {
   "cell_type": "markdown",
   "metadata": {},
   "source": [
    "I mostly can't shut up about `Counter` because of the embarassingly many times I (badly) implemented this functionality in my own code before finding it."
   ]
  },
  {
   "cell_type": "markdown",
   "metadata": {},
   "source": [
    "## Problems\n",
    "\n",
    "The problems for this session use the modules described above:\n",
    "\n",
    "  * [Problem 1: Password validation](./Problem1.ipynb)\n",
    "  * [Problem 2: Survey Results](./Problem2.ipynb)"
   ]
  }
 ],
 "metadata": {
  "kernelspec": {
   "display_name": "Python 3",
   "language": "python",
   "name": "python3"
  },
  "language_info": {
   "codemirror_mode": {
    "name": "ipython",
    "version": 3
   },
   "file_extension": ".py",
   "mimetype": "text/x-python",
   "name": "python",
   "nbconvert_exporter": "python",
   "pygments_lexer": "ipython3",
   "version": "3.8.6"
  }
 },
 "nbformat": 4,
 "nbformat_minor": 4
}
