{
 "cells": [
  {
   "cell_type": "markdown",
   "metadata": {},
   "source": [
    "## Problem 1: Password Validation\n",
    "\n",
    "> N.B. This problem is a tweak of [Advent of Code 2020, problem 2](https://adventofcode.com/2020/day/2).\n",
    "\n",
    "You have been given the [password file](https://m2pi.syzygy.ca/data/day_2.txt) of a group of users and asked to validate the entries. Here are some sample entries...\n",
    "\n",
    "```\n",
    "1-9 a: asjuaycbnwo\n",
    "3-7 c: qohnfbyvdvxb\n",
    "5-7 j: abnkjahajjay\n",
    "3-6 p: papvmnnapa\n",
    "1-5 n: nannanuuanyn\n",
    "```\n",
    "\n",
    "Each line consists 3 fields and represents a single password entry. The questions below explain how you should interprete the various fields and use them to validate the passwords.\n",
    "\n",
    "### Question 1.1\n",
    "The password itself is given in the third field. The second field (`a:` in the first line) represents a character which we expect to find in the password. The first field represents the minimum and maximum number of occurrences of that character which are needed to satisfy our policy. For example, the first line says that the password is `asjuaycbnwo` and that we expect to find between 1 and 9 (inclusive) occurrences of the letter `a` in that password. Given those rules we have\n",
    "\n",
    "```\n",
    "1-9 a: asjuaycbnwo   # VALID   2 occurences of \"a\" (1 <= 2 <= 9)\n",
    "3-7 c: qohnfbyvdvxb  # INVALID 0 occurences of \"c\" (0 < 3)\n",
    "5-7 j: abnkhajajjay  # INVALID 3 occurences of \"j\" (3 < 5)\n",
    "3-6 p: papvmnnapa    # VALID   3 occurences of \"p\" (3<= 3 <= 6)\n",
    "1-5 n: nannnnuuanyn  # INVALID 7 occurences of \"n\" (7 > 5)\n",
    "```\n",
    "\n",
    "Given these rules, what is the total number of valid passwords in the file?"
   ]
  },
  {
   "cell_type": "markdown",
   "metadata": {},
   "source": [
    "### Hints (click ... to expand)"
   ]
  },
  {
   "cell_type": "code",
   "execution_count": 1,
   "metadata": {},
   "outputs": [
    {
     "data": {
      "text/plain": [
       "['15-19 k: kkkkkkkkkkkkzkkkkkkk',\n",
       " '1-11 s: sbssswsqsssssrlss',\n",
       " '8-9 b: pbbbbbbkbz',\n",
       " '4-10 w: wwccwcqwdmbktjrxhw',\n",
       " '1-6 x: jvscgqsnt',\n",
       " '1-7 x: xxxxxxcx',\n",
       " '6-10 s: smssssfskssdwvtcss',\n",
       " '6-12 q: qqqqzqqjqfqdqq',\n",
       " '3-7 d: ddwbzbf',\n",
       " '12-14 s: ssdssssssssmsq']"
      ]
     },
     "execution_count": 1,
     "metadata": {},
     "output_type": "execute_result"
    }
   ],
   "source": [
    "# Use requests to read the file over HTTP - avoids downloading & uploading\n",
    "import requests\n",
    "\n",
    "try:\n",
    "    r = requests.get('https://m2pi.syzygy.ca/data/day_2.txt')\n",
    "    r.raise_for_status()\n",
    "except Exception as err:\n",
    "    print(f'Unable to retrieve passwords: {err}')\n",
    "\n",
    "lines = r.text.strip().split('\\n')\n",
    "lines[:10]"
   ]
  },
  {
   "cell_type": "markdown",
   "metadata": {},
   "source": [
    "### Answer (click ... to expand)"
   ]
  },
  {
   "cell_type": "markdown",
   "metadata": {},
   "source": [
    "There are 655 VALID passwords and 345 invalid passwords in the file"
   ]
  },
  {
   "cell_type": "markdown",
   "metadata": {},
   "source": [
    "### Solution (click ... to expand)"
   ]
  },
  {
   "cell_type": "code",
   "execution_count": 12,
   "metadata": {},
   "outputs": [
    {
     "name": "stdout",
     "output_type": "stream",
     "text": [
      "655 VALID passwords (345 INVALID)\n"
     ]
    }
   ],
   "source": [
    "# Named Regular Expressions let us describe the pattern\n",
    "# and access matches by name.\n",
    "\n",
    "pwre = re.compile(\n",
    "    '(?P<chmin>\\d+)-(?P<chmax>\\d+) (?P<ch>[a-z]): (?P<pw>[a-z]+)'\n",
    ")\n",
    "\n",
    "valid_pw = 0\n",
    "\n",
    "for line in lines:\n",
    "    \n",
    "    m = pwre.match(line).groupdict()\n",
    "    m['chmin'], m['chmax'] = int(m['chmin']), int(m['chmax'])\n",
    "\n",
    "    occurrences = len(re.findall(m['ch'], m['pw']))\n",
    "    if (m['chmin'] <= occurrences <= m['chmax']):\n",
    "        valid_pw += 1\n",
    "\n",
    "print(f\"{valid_pw} VALID passwords ({len(lines) - valid_pw} INVALID)\")"
   ]
  },
  {
   "cell_type": "markdown",
   "metadata": {},
   "source": [
    "### Question 1.2\n",
    "Part two of this problem says that the schema was misinterpreted in part 1. Actually, the first token on each line should be interpretated as positions in the password string (indexed from 1!) and that the given character should occur **exactly** once in those positions. Recycling our examples from above\n",
    "\n",
    "```\n",
    "1-9 a: asjuaycbnwo  # VALID \"a\" occurs in position 1\n",
    "3-7 c: qohnfbyvdvxb # INVALID \"c\" does not occur in position 3 or 7\n",
    "5-7 j: abnkhajajjay # VALID \"j\" occurs in position 7\n",
    "3-6 p: papvmnnapa   # VALID \"p\" occurs in position 3\n",
    "1-5 n: nannnnuuanyn # INVALID \"n\" occurs in position 1 and position 5\n",
    "```"
   ]
  },
  {
   "cell_type": "markdown",
   "metadata": {},
   "source": [
    "### Hints 1.2 (click ... to expand)"
   ]
  },
  {
   "cell_type": "markdown",
   "metadata": {},
   "source": [
    "* Pay attention to the index start value. The schema indexes from 1, python usually indexes from 0\n"
   ]
  },
  {
   "cell_type": "markdown",
   "metadata": {},
   "source": [
    "### Answer 1.2 (click ... to expand)"
   ]
  },
  {
   "cell_type": "markdown",
   "metadata": {},
   "source": [
    "673 VALID entries, 327 INVALID"
   ]
  },
  {
   "cell_type": "markdown",
   "metadata": {},
   "source": [
    "### Solution 1.2 (click ... to expand)"
   ]
  },
  {
   "cell_type": "code",
   "execution_count": 13,
   "metadata": {},
   "outputs": [
    {
     "name": "stdout",
     "output_type": "stream",
     "text": [
      "673 VALID passwords (327 INVALID)\n"
     ]
    }
   ],
   "source": [
    "# We use match.groups() so we don't have to deal with too many levels of dict keys this time\n",
    "\n",
    "valid_pw = 0\n",
    "for line in lines:\n",
    "    chmin, chmax, ch, pw = pwre.match(line).groups()\n",
    "    chmin, chmax = int(chmin), int(chmax)\n",
    "    if (pw[chmin - 1] == ch) ^ (pw[chmax - 1] == ch):\n",
    "        valid_pw += 1\n",
    "        \n",
    "print(f\"{valid_pw} VALID passwords ({len(lines) - valid_pw} INVALID)\")"
   ]
  },
  {
   "cell_type": "code",
   "execution_count": null,
   "metadata": {},
   "outputs": [],
   "source": []
  }
 ],
 "metadata": {
  "kernelspec": {
   "display_name": "Python 3",
   "language": "python",
   "name": "python3"
  },
  "language_info": {
   "codemirror_mode": {
    "name": "ipython",
    "version": 3
   },
   "file_extension": ".py",
   "mimetype": "text/x-python",
   "name": "python",
   "nbconvert_exporter": "python",
   "pygments_lexer": "ipython3",
   "version": "3.8.6"
  }
 },
 "nbformat": 4,
 "nbformat_minor": 4
}
