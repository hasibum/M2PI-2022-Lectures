{
 "cells": [
  {
   "cell_type": "markdown",
   "metadata": {},
   "source": [
    "## Problem 2: Survey Results\n",
    "\n",
    "> This problem is a tweak of [Advent of Code 2020 problem 6](https://adventofcode.com/2020/day/6).\n",
    "\n",
    "People have been asked to answer yes or no to a list of 26 questions (labeled 'a', 'b', ... 'z'). The responses are recorded in [this text file](https://m2pi.syzygy.ca/data/day_6.txt) by noting down the label of each question for which the response was \"yes\". For example, responses for three people might look like\n",
    "```\n",
    "afuy\n",
    "rz\n",
    "aypq\n",
    "```\n",
    "You should interprete these records as saying the first person has answered yes to questions `a`, `f`, `u` and `y`. The second answered yes to `r` and `z` etc. We assume that everyone answered yes to at least one question.\n",
    "\n",
    "Each line represents the response of a single person, but we will also be asked to look at the responses of _groups_ of people. In the file, each group is separated by a single blank line. Extending our example from above...\n",
    "```\n",
    "afuy\n",
    "rz\n",
    "aypq\n",
    "\n",
    "anqvz\n",
    "\n",
    "bchklp\n",
    "bnrt\n",
    "```\n",
    "represents 3 groups. The second group has one member and the third has two members."
   ]
  },
  {
   "cell_type": "markdown",
   "metadata": {},
   "source": [
    "### Question 2.1\n",
    "\n",
    "Count the number of questions answered \"yes\" by each **group**. Duplicate answers are only counted once e.g. For the first group the answer should be 8 (`a` and `y` appear twice but we only count them once)."
   ]
  },
  {
   "cell_type": "markdown",
   "metadata": {},
   "source": [
    "### Hints 2.1 (click ... to expand)"
   ]
  },
  {
   "cell_type": "markdown",
   "metadata": {
    "jupyter": {
     "source_hidden": true
    }
   },
   "source": [
    "* Split the entries into groups based on the newline pattern (`\\n\\n`)\n",
    "* You can use `set` to help with duplicates"
   ]
  },
  {
   "cell_type": "markdown",
   "metadata": {},
   "source": [
    "### Answer 2.1 (click ... to expand)"
   ]
  },
  {
   "cell_type": "markdown",
   "metadata": {
    "jupyter": {
     "source_hidden": true
    }
   },
   "source": [
    "6249\n",
    "\n"
   ]
  },
  {
   "cell_type": "markdown",
   "metadata": {},
   "source": [
    "### Solution 2.1 (click ... to expand)"
   ]
  },
  {
   "cell_type": "code",
   "execution_count": null,
   "metadata": {
    "jupyter": {
     "source_hidden": true
    }
   },
   "outputs": [],
   "source": [
    "import re\n",
    "import requests\n",
    "\n",
    "try:\n",
    "    r = requests.get('https://m2pi.syzygy.ca/data/day_6.txt')\n",
    "    r.raise_for_status()\n",
    "except Exception as err:\n",
    "    print(f'Unable to retrieve passwords: {err}')\n",
    "\n",
    "group_answers = r.text.strip().split('\\n\\n')\n",
    "group_answers[:10]\n"
   ]
  },
  {
   "cell_type": "code",
   "execution_count": null,
   "metadata": {
    "jupyter": {
     "source_hidden": true
    }
   },
   "outputs": [],
   "source": [
    "total_yes = 0\n",
    "for group in group_answers:\n",
    "    total_yes += len(set(group.replace('\\n', '')))\n",
    "    \n",
    "print(f\"{total_yes} questions answered YES\")"
   ]
  },
  {
   "cell_type": "markdown",
   "metadata": {},
   "source": [
    "### Question 2.2\n",
    "\n",
    "In part 2 of this problem, we are told to count the total number of questions for which all participants in a group answered yes. For our example\n",
    "above...\n",
    "```\n",
    "afuy\n",
    "rz\n",
    "aypq\n",
    "\n",
    "anqvz\n",
    "\n",
    "bchklp\n",
    "bnrt\n",
    "```\n",
    "The total for the first group would be 0 (no letter appears in all three lines). The total for the second group would be 5 because the group size is 1 `a`, `n`, `q`, `v`, `z` all appear once. The total for the third group would be 1 since `b` is the only letter which appears on all lines."
   ]
  },
  {
   "cell_type": "markdown",
   "metadata": {},
   "source": [
    "### Hints 2.1 (click ... to expand)"
   ]
  },
  {
   "cell_type": "markdown",
   "metadata": {
    "jupyter": {
     "source_hidden": true
    }
   },
   "source": [
    "* I found `Counter` useful for this one\n",
    "\n",
    "```python\n",
    "from collections import Counter\n",
    "```"
   ]
  },
  {
   "cell_type": "markdown",
   "metadata": {},
   "source": [
    "### Answer 2.1 (click ... to expand)"
   ]
  },
  {
   "cell_type": "markdown",
   "metadata": {
    "jupyter": {
     "source_hidden": true
    }
   },
   "source": [
    "\n",
    "3103"
   ]
  },
  {
   "cell_type": "markdown",
   "metadata": {},
   "source": [
    "### Solution 2.1 (click ... to expand)"
   ]
  },
  {
   "cell_type": "markdown",
   "metadata": {
    "jupyter": {
     "source_hidden": true
    }
   },
   "source": [
    "Matt presented a solution which uses sets and intersections to solve this one. Python sets have an intersect method on set objects, but you can also pass an arbitrary number of sets to the `set.intersection` class method which will show you the elements common to all of the arguments. For example"
   ]
  },
  {
   "cell_type": "code",
   "execution_count": null,
   "metadata": {
    "jupyter": {
     "source_hidden": true
    }
   },
   "outputs": [],
   "source": [
    "set.intersection({1, 2, 3}, {2, 3}, {2, 4})"
   ]
  },
  {
   "cell_type": "markdown",
   "metadata": {
    "jupyter": {
     "source_hidden": true
    }
   },
   "source": [
    "The question asks us to count the number of times _everyone_ in a group answered yes to the same question. Once we have split the responses into groups, we can split those groups into individual responses and look at the set intersections for each group. "
   ]
  },
  {
   "cell_type": "code",
   "execution_count": null,
   "metadata": {
    "jupyter": {
     "source_hidden": true
    }
   },
   "outputs": [],
   "source": [
    "[set(x) for x in group.split('\\n')]"
   ]
  },
  {
   "cell_type": "markdown",
   "metadata": {
    "jupyter": {
     "source_hidden": true
    }
   },
   "source": [
    "`set.intersection` expects two or more `set` objects as arguments. The list comprehension above provides a list but we can use the [iterable unpacking operator](https://www.python.org/dev/peps/pep-0448/), `*` to provide an iterable of set objects"
   ]
  },
  {
   "cell_type": "code",
   "execution_count": null,
   "metadata": {
    "jupyter": {
     "source_hidden": true
    }
   },
   "outputs": [],
   "source": [
    "len(set.intersection(*[set(x) for x in group.split('\\n')]))"
   ]
  },
  {
   "cell_type": "markdown",
   "metadata": {
    "jupyter": {
     "source_hidden": true
    }
   },
   "source": [
    "That is the answer for 1 group so all we need to do now is sum over groups"
   ]
  },
  {
   "cell_type": "code",
   "execution_count": null,
   "metadata": {
    "jupyter": {
     "source_hidden": true
    }
   },
   "outputs": [],
   "source": [
    "sum([len(set.intersection(*[set(x) for x in group.split('\\n')])) for group in group_answers])"
   ]
  },
  {
   "cell_type": "markdown",
   "metadata": {
    "jupyter": {
     "source_hidden": true
    }
   },
   "source": [
    "Another solution is to use the `Counter` object from collections. Both solutions will provide the same answer but I think the solution above using `set.intersection` is more elegant and should probably be preferred."
   ]
  },
  {
   "cell_type": "code",
   "execution_count": null,
   "metadata": {
    "jupyter": {
     "source_hidden": true
    }
   },
   "outputs": [],
   "source": [
    "from collections import Counter\n",
    "\n",
    "all_yes = 0\n",
    "for answers in group_answers:\n",
    "    all_yes += sum([x == len(answers.strip().split('\\n')) for x in Counter(answers.replace('\\n','')).values()])\n",
    "    \n",
    "print(f\"{all_yes} questions where all group memebers answered YES\")"
   ]
  }
 ],
 "metadata": {
  "kernelspec": {
   "display_name": "Python 3",
   "language": "python",
   "name": "python3"
  },
  "language_info": {
   "codemirror_mode": {
    "name": "ipython",
    "version": 3
   },
   "file_extension": ".py",
   "mimetype": "text/x-python",
   "name": "python",
   "nbconvert_exporter": "python",
   "pygments_lexer": "ipython3",
   "version": "3.8.6"
  }
 },
 "nbformat": 4,
 "nbformat_minor": 4
}
