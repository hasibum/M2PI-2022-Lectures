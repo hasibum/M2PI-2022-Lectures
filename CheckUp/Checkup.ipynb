{
 "cells": [
  {
   "cell_type": "markdown",
   "metadata": {},
   "source": [
    "## Python\n",
    "\n",
    "Python was originally built as a teaching tool but it has evolved over time into one of the most popular general purpose programming languages and the defacto default for data-science. It's original roots as a training tool are still evident though, it is easy to learn, forgiving of errors and (generally) intiutive.\n",
    "\n",
    "In advance of the workshop, we asked you to look at a few learning resources to brush up on your python skills\n",
    "\n",
    "  * [Codeacademy](https://www.codecademy.com/learn/learn-python)\n",
    "  * [Google's Python Class](https://developers.google.com/edu/python/)\n",
    "  * [Learnpython.org](http://learnpython.org/)\n",
    "  \n",
    "There are lots of (free!) resources for learning python and we can't possibly hope to cover more than the basics and a few highlights during the workshop. That said, one of the skills we _would_ like you to pick up is the ability to find these resources on your own so when the time comes to learn the latest and greatest AI tools you can find the right tutorials and documentation and dive in for yourself.\n",
    "\n",
    "Below we'll run through some basic exercises with Python to get an idea of what you are comfortable with. If you find we are going too slow, please feel free to step out and do something more productive with your time. If you find we're going to fast please feel free to ask questions or stop and investigate areas on your own. As I said above, Python is a very forgiving language and you can pick it up however you choose to go."
   ]
  },
  {
   "cell_type": "markdown",
   "metadata": {},
   "source": [
    "## Basic Syntax\n",
    "\n",
    "The python assignment operator is `=`. Python is dynamically typed"
   ]
  },
  {
   "cell_type": "code",
   "execution_count": null,
   "metadata": {},
   "outputs": [],
   "source": [
    "a = 1\n",
    "a = \"lemon\""
   ]
  },
  {
   "cell_type": "markdown",
   "metadata": {},
   "source": [
    "It supports a notion of multiple assignment via the `,` "
   ]
  },
  {
   "cell_type": "code",
   "execution_count": null,
   "metadata": {},
   "outputs": [],
   "source": [
    "a, b, c, _ = (1, 2, 3, 4)"
   ]
  },
  {
   "cell_type": "markdown",
   "metadata": {},
   "source": [
    "`_` is a valid name in Python, but [IPython actually uses it as well](https://ipython.readthedocs.io/en/stable/interactive/reference.html?highlight=underscore#output-caching-system)"
   ]
  },
  {
   "cell_type": "code",
   "execution_count": null,
   "metadata": {},
   "outputs": [],
   "source": [
    "s = (1, 2, 6, 7)"
   ]
  },
  {
   "cell_type": "markdown",
   "metadata": {},
   "source": [
    "Python supports sequence assignments. If the thing on the RHS ican be considered a sequence, then you can "
   ]
  },
  {
   "cell_type": "code",
   "execution_count": null,
   "metadata": {},
   "outputs": [],
   "source": [
    "a, b, c, _ = s"
   ]
  },
  {
   "cell_type": "markdown",
   "metadata": {},
   "source": [
    "Since `=` is used for assignment, we need another operator for equality, python uses `==`. There is also an `is` keyword which does something related but subtly different\n"
   ]
  },
  {
   "cell_type": "code",
   "execution_count": null,
   "metadata": {},
   "outputs": [],
   "source": [
    "a = 3\n",
    "b = 3.0\n",
    "a == b"
   ]
  },
  {
   "cell_type": "code",
   "execution_count": null,
   "metadata": {},
   "outputs": [],
   "source": [
    "a is b"
   ]
  },
  {
   "cell_type": "markdown",
   "metadata": {},
   "source": [
    "Python has the familiary arithmetic operators (`+`, `-`, `*`, `**`, `/`, `//`, `%`). In general these are overloaded and can do something sensible with lots of different types (e.g. `*` will repeat strings). There are also bitwise operators like `>>`, `&`, `|` etc. and convenience functions (`hex`, `bin`, `int`, `abs`, `round` etc.). In general python follows C-style operator precedence, but if in doubt add parentheses."
   ]
  },
  {
   "cell_type": "markdown",
   "metadata": {},
   "source": [
    "## Types\n",
    "\n",
    "  * Numbers (ints, floats, Fractions, Decimals, ...)\n",
    "  * Strings (unicode, indexing, slicing, `.upper()`, `.join`, `.strip()`, `.startswith()`\n",
    "  * Files (modes, `.read()`, `.readline()`, `.close()`, `with` keyword)\n",
    "  * Collections\n",
    "    * Lists (ordered, index, slice, `.append`, `.pop`, `.reverse`)\n",
    "    * Dictionaries (`for k, v in D.items()`)\n",
    "    * Tuples (immutable)\n",
    "    * Sets (unique entries - see also [Collections in the Standard Library](https://docs.python.org/3/library/collections.html)\n"
   ]
  },
  {
   "cell_type": "markdown",
   "metadata": {},
   "source": [
    "### Conditionals\n",
    "\n",
    "The most common conditional statements in python are made up of the `if`, `elif` and `else` keywords."
   ]
  },
  {
   "cell_type": "code",
   "execution_count": null,
   "metadata": {},
   "outputs": [],
   "source": [
    "a = 5\n",
    "if a < 4:\n",
    "    print(\"A is less than 4\")\n",
    "elif a == 4:\n",
    "    print(\"A is equal to 4\")\n",
    "else:\n",
    "    print(\"A is greater than 4\")"
   ]
  },
  {
   "cell_type": "markdown",
   "metadata": {},
   "source": [
    "There is a ternary operator for short statements"
   ]
  },
  {
   "cell_type": "code",
   "execution_count": null,
   "metadata": {},
   "outputs": [],
   "source": [
    "e = a if b < c else b"
   ]
  },
  {
   "cell_type": "markdown",
   "metadata": {},
   "source": [
    "Python has quite a broad notion of what is considered `True` or `False`, we can look at that later. To implement more complicated logic, you can nest `if` statements. You can also use the `and`, `not` and `or` keyword."
   ]
  },
  {
   "cell_type": "code",
   "execution_count": 8,
   "metadata": {},
   "outputs": [],
   "source": [
    "if a > 4 and a < 6:\n",
    "    if a == 5:\n",
    "        print(\"A is 5\")"
   ]
  },
  {
   "cell_type": "markdown",
   "metadata": {},
   "source": [
    "#### Exercises\n",
    "\n",
    "1. Given the edges of a triangled labled `a`, `b` and `c`, write a conditional test to say whether a triangle is equilateral, isoceles or scalene\n",
    "1. Given the following rubric assign test the value of a variable called grade and assign a letter grade\n",
    "  * A: grade > 80\n",
    "  * B: 70 < grade <= 80\n",
    "  * C: 60 < grade <= 70\n",
    "  * D: grade <= 60"
   ]
  },
  {
   "cell_type": "markdown",
   "metadata": {},
   "source": [
    "## Loops\n",
    "\n",
    "Python has two main types of loop, `while` and `for`.\n",
    "\n",
    "### `while` loops\n",
    "Evaluate the condition at the top of the loop and if it is true, execute the body of the statement, if not go to the next statement\n"
   ]
  },
  {
   "cell_type": "code",
   "execution_count": null,
   "metadata": {},
   "outputs": [],
   "source": [
    "a = 0\n",
    "while True:\n",
    "    a = a + 1\n",
    "    if a > 10:\n",
    "        break\n",
    "    print(a)"
   ]
  },
  {
   "cell_type": "markdown",
   "metadata": {},
   "source": [
    "In this case, `True` is always `True` so we use the `break` to tell the loop when we are done. There is also a `continue` statement for flow control inside loops, take a look at `help('continue')`,"
   ]
  },
  {
   "cell_type": "markdown",
   "metadata": {},
   "source": [
    "### `for` loops\n",
    "\n",
    "`for` loops are very common in python and similar to those in other languages. Once nice tweak in python is that the for loop can interate over any sequence"
   ]
  },
  {
   "cell_type": "code",
   "execution_count": null,
   "metadata": {},
   "outputs": [],
   "source": [
    "for animal in ['cat', 'dog', 'elephant']:\n",
    "    print(animal, len(animal))"
   ]
  },
  {
   "cell_type": "code",
   "execution_count": null,
   "metadata": {},
   "outputs": [],
   "source": [
    "for i in range(10):\n",
    "    print(i, i**2)"
   ]
  },
  {
   "cell_type": "markdown",
   "metadata": {},
   "source": [
    "#### Exercises\n",
    "\n",
    "1. Make a for loop printing the odd numbers from 1 to 99\n",
    "1. Use nested for loops to print all of the items in this list individually\n"
   ]
  },
  {
   "cell_type": "markdown",
   "metadata": {},
   "source": [
    "#### Comprehensions\n",
    "\n",
    "When the loop body is small and simple, you can also use a list comprehension in place of a for loop. Once you get used to the syntax these are very handy, but they can make your code a bit harder for newcomers to follow and it is easy to get carried away so use them sparingly. The syntax is\n",
    "\n",
    "```python\n",
    "[<statement in x> for x in <list>]\n",
    "```\n",
    "\n",
    "and it will generate a list of the values of <statement in x>. Actually you can include an optional if statement after the <list> to filter the list but again it's best to keep list comprehensions short and simple."
   ]
  },
  {
   "cell_type": "code",
   "execution_count": null,
   "metadata": {},
   "outputs": [],
   "source": [
    "[x for x in range(1, 100) if x % 3 == 0]"
   ]
  },
  {
   "cell_type": "markdown",
   "metadata": {},
   "source": [
    "But you can also do the same trick with dictionaries"
   ]
  },
  {
   "cell_type": "code",
   "execution_count": null,
   "metadata": {},
   "outputs": [],
   "source": [
    "{f\"{x}^2\": x**2 for x in range(10)}"
   ]
  },
  {
   "cell_type": "markdown",
   "metadata": {},
   "source": [
    "## Functions\n",
    "\n",
    "Functions let you encapsulate and reuse logic. To define a function in python you use the `def` keyword.\n",
    "\n",
    "Typical form\n",
    "```python\n",
    "def <name>(arguments):\n",
    "    <statements>\n",
    "    return <object>\n",
    "```\n",
    "\n",
    "Basically, `def` is assiging that executable code to the name `<name>`."
   ]
  },
  {
   "cell_type": "code",
   "execution_count": null,
   "metadata": {},
   "outputs": [],
   "source": [
    "def double(x):\n",
    "    return 2 * x\n",
    "\n",
    "double(3)"
   ]
  },
  {
   "cell_type": "markdown",
   "metadata": {},
   "source": [
    "Adding more arguments is easy"
   ]
  },
  {
   "cell_type": "code",
   "execution_count": null,
   "metadata": {},
   "outputs": [],
   "source": [
    "def multiplyby(x, n):\n",
    "    return x * n\n",
    "\n",
    "multiplyby(5, 2)"
   ]
  },
  {
   "cell_type": "markdown",
   "metadata": {},
   "source": [
    "The arguments and return value(s) don't have to be simple types..."
   ]
  },
  {
   "cell_type": "code",
   "execution_count": null,
   "metadata": {},
   "outputs": [],
   "source": [
    "multiplyby(\"hip hip, \",3)\n"
   ]
  },
  {
   "cell_type": "markdown",
   "metadata": {},
   "source": [
    "#### Exercises\n",
    "\n",
    "1. Write a function which takes two strings as it's arguments and returns a tuple where the first item is both strings concatenated and the second is their combined length\n",
    "1. Write a function which takes a list of numbers and returns the max and min of the elements"
   ]
  },
  {
   "cell_type": "markdown",
   "metadata": {},
   "source": [
    "### Scope\n",
    "Python uses namespaces to keep variables from colobbering one another and to make modules and code more portable. For example, when you define $\\pi = 3$ you don't want the value defined in the scipy module to clobber it. With namespacing you can safely set the variable x in two different contexts and have them not interfere with each other. When you want to have them interfere with each other, you have to understand the heirarchy of namespaces that python defines (the scope of the name x).\n",
    "\n",
    "The basic heirarchy is something like this...\n",
    "* **B**uilt in: e.g KeyWords open, range, ...\n",
    "  * **G**lobal (module): Things at the top level of a module e.g. random inside numpy\n",
    "    * **E**nclosing function locals\n",
    "      * **L**ocal (function): names assigned within a function and not set global\n",
    "\n",
    "The further down that list you go, the more specific the name is and the idea is that the most specific should win (like CSS etc.). It is usally referred to as the LEGB rule. As an example, if I do from numpy import random, then define random as a variable, my definition \"wins\""
   ]
  },
  {
   "cell_type": "code",
   "execution_count": null,
   "metadata": {},
   "outputs": [],
   "source": [
    "from numpy import random\n",
    "random=3\n",
    "random"
   ]
  },
  {
   "cell_type": "markdown",
   "metadata": {},
   "source": [
    "Sometimes you might want need to access a variable from one of the outer scopes, you can do this as with the global keyword as follows\n",
    "\n"
   ]
  },
  {
   "cell_type": "code",
   "execution_count": null,
   "metadata": {},
   "outputs": [],
   "source": [
    "x = 3\n",
    "def increment_x():\n",
    "    x = 0\n",
    "    x += 1\n",
    "\n",
    "increment_x()\n",
    "print(x)"
   ]
  },
  {
   "cell_type": "code",
   "execution_count": null,
   "metadata": {},
   "outputs": [],
   "source": [
    "x = 3\n",
    "def increment_x():\n",
    "    global x\n",
    "    x += 1\n",
    "increment_x()\n",
    "print(x)"
   ]
  },
  {
   "cell_type": "markdown",
   "metadata": {},
   "source": [
    "Python also has the idea of lambda functions. These are basically \"anonymous functions\". You can use them anywhere you would normally use a function, but you don't want to go to the bother of actually naming the thing. This sounds odd, given the description of modules I gave above, but it is sometimes useful, I swear!"
   ]
  },
  {
   "cell_type": "code",
   "execution_count": null,
   "metadata": {},
   "outputs": [],
   "source": [
    "def operateon(f, x, n):\n",
    "    return f(x, n)\n",
    "\n",
    "operateon(lambda x, n: x**n, 3, 4)"
   ]
  },
  {
   "cell_type": "markdown",
   "metadata": {},
   "source": [
    "Lambda functions typically come up where someone has written code which expects a function as one of the arguments (e.g. massaging numbers to look like dates so that pandas can ingest them). Similar to list comprehensions and generators, you might skip over lambda functions when first learning python but they are worth picking up at sooner or later because they can make your code much neater and more efficient.\n",
    "\n"
   ]
  },
  {
   "cell_type": "markdown",
   "metadata": {},
   "source": [
    "#### Arguments\n",
    "Functions act on arguments passed to them between the parentheses. Going beyond the simple examples above, Python adds a little flexibility to how arguments are specified to\n",
    "\n",
    "  * Argument lists can be arbitrarily long and each argument can be an arbitary python object.\n",
    "  * You can include both positional and keyword arguements. Positional arguments are just a list of names (`x`, `y`, `z`), while keyword arguments include values (`x=1`, `y=2`, `z=3`). You can mix the types of arguments, but the positional arguements must come first.\n",
    "  * You can specify default values when writing keyword arguments. e.g If you include `x=1` in the argument list but don't include a value for `x` when calling the function, the value 1 will be used.\n",
    "  * Functions can support arbitrary numbers of positional arguments. To do this, you prefix the argument with a `*`. Inside the function you can iterarte over this argument as a list.\n",
    "  * Functions can support arbitrary keyword arguments. To do this, you prefix the argument with `**`. Inside the function you can iterate over this argument as a dictionary of whatever the caller decided to pass in.\n",
    "\n",
    "These last two points might sound arcane, but they are important and widely used. A good example is matplotlib where plotting functions can use hundreds of arguments. It is much easier to prepare a dictionary of all of your settings and expand that as needed.\n",
    "\n"
   ]
  },
  {
   "cell_type": "code",
   "execution_count": null,
   "metadata": {},
   "outputs": [],
   "source": [
    "def arguments(a, b, *args, c=1, **kwargs):\n",
    "    print(f\"a and b are required arguments: {a}, {b}\")\n",
    "    print(f\"and c always has a value: {c}\")\n",
    "    for arg in args:\n",
    "        print(f\"I found an extra argument: {arg}\")\n",
    "    \n",
    "    for k, v in kwargs.items():\n",
    "        print(f\"I found an extra keyword argument: {k}:{v}\")\n",
    "        \n",
    "        \n",
    "arguments(1, 2, 3, 4, 5, fruit=\"banana\", time=\"noon\")\n"
   ]
  },
  {
   "cell_type": "markdown",
   "metadata": {},
   "source": [
    "#### Exercises\n",
    "\n",
    "1. Write a function which takes an arbitrary number of positional arguments and multiplies them together\n",
    "1. Change the function above so that it accepts a single keyword argument which is a binary operator and will apply that operator to all of the positional arguments (try `from operator import mul, add`)"
   ]
  },
  {
   "cell_type": "markdown",
   "metadata": {},
   "source": [
    "## Modules\n",
    "\n",
    "Python is often described as a \"batteries included\" language, in that the basic installation has  a _lot_ of functionality included. Beyond the basics, there is an extensive [standard library](https://docs.python.org/3/library/index.html) which provides some extremely useful functionality.\n",
    "\n",
    "* **os, pathlib, sys, argparse**: Interface with your operating system. Work with files etc.\n",
    "* **string, re**: Working with strings and regular expressions\n",
    "* **math, random, statistics, decimal, fractions**: Basic mathematics (we'll stick with `numpy`)\n",
    "* **time, datetime**: Work with dates and times, datetime interfaces well with `pandas`\n",
    "* **zlib, gzip, bz2, lzma, zipfile, tarfile**: Working with compression\n",
    "* **json, csv**: dealing with files (see also `pandas)\n",
    "* **email, smtplib, urllib**: Internet protocols\n",
    "* **hashlib, hmac, secrets**: Working with cryptography\n",
    "* **unittest**: Testing!                                            \n",
    "* **collections, itertools**:\n",
    "* **pickle, shelve, dmb, sqlite3**: \n",
    "* **subprocess, threading, multiprocessing**:\n",
    "* **asyncio, socket, ssl**:"
   ]
  },
  {
   "cell_type": "markdown",
   "metadata": {},
   "source": [
    "### OS\n",
    "\n",
    "OS integrates with the operating system of the machine where Python is running.\n",
    "\n",
    "\n",
    "  1. Try to find the value of the `HOME` environment variable.\n",
    "  1. What is the current working directory? Try `os.*cwd?` in a python cell"
   ]
  },
  {
   "cell_type": "markdown",
   "metadata": {},
   "source": [
    "## Datetime\n",
    "\n",
    "Datetime provides ckasses for manipulating dates and times. For the most part we'll end up using `pandas` to do this for us, but there is significant overlap and `datetime` is well worth knowing"
   ]
  },
  {
   "cell_type": "code",
   "execution_count": null,
   "metadata": {},
   "outputs": [],
   "source": [
    "from datetime import date, datetime"
   ]
  },
  {
   "cell_type": "markdown",
   "metadata": {},
   "source": [
    " 1. Import the `date` object and use it to get today's date\n",
    " 1. Calculate the number of days between Jan 1st and today\n",
    " 1. Parse this string to a datetime \"2021, August 3 11AM\" (try `datetime.strptime`)"
   ]
  },
  {
   "cell_type": "markdown",
   "metadata": {},
   "source": [
    "## Object oriented Programming (`class`)\n",
    "\n",
    "Python implements an `object` type and all of the basic types (int, boolean, string) etc. are actually subclasses of that type. When you use the `class` keyword to create your own objects, they will also subclass object, placing your objects on the same level as the built in types."
   ]
  },
  {
   "cell_type": "code",
   "execution_count": null,
   "metadata": {},
   "outputs": [],
   "source": [
    "issubclass(int, object)"
   ]
  },
  {
   "cell_type": "code",
   "execution_count": null,
   "metadata": {},
   "outputs": [],
   "source": [
    "class Vehicle:\n",
    "    def honk(self):\n",
    "        print(\"HONK\")"
   ]
  },
  {
   "cell_type": "code",
   "execution_count": null,
   "metadata": {},
   "outputs": [],
   "source": [
    "issubclass(Vehicle, object)"
   ]
  },
  {
   "cell_type": "markdown",
   "metadata": {},
   "source": [
    "We can create instances with `<classname>()`"
   ]
  },
  {
   "cell_type": "code",
   "execution_count": null,
   "metadata": {},
   "outputs": [],
   "source": [
    "IansBike = Vehicle()"
   ]
  },
  {
   "cell_type": "markdown",
   "metadata": {},
   "source": [
    "Part of what we inherited from the `object` was the default `__init__` constructor (and a lot of other methods, take a look at the tab completion or `dir(IansBike)`.\n",
    "\n",
    "### Exercises\n",
    "\n",
    "1. Rewrite the the `Vehicle` class to include an explicit `__init__` constructor which can take one argument called alert which contains the noise the vehicle horn should make. Cars should go \"HONK\" and bikes should go \"RING\"\n",
    "\n",
    "1. Write a subclass of the Vehicle class called `Bus` whose contructor requires a `number` argument which gives the number of the bus. Try overriding the `__repr__()` method to change how `Bus`s are displayed."
   ]
  },
  {
   "cell_type": "code",
   "execution_count": null,
   "metadata": {},
   "outputs": [],
   "source": [
    "class Vehicle:\n",
    "    pass"
   ]
  },
  {
   "cell_type": "markdown",
   "metadata": {},
   "source": [
    "Python supports multiple ineritance "
   ]
  },
  {
   "cell_type": "markdown",
   "metadata": {},
   "source": [
    "The lookup for multiple inheritance is depth first then left to right, in this case the `.m()` method of `B` and `C` are at the same depth but `B` occurs first so that is what we get. "
   ]
  }
 ],
 "metadata": {
  "kernelspec": {
   "display_name": "Python 3",
   "language": "python",
   "name": "python3"
  },
  "language_info": {
   "codemirror_mode": {
    "name": "ipython",
    "version": 3
   },
   "file_extension": ".py",
   "mimetype": "text/x-python",
   "name": "python",
   "nbconvert_exporter": "python",
   "pygments_lexer": "ipython3",
   "version": "3.8.6"
  }
 },
 "nbformat": 4,
 "nbformat_minor": 4
}
