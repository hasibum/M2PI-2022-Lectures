{
 "cells": [
  {
   "cell_type": "code",
   "execution_count": 1,
   "metadata": {},
   "outputs": [],
   "source": [
    "import numpy as np\n",
    "import pandas as pd\n",
    "import matplotlib.pyplot as plt\n",
    "import seaborn as sns\n",
    "\n",
    "plt.rcParams['figure.figsize'] = (16,10)"
   ]
  },
  {
   "cell_type": "markdown",
   "metadata": {},
   "source": [
    "# Car Pricing\n",
    "\n",
    "You've been given a dataset describing various features of some cars including their list price.\n",
    "\n",
    "  * https://m2pi.syzygy.ca/data/CarPrice_Assignment.csv\n",
    "\n",
    "You've been asked to explore this dataset, present some summary statistics and (hopefully) build a model for setting the list price. We've broken the problem down into 3 stages...\n",
    "\n",
    "\n",
    "### Part 1: Ingesting Data and Cleaning\n",
    "1. Read in this data, clean and tidy it\n",
    "1. Calculate basic statistics to understand what you have been given.\n",
    "1. Decide how to deal with any problems you find in the data\n",
    "\n",
    "### Part 2:\n",
    "1. Visualize subsets of the data looking for patterns\n",
    "1. Try to pick out columns which might be correlated with price\n",
    "\n",
    "### Part 3: Analysis and Model Building\n",
    "1. Prepare the data for your chosen model\n",
    "1. Create training and testing sets\n",
    "1. Fit a pricing model\n",
    "\n",
    "\n",
    "As we go along, we will share some possible answers for these sections. The problem is meant to be fairly open though, if you are tackling it in a different way, please feel free to continue working with your own answers."
   ]
  },
  {
   "cell_type": "markdown",
   "metadata": {},
   "source": [
    "## Part 1: Hints"
   ]
  },
  {
   "cell_type": "markdown",
   "metadata": {},
   "source": [
    "## Part 1: Answers"
   ]
  },
  {
   "cell_type": "markdown",
   "metadata": {},
   "source": [
    "## Part 1: Solution"
   ]
  },
  {
   "cell_type": "markdown",
   "metadata": {},
   "source": [
    "## Part 2: Hints"
   ]
  },
  {
   "cell_type": "markdown",
   "metadata": {},
   "source": [
    "## Part 2: Answers"
   ]
  },
  {
   "cell_type": "markdown",
   "metadata": {},
   "source": [
    "## Part 2: Solution"
   ]
  },
  {
   "cell_type": "markdown",
   "metadata": {},
   "source": [
    "## Part 3: Hints"
   ]
  },
  {
   "cell_type": "markdown",
   "metadata": {},
   "source": [
    "## Part 3: Answers"
   ]
  },
  {
   "cell_type": "markdown",
   "metadata": {},
   "source": [
    "## Part 3: Solution"
   ]
  }
 ],
 "metadata": {
  "kernelspec": {
   "display_name": "Python 3",
   "language": "python",
   "name": "python3"
  },
  "language_info": {
   "codemirror_mode": {
    "name": "ipython",
    "version": 3
   },
   "file_extension": ".py",
   "mimetype": "text/x-python",
   "name": "python",
   "nbconvert_exporter": "python",
   "pygments_lexer": "ipython3",
   "version": "3.8.6"
  }
 },
 "nbformat": 4,
 "nbformat_minor": 4
}
