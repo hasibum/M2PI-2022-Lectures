{
 "cells": [
  {
   "cell_type": "code",
   "execution_count": 2,
   "metadata": {},
   "outputs": [],
   "source": [
    "import numpy as np\n",
    "import pandas as pd\n",
    "import matplotlib.pyplot as plt\n",
    "import seaborn as sns\n",
    "import requests\n",
    "\n",
    "plt.rcParams['figure.figsize'] = (16,10)"
   ]
  },
  {
   "cell_type": "markdown",
   "metadata": {},
   "source": [
    "# Classification Problems\n",
    "\n",
    "In this problem we will use information from a US census to look at a classification problem. The input is spread across three files\n",
    "\n",
    "* [adult.names](https://raw.githubusercontent.com/mgreenbe/adult-census/master/adult.names): Feature names and allowed values\n",
    "* [adult.data](https://raw.githubusercontent.com/mgreenbe/adult-census/master/adult.data): Training data\n",
    "* [adult.test](https://raw.githubusercontent.com/mgreenbe/adult-census/master/adult.test): Test data\n",
    "\n",
    "\n",
    "The goal is to build a model to classify income into one of two groups\n",
    "\n",
    " * <= $50K\n",
    " * \\> 50K\n",
    "\n",
    "The basic steps are similar to the first problem, but this is a classification problem rather than a regression so you'll need to select a different kind of model.\n",
    "\n",
    "## 1. Ingest the Data\n",
    "## 2. Explore and Look for Patterns\n",
    "## 3. Build a model"
   ]
  },
  {
   "cell_type": "markdown",
   "metadata": {},
   "source": [
    "## Part 1: Hints"
   ]
  },
  {
   "cell_type": "markdown",
   "metadata": {},
   "source": [
    "## Part 1: Solution"
   ]
  },
  {
   "cell_type": "markdown",
   "metadata": {},
   "source": [
    "## Part 2: Hints"
   ]
  },
  {
   "cell_type": "markdown",
   "metadata": {},
   "source": [
    "## Part 2: Solution"
   ]
  },
  {
   "cell_type": "markdown",
   "metadata": {},
   "source": [
    "## Part 3: Hints"
   ]
  },
  {
   "cell_type": "markdown",
   "metadata": {},
   "source": [
    "## Part 3: Solution"
   ]
  }
 ],
 "metadata": {
  "kernelspec": {
   "display_name": "Python 3",
   "language": "python",
   "name": "python3"
  },
  "language_info": {
   "codemirror_mode": {
    "name": "ipython",
    "version": 3
   },
   "file_extension": ".py",
   "mimetype": "text/x-python",
   "name": "python",
   "nbconvert_exporter": "python",
   "pygments_lexer": "ipython3",
   "version": "3.8.6"
  }
 },
 "nbformat": 4,
 "nbformat_minor": 4
}
