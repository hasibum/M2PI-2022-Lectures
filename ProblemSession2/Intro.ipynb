{
 "cells": [
  {
   "cell_type": "markdown",
   "metadata": {},
   "source": [
    "# M2PI Problem Session 2\n",
    "\n",
    "In this session, we'll assume a bit more Python knowledge and try to analyze some more realistic problems. We'll build on the things you learned in the first problem session and in the Jupyter tutorial and rely heavily on the following modules.\n",
    "\n",
    "* [Requests](https://docs.python-requests.org/en/master/) HTTP for humans\n",
    "* [Pandas](https://pandas.pydata.org/) DataFrames \n",
    "* [Numpy](https://numpy.org/) Efficient numerical operations\n",
    "* [Matplotlib](https://matplotlib.org/)/[Seaborn](https://seaborn.pydata.org/) Plotting and visualization\n",
    "* [sklearn](https://scikit-learn.org/stable/) Machine learning\n",
    "\n",
    "The basic pattern we will follow is\n",
    "\n",
    "1. Ingest data from some source and clean it if necessary \n",
    "3. Explore Basic statistics and try some visualizations\n",
    "4. Look for correlations & plan an analysis\n",
    "5. Extract insights"
   ]
  },
  {
   "cell_type": "markdown",
   "metadata": {},
   "source": [
    "## Problems\n",
    "\n",
    "* [Problem 1: Car Pricing](Problem1-CarPricing.ipynb)\n",
    "* [Problem 2: Income Prediction](Problem2-IncomePrediction.ipynb)"
   ]
  },
  {
   "cell_type": "code",
   "execution_count": null,
   "metadata": {},
   "outputs": [],
   "source": []
  }
 ],
 "metadata": {
  "kernelspec": {
   "display_name": "Python 3",
   "language": "python",
   "name": "python3"
  },
  "language_info": {
   "codemirror_mode": {
    "name": "ipython",
    "version": 3
   },
   "file_extension": ".py",
   "mimetype": "text/x-python",
   "name": "python",
   "nbconvert_exporter": "python",
   "pygments_lexer": "ipython3",
   "version": "3.8.6"
  }
 },
 "nbformat": 4,
 "nbformat_minor": 4
}
