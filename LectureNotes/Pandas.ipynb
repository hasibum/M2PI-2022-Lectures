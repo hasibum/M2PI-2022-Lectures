{
 "cells": [
  {
   "cell_type": "markdown",
   "metadata": {},
   "source": [
    "# Pandas\n",
    "\n",
    "Pandas (Python Data Analysis Library) is a swiss-army knife module that you'll find at the top of a huge proportion of notebooks. It's popular enough to deserve its own import idiom..."
   ]
  },
  {
   "cell_type": "code",
   "execution_count": 1,
   "metadata": {},
   "outputs": [],
   "source": [
    "import numpy as np\n",
    "import pandas as pd"
   ]
  },
  {
   "cell_type": "markdown",
   "metadata": {},
   "source": [
    "To get a quick idea of the scope of pandas take a look at the autocomplete for pd.<TAB>"
   ]
  },
  {
   "cell_type": "code",
   "execution_count": 2,
   "metadata": {},
   "outputs": [
    {
     "data": {
      "text/plain": [
       "<module 'pandas.api' from '/opt/conda/lib/python3.8/site-packages/pandas/api/__init__.py'>"
      ]
     },
     "execution_count": 2,
     "metadata": {},
     "output_type": "execute_result"
    }
   ],
   "source": [
    "pd."
   ]
  },
  {
   "cell_type": "markdown",
   "metadata": {},
   "source": [
    "The fundamental objects in pandas are the `Series` and the `DataFrame`. Together they encapsulate how you will normally ingest, clean, manipulate and even visualize external data sources.  Most of this module will use methods on these objects so we'll take a quick tour of the concepts they implement, and the idea of an Index.\n",
    "\n",
    "## Series\n",
    "\n",
    "The pandas `Series` object is basically a one dimensional indexed array. Schematically, they look like\n",
    "\n",
    "| Index | Value |\n",
    "|-------|-------|\n",
    "|   0   |  0.12 |\n",
    "|   1   |  0.24 |\n",
    "|   2   |  0.36 |\n",
    "|   3   |  0.48 |\n",
    "\n",
    "\n",
    "Where there are two columns: an index and a value. Most of the time the index values are distinct (not a firm requirement though!) but they don't have to be integers. Any hashable type will do"
   ]
  },
  {
   "cell_type": "code",
   "execution_count": 5,
   "metadata": {},
   "outputs": [
    {
     "data": {
      "text/plain": [
       "one      1.0\n",
       "two      2.0\n",
       "three    3.0\n",
       "dtype: float64"
      ]
     },
     "execution_count": 5,
     "metadata": {},
     "output_type": "execute_result"
    }
   ],
   "source": [
    "s1 = pd.Series({'one' : 1.0, 'two': 2.0, 'three': 3.0})\n",
    "s1"
   ]
  },
  {
   "cell_type": "markdown",
   "metadata": {},
   "source": [
    "One particularly common option is to use a timestamp as the index (don't worry about the syntax here, we'll come back to timeseries later)..."
   ]
  },
  {
   "cell_type": "code",
   "execution_count": 6,
   "metadata": {},
   "outputs": [
    {
     "data": {
      "text/plain": [
       "2020-06-03 00:00:00     first\n",
       "2020-06-03 01:00:00    second\n",
       "2020-06-03 02:00:00     third\n",
       "Freq: H, dtype: object"
      ]
     },
     "execution_count": 6,
     "metadata": {},
     "output_type": "execute_result"
    }
   ],
   "source": [
    "dti = pd.date_range('2020-06-03', periods=3, freq='H')\n",
    "pd.Series(['first', 'second', 'third'], index=dti)"
   ]
  },
  {
   "cell_type": "markdown",
   "metadata": {},
   "source": [
    "The next thing to notice is that the values all have the same type (`dtype: float64` in this case). `pandas` can make `Series` of almost any type as long as all the rows share the same type, but it will try to pick the most efficient implementation (`ndarrays` for numeric types). It can fall back to a generic `object` type if all else fails but it really pays (in speed) to keep an eye on the `dtype` and make it a `numpy` type if possible."
   ]
  },
  {
   "cell_type": "code",
   "execution_count": 7,
   "metadata": {},
   "outputs": [
    {
     "data": {
      "text/plain": [
       "0      one\n",
       "1        2\n",
       "2    three\n",
       "dtype: object"
      ]
     },
     "execution_count": 7,
     "metadata": {},
     "output_type": "execute_result"
    }
   ],
   "source": [
    "s2 = pd.Series(['one', 2, 'three'])\n",
    "s2"
   ]
  },
  {
   "cell_type": "markdown",
   "metadata": {},
   "source": [
    "### Making `Series`\n",
    "\n",
    "You'll probably find that you are making `DataFrames` more often than `Series`, but lots of operations in `panadas` return Series or want them as an argument so it's good to know how to build them.\n",
    "\n",
    "Like `numpy` `ndarray`s a sequence will work, it'll get the default ascending integer index"
   ]
  },
  {
   "cell_type": "code",
   "execution_count": 8,
   "metadata": {},
   "outputs": [
    {
     "data": {
      "text/plain": [
       "0    1.0\n",
       "1    2.0\n",
       "2    3.0\n",
       "3    4.0\n",
       "4    5.0\n",
       "dtype: float64"
      ]
     },
     "execution_count": 8,
     "metadata": {},
     "output_type": "execute_result"
    }
   ],
   "source": [
    "sf = pd.Series([1.0, 2.0, 3.0, 4.0, 5.0])\n",
    "sf"
   ]
  },
  {
   "cell_type": "code",
   "execution_count": 9,
   "metadata": {},
   "outputs": [
    {
     "data": {
      "text/plain": [
       "0    0\n",
       "1    1\n",
       "2    2\n",
       "3    3\n",
       "4    4\n",
       "dtype: int64"
      ]
     },
     "execution_count": 9,
     "metadata": {},
     "output_type": "execute_result"
    }
   ],
   "source": [
    "si = pd.Series(range(5))\n",
    "si"
   ]
  },
  {
   "cell_type": "markdown",
   "metadata": {},
   "source": [
    "The `__repr__` includes the values we set along with the type of object we have stored (the values). As I mentioned, this is one of the attributes of a Series"
   ]
  },
  {
   "cell_type": "code",
   "execution_count": 10,
   "metadata": {},
   "outputs": [
    {
     "data": {
      "text/plain": [
       "dtype('int64')"
      ]
     },
     "execution_count": 10,
     "metadata": {},
     "output_type": "execute_result"
    }
   ],
   "source": [
    "si.dtype"
   ]
  },
  {
   "cell_type": "markdown",
   "metadata": {},
   "source": [
    "So far, this looks a lot like a numpy array (or even just a list), but we can switch the indexing to suit our needs, by explicitly passing the `index=` arguement"
   ]
  },
  {
   "cell_type": "code",
   "execution_count": 11,
   "metadata": {},
   "outputs": [
    {
     "data": {
      "text/plain": [
       "one      1.0\n",
       "two      2.0\n",
       "three    3.0\n",
       "four     4.0\n",
       "five     5.0\n",
       "dtype: float64"
      ]
     },
     "execution_count": 11,
     "metadata": {},
     "output_type": "execute_result"
    }
   ],
   "source": [
    "sm = pd.Series([1., 2., 3., 4., 5.],\n",
    "               index=['one', 'two', 'three', 'four', 'five']\n",
    ")\n",
    "sm"
   ]
  },
  {
   "cell_type": "markdown",
   "metadata": {},
   "source": [
    "### Indexing and Slicing"
   ]
  },
  {
   "cell_type": "code",
   "execution_count": 12,
   "metadata": {},
   "outputs": [
    {
     "data": {
      "text/plain": [
       "3.0"
      ]
     },
     "execution_count": 12,
     "metadata": {},
     "output_type": "execute_result"
    }
   ],
   "source": [
    "sm['three']"
   ]
  },
  {
   "cell_type": "markdown",
   "metadata": {},
   "source": [
    "Now the series is starting to look more like a dictionary, in fact, that's a pretty good way to construct series"
   ]
  },
  {
   "cell_type": "code",
   "execution_count": 13,
   "metadata": {},
   "outputs": [
    {
     "data": {
      "text/plain": [
       "one      1\n",
       "three    3\n",
       "two      2\n",
       "four     4\n",
       "five     5\n",
       "dtype: int64"
      ]
     },
     "execution_count": 13,
     "metadata": {},
     "output_type": "execute_result"
    }
   ],
   "source": [
    "sn = pd.Series({'one': 1, 'three': 3, 'two': 2, 'four': 4, 'five': 5})\n",
    "sn"
   ]
  },
  {
   "cell_type": "markdown",
   "metadata": {},
   "source": [
    "When you look closely though, a Series has a few tricks that a dictionary doesn't..."
   ]
  },
  {
   "cell_type": "code",
   "execution_count": 14,
   "metadata": {},
   "outputs": [
    {
     "data": {
      "text/plain": [
       "three    3\n",
       "two      2\n",
       "four     4\n",
       "dtype: int64"
      ]
     },
     "execution_count": 14,
     "metadata": {},
     "output_type": "execute_result"
    }
   ],
   "source": [
    "sn['three':'four']"
   ]
  },
  {
   "cell_type": "markdown",
   "metadata": {},
   "source": [
    "N.B. label based indexes are _inclusive_ of the `stop` value. This is different from most other indexes you'll see in python, but this can cause a little confusion. Basically it boils down to the idea that there isn't always a natural \"next\" object in a hash (notice that the rows aren't sorted beyond what we specified manually in the index).\n",
    "\n",
    "If you use numbers to do the slice, you'll get the familiar python behaviour\n"
   ]
  },
  {
   "cell_type": "code",
   "execution_count": 15,
   "metadata": {},
   "outputs": [
    {
     "data": {
      "text/plain": [
       "three    3\n",
       "two      2\n",
       "dtype: int64"
      ]
     },
     "execution_count": 15,
     "metadata": {},
     "output_type": "execute_result"
    }
   ],
   "source": [
    "sn[1:3]"
   ]
  },
  {
   "cell_type": "markdown",
   "metadata": {},
   "source": [
    "Series have a `keys()` method, but it returns an index"
   ]
  },
  {
   "cell_type": "code",
   "execution_count": 16,
   "metadata": {},
   "outputs": [
    {
     "data": {
      "text/plain": [
       "Index(['one', 'three', 'two', 'four', 'five'], dtype='object')"
      ]
     },
     "execution_count": 16,
     "metadata": {},
     "output_type": "execute_result"
    }
   ],
   "source": [
    "sn.keys()"
   ]
  },
  {
   "cell_type": "markdown",
   "metadata": {},
   "source": [
    "Element by element statements evaluate to Booleans"
   ]
  },
  {
   "cell_type": "code",
   "execution_count": 17,
   "metadata": {},
   "outputs": [
    {
     "data": {
      "text/plain": [
       "one      False\n",
       "three     True\n",
       "two      False\n",
       "four      True\n",
       "five      True\n",
       "dtype: bool"
      ]
     },
     "execution_count": 17,
     "metadata": {},
     "output_type": "execute_result"
    }
   ],
   "source": [
    "sn > 2"
   ]
  },
  {
   "cell_type": "markdown",
   "metadata": {},
   "source": [
    "and if you remember the material on numpy fancy indexing, this can be very useful"
   ]
  },
  {
   "cell_type": "code",
   "execution_count": 18,
   "metadata": {},
   "outputs": [
    {
     "data": {
      "text/plain": [
       "three    3\n",
       "four     4\n",
       "five     5\n",
       "dtype: int64"
      ]
     },
     "execution_count": 18,
     "metadata": {},
     "output_type": "execute_result"
    }
   ],
   "source": [
    "sn[sn > 2]"
   ]
  },
  {
   "cell_type": "markdown",
   "metadata": {},
   "source": [
    "There are also some extra indexing methods available to you `.loc`, `.iloc`, `.ix`. Have a look at the documentation for these, they might seem redundant, but actually they're useful in some contexts where ordinary indexing will bite you..."
   ]
  },
  {
   "cell_type": "code",
   "execution_count": 19,
   "metadata": {},
   "outputs": [
    {
     "data": {
      "text/plain": [
       "3        apple\n",
       "2       banana\n",
       "1       orange\n",
       "7    pineapple\n",
       "dtype: object"
      ]
     },
     "execution_count": 19,
     "metadata": {},
     "output_type": "execute_result"
    }
   ],
   "source": [
    "sa = pd.Series(\n",
    "    data=['apple', 'banana', 'orange', 'pineapple'],\n",
    "    index=[3, 2, 1, 7]\n",
    ")\n",
    "\n",
    "sa"
   ]
  },
  {
   "cell_type": "markdown",
   "metadata": {},
   "source": [
    "Suppose we want the value in the 4th row..."
   ]
  },
  {
   "cell_type": "code",
   "execution_count": 20,
   "metadata": {},
   "outputs": [
    {
     "data": {
      "text/plain": [
       "'apple'"
      ]
     },
     "execution_count": 20,
     "metadata": {},
     "output_type": "execute_result"
    }
   ],
   "source": [
    "sa[3]"
   ]
  },
  {
   "cell_type": "markdown",
   "metadata": {},
   "source": [
    "Nope, `3` was interperted as a label. There's an ambiguity because of the type of the index. Fortunately `pandas` gives us a pair of functions to avoid that problem\n",
    "\n",
    "  * `.iloc[]`: Purely integer-location based indexing.\n",
    "  * `loc[]` : Purely label based indexing."
   ]
  },
  {
   "cell_type": "code",
   "execution_count": 21,
   "metadata": {},
   "outputs": [
    {
     "data": {
      "text/plain": [
       "'pineapple'"
      ]
     },
     "execution_count": 21,
     "metadata": {},
     "output_type": "execute_result"
    }
   ],
   "source": [
    "sa.iloc[3]"
   ]
  },
  {
   "cell_type": "markdown",
   "metadata": {},
   "source": [
    "And `.iloc` will also work with slices"
   ]
  },
  {
   "cell_type": "code",
   "execution_count": 22,
   "metadata": {},
   "outputs": [
    {
     "data": {
      "text/plain": [
       "3     apple\n",
       "2    banana\n",
       "1    orange\n",
       "dtype: object"
      ]
     },
     "execution_count": 22,
     "metadata": {},
     "output_type": "execute_result"
    }
   ],
   "source": [
    "sa.iloc[:3]"
   ]
  },
  {
   "cell_type": "markdown",
   "metadata": {},
   "source": [
    "In the opposite situation..."
   ]
  },
  {
   "cell_type": "code",
   "execution_count": 23,
   "metadata": {},
   "outputs": [
    {
     "data": {
      "text/plain": [
       "'banana'"
      ]
     },
     "execution_count": 23,
     "metadata": {},
     "output_type": "execute_result"
    }
   ],
   "source": [
    "sa.loc[2]"
   ]
  },
  {
   "cell_type": "markdown",
   "metadata": {},
   "source": [
    "`iloc` does the opposite and tells pandas you want to use the implicit style python notation"
   ]
  },
  {
   "cell_type": "markdown",
   "metadata": {},
   "source": [
    "sa.iloc[[2, 1, 3]]"
   ]
  },
  {
   "cell_type": "markdown",
   "metadata": {},
   "source": [
    "`ix` some combination of these things, but I've never been able to commit it to memory. Fortunately it is being deprecated in favour of `iloc` and `loc` so you don't need to worry 😀"
   ]
  },
  {
   "cell_type": "markdown",
   "metadata": {},
   "source": [
    "## DataFrames\n",
    "\n",
    "Most of the time you will be using `DataFrames` rather than `Series`, but at a first pass it is OK to think of `DataFrames` as a bunch of `Series` stuck together with a common index. \n",
    "\n",
    "\n",
    "| Index | Value1 | Value2 | \n",
    "|-------|--------|--------|\n",
    "|   0   |  0.12  |   'a'  |\n",
    "|   1   |  0.24  |   'b'  |\n",
    "|   2   |  0.36  |   'c'  |\n",
    "|   3   |  0.48  |   'd'  |\n",
    "\n",
    "The rules discussed above for the index stay the same but notice that we can now have different types in the various columns"
   ]
  },
  {
   "cell_type": "code",
   "execution_count": 24,
   "metadata": {},
   "outputs": [
    {
     "data": {
      "text/html": [
       "<div>\n",
       "<style scoped>\n",
       "    .dataframe tbody tr th:only-of-type {\n",
       "        vertical-align: middle;\n",
       "    }\n",
       "\n",
       "    .dataframe tbody tr th {\n",
       "        vertical-align: top;\n",
       "    }\n",
       "\n",
       "    .dataframe thead th {\n",
       "        text-align: right;\n",
       "    }\n",
       "</style>\n",
       "<table border=\"1\" class=\"dataframe\">\n",
       "  <thead>\n",
       "    <tr style=\"text-align: right;\">\n",
       "      <th></th>\n",
       "      <th>floats</th>\n",
       "      <th>ints</th>\n",
       "    </tr>\n",
       "  </thead>\n",
       "  <tbody>\n",
       "    <tr>\n",
       "      <th>five</th>\n",
       "      <td>5.0</td>\n",
       "      <td>5</td>\n",
       "    </tr>\n",
       "    <tr>\n",
       "      <th>four</th>\n",
       "      <td>4.0</td>\n",
       "      <td>4</td>\n",
       "    </tr>\n",
       "    <tr>\n",
       "      <th>one</th>\n",
       "      <td>1.0</td>\n",
       "      <td>1</td>\n",
       "    </tr>\n",
       "    <tr>\n",
       "      <th>three</th>\n",
       "      <td>3.0</td>\n",
       "      <td>3</td>\n",
       "    </tr>\n",
       "    <tr>\n",
       "      <th>two</th>\n",
       "      <td>2.0</td>\n",
       "      <td>2</td>\n",
       "    </tr>\n",
       "  </tbody>\n",
       "</table>\n",
       "</div>"
      ],
      "text/plain": [
       "       floats  ints\n",
       "five      5.0     5\n",
       "four      4.0     4\n",
       "one       1.0     1\n",
       "three     3.0     3\n",
       "two       2.0     2"
      ]
     },
     "execution_count": 24,
     "metadata": {},
     "output_type": "execute_result"
    }
   ],
   "source": [
    "d1 = pd.DataFrame({'floats': sm, 'ints': sn})\n",
    "d1"
   ]
  },
  {
   "cell_type": "markdown",
   "metadata": {},
   "source": [
    "### DataFrame Attributes\n",
    "\n",
    "We've already seen some of the attributes of the DataFrame (column etc.) but there are quite a few available, take a look at `dtypes`, `ndim`, `shape`"
   ]
  },
  {
   "cell_type": "code",
   "execution_count": 25,
   "metadata": {},
   "outputs": [
    {
     "data": {
      "text/plain": [
       "Index(['five', 'four', 'one', 'three', 'two'], dtype='object')"
      ]
     },
     "execution_count": 25,
     "metadata": {},
     "output_type": "execute_result"
    }
   ],
   "source": [
    "d1.index"
   ]
  },
  {
   "cell_type": "code",
   "execution_count": 26,
   "metadata": {},
   "outputs": [
    {
     "data": {
      "text/plain": [
       "Index(['floats', 'ints'], dtype='object')"
      ]
     },
     "execution_count": 26,
     "metadata": {},
     "output_type": "execute_result"
    }
   ],
   "source": [
    "d1.columns"
   ]
  },
  {
   "cell_type": "code",
   "execution_count": 27,
   "metadata": {},
   "outputs": [
    {
     "data": {
      "text/plain": [
       "(5, 2)"
      ]
     },
     "execution_count": 27,
     "metadata": {},
     "output_type": "execute_result"
    }
   ],
   "source": [
    "d1.shape"
   ]
  },
  {
   "cell_type": "code",
   "execution_count": 28,
   "metadata": {},
   "outputs": [
    {
     "data": {
      "text/plain": [
       "floats    float64\n",
       "ints        int64\n",
       "dtype: object"
      ]
     },
     "execution_count": 28,
     "metadata": {},
     "output_type": "execute_result"
    }
   ],
   "source": [
    "d1.dtypes"
   ]
  },
  {
   "cell_type": "markdown",
   "metadata": {},
   "source": [
    "### Indexing\n",
    "\n",
    "When indexing a dataframe, the default is to give you the column (you can also use the syntax `d1.ints`)"
   ]
  },
  {
   "cell_type": "code",
   "execution_count": 30,
   "metadata": {},
   "outputs": [
    {
     "data": {
      "text/plain": [
       "five     5\n",
       "four     4\n",
       "one      1\n",
       "three    3\n",
       "two      2\n",
       "Name: ints, dtype: int64"
      ]
     },
     "execution_count": 30,
     "metadata": {},
     "output_type": "execute_result"
    }
   ],
   "source": [
    "d1['ints']"
   ]
  },
  {
   "cell_type": "markdown",
   "metadata": {},
   "source": [
    "If you are looking for the row, then try `.loc` with the row index value"
   ]
  },
  {
   "cell_type": "markdown",
   "metadata": {},
   "source": [
    "As with series, you can give a list instead, but remember to count the parentheses..."
   ]
  },
  {
   "cell_type": "code",
   "execution_count": 34,
   "metadata": {},
   "outputs": [
    {
     "data": {
      "text/html": [
       "<div>\n",
       "<style scoped>\n",
       "    .dataframe tbody tr th:only-of-type {\n",
       "        vertical-align: middle;\n",
       "    }\n",
       "\n",
       "    .dataframe tbody tr th {\n",
       "        vertical-align: top;\n",
       "    }\n",
       "\n",
       "    .dataframe thead th {\n",
       "        text-align: right;\n",
       "    }\n",
       "</style>\n",
       "<table border=\"1\" class=\"dataframe\">\n",
       "  <thead>\n",
       "    <tr style=\"text-align: right;\">\n",
       "      <th></th>\n",
       "      <th>floats</th>\n",
       "      <th>ints</th>\n",
       "    </tr>\n",
       "  </thead>\n",
       "  <tbody>\n",
       "    <tr>\n",
       "      <th>one</th>\n",
       "      <td>1.0</td>\n",
       "      <td>1</td>\n",
       "    </tr>\n",
       "    <tr>\n",
       "      <th>two</th>\n",
       "      <td>2.0</td>\n",
       "      <td>2</td>\n",
       "    </tr>\n",
       "  </tbody>\n",
       "</table>\n",
       "</div>"
      ],
      "text/plain": [
       "     floats  ints\n",
       "one     1.0     1\n",
       "two     2.0     2"
      ]
     },
     "execution_count": 34,
     "metadata": {},
     "output_type": "execute_result"
    }
   ],
   "source": [
    "d1.loc[['one','two']]"
   ]
  },
  {
   "cell_type": "markdown",
   "metadata": {},
   "source": [
    "Or you can use slices"
   ]
  },
  {
   "cell_type": "code",
   "execution_count": 35,
   "metadata": {},
   "outputs": [
    {
     "data": {
      "text/html": [
       "<div>\n",
       "<style scoped>\n",
       "    .dataframe tbody tr th:only-of-type {\n",
       "        vertical-align: middle;\n",
       "    }\n",
       "\n",
       "    .dataframe tbody tr th {\n",
       "        vertical-align: top;\n",
       "    }\n",
       "\n",
       "    .dataframe thead th {\n",
       "        text-align: right;\n",
       "    }\n",
       "</style>\n",
       "<table border=\"1\" class=\"dataframe\">\n",
       "  <thead>\n",
       "    <tr style=\"text-align: right;\">\n",
       "      <th></th>\n",
       "      <th>floats</th>\n",
       "      <th>ints</th>\n",
       "    </tr>\n",
       "  </thead>\n",
       "  <tbody>\n",
       "    <tr>\n",
       "      <th>five</th>\n",
       "      <td>5.0</td>\n",
       "      <td>5</td>\n",
       "    </tr>\n",
       "    <tr>\n",
       "      <th>four</th>\n",
       "      <td>4.0</td>\n",
       "      <td>4</td>\n",
       "    </tr>\n",
       "  </tbody>\n",
       "</table>\n",
       "</div>"
      ],
      "text/plain": [
       "      floats  ints\n",
       "five     5.0     5\n",
       "four     4.0     4"
      ]
     },
     "execution_count": 35,
     "metadata": {},
     "output_type": "execute_result"
    }
   ],
   "source": [
    "d1.iloc[:2]"
   ]
  },
  {
   "cell_type": "markdown",
   "metadata": {},
   "source": [
    "Wherever possible, `pandas` (like `numpy`) will try to return a view on the same data rather than a copy, but because the indexing possibilities in `pandas` are much greater the specific rules are more subtle and we won't get into them now, suffice to say, if you need to break the link between two dataframes you can use the `.copy()` method"
   ]
  },
  {
   "cell_type": "code",
   "execution_count": 36,
   "metadata": {},
   "outputs": [
    {
     "data": {
      "text/plain": [
       "True"
      ]
     },
     "execution_count": 36,
     "metadata": {},
     "output_type": "execute_result"
    }
   ],
   "source": [
    "d1a = d1\n",
    "d1a is d1"
   ]
  },
  {
   "cell_type": "code",
   "execution_count": 37,
   "metadata": {},
   "outputs": [
    {
     "data": {
      "text/plain": [
       "False"
      ]
     },
     "execution_count": 37,
     "metadata": {},
     "output_type": "execute_result"
    }
   ],
   "source": [
    "d1b = d1.copy()\n",
    "d1b is d1"
   ]
  },
  {
   "cell_type": "markdown",
   "metadata": {},
   "source": [
    "### Changing DataFrames\n",
    "\n",
    "`DataFrames` are mutable; we can change the values in rows and columns and we can add/remove columns in place. `pandas` will usually try to do this in place, but some modifications (e.g. changing column dtype) require implicit data copies."
   ]
  },
  {
   "cell_type": "code",
   "execution_count": 38,
   "metadata": {},
   "outputs": [
    {
     "data": {
      "text/html": [
       "<div>\n",
       "<style scoped>\n",
       "    .dataframe tbody tr th:only-of-type {\n",
       "        vertical-align: middle;\n",
       "    }\n",
       "\n",
       "    .dataframe tbody tr th {\n",
       "        vertical-align: top;\n",
       "    }\n",
       "\n",
       "    .dataframe thead th {\n",
       "        text-align: right;\n",
       "    }\n",
       "</style>\n",
       "<table border=\"1\" class=\"dataframe\">\n",
       "  <thead>\n",
       "    <tr style=\"text-align: right;\">\n",
       "      <th></th>\n",
       "      <th>floats</th>\n",
       "      <th>ints</th>\n",
       "    </tr>\n",
       "  </thead>\n",
       "  <tbody>\n",
       "    <tr>\n",
       "      <th>five</th>\n",
       "      <td>5.0</td>\n",
       "      <td>5</td>\n",
       "    </tr>\n",
       "    <tr>\n",
       "      <th>four</th>\n",
       "      <td>3.0</td>\n",
       "      <td>3</td>\n",
       "    </tr>\n",
       "    <tr>\n",
       "      <th>one</th>\n",
       "      <td>1.0</td>\n",
       "      <td>1</td>\n",
       "    </tr>\n",
       "    <tr>\n",
       "      <th>three</th>\n",
       "      <td>3.0</td>\n",
       "      <td>3</td>\n",
       "    </tr>\n",
       "    <tr>\n",
       "      <th>two</th>\n",
       "      <td>2.0</td>\n",
       "      <td>2</td>\n",
       "    </tr>\n",
       "  </tbody>\n",
       "</table>\n",
       "</div>"
      ],
      "text/plain": [
       "       floats  ints\n",
       "five      5.0     5\n",
       "four      3.0     3\n",
       "one       1.0     1\n",
       "three     3.0     3\n",
       "two       2.0     2"
      ]
     },
     "execution_count": 38,
     "metadata": {},
     "output_type": "execute_result"
    }
   ],
   "source": [
    "d1.iloc[1] = (3.0, 3)\n",
    "d1"
   ]
  },
  {
   "cell_type": "markdown",
   "metadata": {},
   "source": [
    "Add a new column"
   ]
  },
  {
   "cell_type": "code",
   "execution_count": 39,
   "metadata": {},
   "outputs": [
    {
     "data": {
      "text/html": [
       "<div>\n",
       "<style scoped>\n",
       "    .dataframe tbody tr th:only-of-type {\n",
       "        vertical-align: middle;\n",
       "    }\n",
       "\n",
       "    .dataframe tbody tr th {\n",
       "        vertical-align: top;\n",
       "    }\n",
       "\n",
       "    .dataframe thead th {\n",
       "        text-align: right;\n",
       "    }\n",
       "</style>\n",
       "<table border=\"1\" class=\"dataframe\">\n",
       "  <thead>\n",
       "    <tr style=\"text-align: right;\">\n",
       "      <th></th>\n",
       "      <th>floats</th>\n",
       "      <th>ints</th>\n",
       "      <th>ratio</th>\n",
       "    </tr>\n",
       "  </thead>\n",
       "  <tbody>\n",
       "    <tr>\n",
       "      <th>five</th>\n",
       "      <td>5.0</td>\n",
       "      <td>5</td>\n",
       "      <td>0.5</td>\n",
       "    </tr>\n",
       "    <tr>\n",
       "      <th>four</th>\n",
       "      <td>3.0</td>\n",
       "      <td>3</td>\n",
       "      <td>0.5</td>\n",
       "    </tr>\n",
       "    <tr>\n",
       "      <th>one</th>\n",
       "      <td>1.0</td>\n",
       "      <td>1</td>\n",
       "      <td>0.5</td>\n",
       "    </tr>\n",
       "    <tr>\n",
       "      <th>three</th>\n",
       "      <td>3.0</td>\n",
       "      <td>3</td>\n",
       "      <td>0.5</td>\n",
       "    </tr>\n",
       "    <tr>\n",
       "      <th>two</th>\n",
       "      <td>2.0</td>\n",
       "      <td>2</td>\n",
       "      <td>0.5</td>\n",
       "    </tr>\n",
       "  </tbody>\n",
       "</table>\n",
       "</div>"
      ],
      "text/plain": [
       "       floats  ints  ratio\n",
       "five      5.0     5    0.5\n",
       "four      3.0     3    0.5\n",
       "one       1.0     1    0.5\n",
       "three     3.0     3    0.5\n",
       "two       2.0     2    0.5"
      ]
     },
     "execution_count": 39,
     "metadata": {},
     "output_type": "execute_result"
    }
   ],
   "source": [
    "d1['ratio'] = d1['ints'] / (2 * d1['floats'])\n",
    "d1"
   ]
  },
  {
   "cell_type": "markdown",
   "metadata": {},
   "source": [
    "Sometimes not everything will fit in a single `DataFrame`, we'll see how to concatenate and otherwise join `DataFrames` later on.\n",
    "\n",
    "\"Patching up\" dataframes by modifying individual cells or groups of cells can be a little bit tricky. The basic reason is that a lot of the operations you would like to use to address the cell will return a copy of the dataframe but in general you want to modify the original."
   ]
  },
  {
   "cell_type": "code",
   "execution_count": 40,
   "metadata": {},
   "outputs": [
    {
     "name": "stderr",
     "output_type": "stream",
     "text": [
      "<ipython-input-40-368c86759959>:1: SettingWithCopyWarning: \n",
      "A value is trying to be set on a copy of a slice from a DataFrame\n",
      "\n",
      "See the caveats in the documentation: https://pandas.pydata.org/pandas-docs/stable/user_guide/indexing.html#returning-a-view-versus-a-copy\n",
      "  d1['floats']['five'] = 5.1\n"
     ]
    }
   ],
   "source": [
    "d1['floats']['five'] = 5.1"
   ]
  },
  {
   "cell_type": "markdown",
   "metadata": {},
   "source": [
    "The heart of the issue is described in the warning you'll see given above, but if you only need to change a single value you can use `pd.DataFrame.at`"
   ]
  },
  {
   "cell_type": "code",
   "execution_count": 43,
   "metadata": {},
   "outputs": [
    {
     "data": {
      "text/html": [
       "<div>\n",
       "<style scoped>\n",
       "    .dataframe tbody tr th:only-of-type {\n",
       "        vertical-align: middle;\n",
       "    }\n",
       "\n",
       "    .dataframe tbody tr th {\n",
       "        vertical-align: top;\n",
       "    }\n",
       "\n",
       "    .dataframe thead th {\n",
       "        text-align: right;\n",
       "    }\n",
       "</style>\n",
       "<table border=\"1\" class=\"dataframe\">\n",
       "  <thead>\n",
       "    <tr style=\"text-align: right;\">\n",
       "      <th></th>\n",
       "      <th>floats</th>\n",
       "      <th>ints</th>\n",
       "      <th>ratio</th>\n",
       "    </tr>\n",
       "  </thead>\n",
       "  <tbody>\n",
       "    <tr>\n",
       "      <th>five</th>\n",
       "      <td>5.2</td>\n",
       "      <td>5</td>\n",
       "      <td>0.5</td>\n",
       "    </tr>\n",
       "    <tr>\n",
       "      <th>four</th>\n",
       "      <td>3.0</td>\n",
       "      <td>3</td>\n",
       "      <td>0.5</td>\n",
       "    </tr>\n",
       "    <tr>\n",
       "      <th>one</th>\n",
       "      <td>1.0</td>\n",
       "      <td>1</td>\n",
       "      <td>0.5</td>\n",
       "    </tr>\n",
       "    <tr>\n",
       "      <th>three</th>\n",
       "      <td>3.0</td>\n",
       "      <td>3</td>\n",
       "      <td>0.5</td>\n",
       "    </tr>\n",
       "    <tr>\n",
       "      <th>two</th>\n",
       "      <td>2.0</td>\n",
       "      <td>2</td>\n",
       "      <td>0.5</td>\n",
       "    </tr>\n",
       "  </tbody>\n",
       "</table>\n",
       "</div>"
      ],
      "text/plain": [
       "       floats  ints  ratio\n",
       "five      5.2     5    0.5\n",
       "four      3.0     3    0.5\n",
       "one       1.0     1    0.5\n",
       "three     3.0     3    0.5\n",
       "two       2.0     2    0.5"
      ]
     },
     "execution_count": 43,
     "metadata": {},
     "output_type": "execute_result"
    }
   ],
   "source": [
    "d1.at['five', 'floats'] = 5.2\n",
    "d1"
   ]
  },
  {
   "cell_type": "markdown",
   "metadata": {},
   "source": [
    "For more general cases you can use `pd.DataFrame.loc`, but make sure you avoid chained indexing"
   ]
  },
  {
   "cell_type": "code",
   "execution_count": 44,
   "metadata": {},
   "outputs": [
    {
     "data": {
      "text/html": [
       "<div>\n",
       "<style scoped>\n",
       "    .dataframe tbody tr th:only-of-type {\n",
       "        vertical-align: middle;\n",
       "    }\n",
       "\n",
       "    .dataframe tbody tr th {\n",
       "        vertical-align: top;\n",
       "    }\n",
       "\n",
       "    .dataframe thead th {\n",
       "        text-align: right;\n",
       "    }\n",
       "</style>\n",
       "<table border=\"1\" class=\"dataframe\">\n",
       "  <thead>\n",
       "    <tr style=\"text-align: right;\">\n",
       "      <th></th>\n",
       "      <th>floats</th>\n",
       "      <th>ints</th>\n",
       "      <th>ratio</th>\n",
       "    </tr>\n",
       "  </thead>\n",
       "  <tbody>\n",
       "    <tr>\n",
       "      <th>five</th>\n",
       "      <td>5.3</td>\n",
       "      <td>5</td>\n",
       "      <td>0.5</td>\n",
       "    </tr>\n",
       "    <tr>\n",
       "      <th>four</th>\n",
       "      <td>3.1</td>\n",
       "      <td>3</td>\n",
       "      <td>0.5</td>\n",
       "    </tr>\n",
       "    <tr>\n",
       "      <th>one</th>\n",
       "      <td>1.1</td>\n",
       "      <td>1</td>\n",
       "      <td>0.5</td>\n",
       "    </tr>\n",
       "    <tr>\n",
       "      <th>three</th>\n",
       "      <td>3.1</td>\n",
       "      <td>3</td>\n",
       "      <td>0.5</td>\n",
       "    </tr>\n",
       "    <tr>\n",
       "      <th>two</th>\n",
       "      <td>2.1</td>\n",
       "      <td>2</td>\n",
       "      <td>0.5</td>\n",
       "    </tr>\n",
       "  </tbody>\n",
       "</table>\n",
       "</div>"
      ],
      "text/plain": [
       "       floats  ints  ratio\n",
       "five      5.3     5    0.5\n",
       "four      3.1     3    0.5\n",
       "one       1.1     1    0.5\n",
       "three     3.1     3    0.5\n",
       "two       2.1     2    0.5"
      ]
     },
     "execution_count": 44,
     "metadata": {},
     "output_type": "execute_result"
    }
   ],
   "source": [
    "d1.loc[:, 'floats'] += 0.1\n",
    "d1"
   ]
  },
  {
   "cell_type": "markdown",
   "metadata": {},
   "source": [
    "## DataFrame Methods\n",
    "\n",
    "There are *lots* of methods for operating on DataFrames, have a look at the tab completion and explore the documentation for them. In particular, take a look at the help for `describe`, `head` and `tail`. These are great for orienting yourself with a new dataset"
   ]
  },
  {
   "cell_type": "code",
   "execution_count": 45,
   "metadata": {},
   "outputs": [
    {
     "data": {
      "text/html": [
       "<div>\n",
       "<style scoped>\n",
       "    .dataframe tbody tr th:only-of-type {\n",
       "        vertical-align: middle;\n",
       "    }\n",
       "\n",
       "    .dataframe tbody tr th {\n",
       "        vertical-align: top;\n",
       "    }\n",
       "\n",
       "    .dataframe thead th {\n",
       "        text-align: right;\n",
       "    }\n",
       "</style>\n",
       "<table border=\"1\" class=\"dataframe\">\n",
       "  <thead>\n",
       "    <tr style=\"text-align: right;\">\n",
       "      <th></th>\n",
       "      <th>floats</th>\n",
       "      <th>ints</th>\n",
       "      <th>ratio</th>\n",
       "    </tr>\n",
       "  </thead>\n",
       "  <tbody>\n",
       "    <tr>\n",
       "      <th>count</th>\n",
       "      <td>5.000000</td>\n",
       "      <td>5.00000</td>\n",
       "      <td>5.0</td>\n",
       "    </tr>\n",
       "    <tr>\n",
       "      <th>mean</th>\n",
       "      <td>2.940000</td>\n",
       "      <td>2.80000</td>\n",
       "      <td>0.5</td>\n",
       "    </tr>\n",
       "    <tr>\n",
       "      <th>std</th>\n",
       "      <td>1.558204</td>\n",
       "      <td>1.48324</td>\n",
       "      <td>0.0</td>\n",
       "    </tr>\n",
       "    <tr>\n",
       "      <th>min</th>\n",
       "      <td>1.100000</td>\n",
       "      <td>1.00000</td>\n",
       "      <td>0.5</td>\n",
       "    </tr>\n",
       "    <tr>\n",
       "      <th>25%</th>\n",
       "      <td>2.100000</td>\n",
       "      <td>2.00000</td>\n",
       "      <td>0.5</td>\n",
       "    </tr>\n",
       "    <tr>\n",
       "      <th>50%</th>\n",
       "      <td>3.100000</td>\n",
       "      <td>3.00000</td>\n",
       "      <td>0.5</td>\n",
       "    </tr>\n",
       "    <tr>\n",
       "      <th>75%</th>\n",
       "      <td>3.100000</td>\n",
       "      <td>3.00000</td>\n",
       "      <td>0.5</td>\n",
       "    </tr>\n",
       "    <tr>\n",
       "      <th>max</th>\n",
       "      <td>5.300000</td>\n",
       "      <td>5.00000</td>\n",
       "      <td>0.5</td>\n",
       "    </tr>\n",
       "  </tbody>\n",
       "</table>\n",
       "</div>"
      ],
      "text/plain": [
       "         floats     ints  ratio\n",
       "count  5.000000  5.00000    5.0\n",
       "mean   2.940000  2.80000    0.5\n",
       "std    1.558204  1.48324    0.0\n",
       "min    1.100000  1.00000    0.5\n",
       "25%    2.100000  2.00000    0.5\n",
       "50%    3.100000  3.00000    0.5\n",
       "75%    3.100000  3.00000    0.5\n",
       "max    5.300000  5.00000    0.5"
      ]
     },
     "execution_count": 45,
     "metadata": {},
     "output_type": "execute_result"
    }
   ],
   "source": [
    "d1.describe()"
   ]
  },
  {
   "cell_type": "code",
   "execution_count": 46,
   "metadata": {},
   "outputs": [
    {
     "data": {
      "text/html": [
       "<div>\n",
       "<style scoped>\n",
       "    .dataframe tbody tr th:only-of-type {\n",
       "        vertical-align: middle;\n",
       "    }\n",
       "\n",
       "    .dataframe tbody tr th {\n",
       "        vertical-align: top;\n",
       "    }\n",
       "\n",
       "    .dataframe thead th {\n",
       "        text-align: right;\n",
       "    }\n",
       "</style>\n",
       "<table border=\"1\" class=\"dataframe\">\n",
       "  <thead>\n",
       "    <tr style=\"text-align: right;\">\n",
       "      <th></th>\n",
       "      <th>floats</th>\n",
       "      <th>ints</th>\n",
       "      <th>ratio</th>\n",
       "    </tr>\n",
       "  </thead>\n",
       "  <tbody>\n",
       "    <tr>\n",
       "      <th>five</th>\n",
       "      <td>5.3</td>\n",
       "      <td>5</td>\n",
       "      <td>0.5</td>\n",
       "    </tr>\n",
       "    <tr>\n",
       "      <th>four</th>\n",
       "      <td>3.1</td>\n",
       "      <td>3</td>\n",
       "      <td>0.5</td>\n",
       "    </tr>\n",
       "    <tr>\n",
       "      <th>one</th>\n",
       "      <td>1.1</td>\n",
       "      <td>1</td>\n",
       "      <td>0.5</td>\n",
       "    </tr>\n",
       "    <tr>\n",
       "      <th>three</th>\n",
       "      <td>3.1</td>\n",
       "      <td>3</td>\n",
       "      <td>0.5</td>\n",
       "    </tr>\n",
       "    <tr>\n",
       "      <th>two</th>\n",
       "      <td>2.1</td>\n",
       "      <td>2</td>\n",
       "      <td>0.5</td>\n",
       "    </tr>\n",
       "  </tbody>\n",
       "</table>\n",
       "</div>"
      ],
      "text/plain": [
       "       floats  ints  ratio\n",
       "five      5.3     5    0.5\n",
       "four      3.1     3    0.5\n",
       "one       1.1     1    0.5\n",
       "three     3.1     3    0.5\n",
       "two       2.1     2    0.5"
      ]
     },
     "execution_count": 46,
     "metadata": {},
     "output_type": "execute_result"
    }
   ],
   "source": [
    "d1.head()"
   ]
  },
  {
   "cell_type": "markdown",
   "metadata": {},
   "source": [
    "We won't have time to dive into all of the methods but we'll sample a few, then you should explore the documentation for others. Some of my favourites are\n",
    "\n",
    "* `min`, `max`\n",
    "* `mean`, `mode`, `median`\n",
    "* `max`, `min`, `argmin`, `argmax`, `idxmax`, `idxmin`\n",
    "* `any`, `all`\n",
    "* `astype`\n",
    "* `dropna`\n",
    "* `shift`\n",
    "* `sort_index`, `sort_values`\n",
    "\n",
    "Generally these will return another `DataFrame` with the results you are looking for, but you can also pass the `inplace=True` keyword argument which will modify the `DataFrame` in place and save some memory."
   ]
  },
  {
   "cell_type": "code",
   "execution_count": 47,
   "metadata": {},
   "outputs": [
    {
     "data": {
      "text/plain": [
       "floats    1.1\n",
       "ints      1.0\n",
       "ratio     0.5\n",
       "dtype: float64"
      ]
     },
     "execution_count": 47,
     "metadata": {},
     "output_type": "execute_result"
    }
   ],
   "source": [
    "d1.min()"
   ]
  },
  {
   "cell_type": "code",
   "execution_count": 48,
   "metadata": {},
   "outputs": [
    {
     "data": {
      "text/plain": [
       "floats     True\n",
       "ints       True\n",
       "ratio     False\n",
       "dtype: bool"
      ]
     },
     "execution_count": 48,
     "metadata": {},
     "output_type": "execute_result"
    }
   ],
   "source": [
    "(d1 > 3).any()"
   ]
  },
  {
   "cell_type": "markdown",
   "metadata": {},
   "source": [
    "You can coerce values to different type"
   ]
  },
  {
   "cell_type": "code",
   "execution_count": 51,
   "metadata": {},
   "outputs": [],
   "source": [
    "d1['floaty_ints']= d1['floats'].astype(int)"
   ]
  },
  {
   "cell_type": "code",
   "execution_count": 52,
   "metadata": {},
   "outputs": [
    {
     "data": {
      "text/html": [
       "<div>\n",
       "<style scoped>\n",
       "    .dataframe tbody tr th:only-of-type {\n",
       "        vertical-align: middle;\n",
       "    }\n",
       "\n",
       "    .dataframe tbody tr th {\n",
       "        vertical-align: top;\n",
       "    }\n",
       "\n",
       "    .dataframe thead th {\n",
       "        text-align: right;\n",
       "    }\n",
       "</style>\n",
       "<table border=\"1\" class=\"dataframe\">\n",
       "  <thead>\n",
       "    <tr style=\"text-align: right;\">\n",
       "      <th></th>\n",
       "      <th>floats</th>\n",
       "      <th>ints</th>\n",
       "      <th>ratio</th>\n",
       "      <th>floaty_ints</th>\n",
       "    </tr>\n",
       "  </thead>\n",
       "  <tbody>\n",
       "    <tr>\n",
       "      <th>five</th>\n",
       "      <td>5.3</td>\n",
       "      <td>5</td>\n",
       "      <td>0.5</td>\n",
       "      <td>5</td>\n",
       "    </tr>\n",
       "    <tr>\n",
       "      <th>four</th>\n",
       "      <td>3.1</td>\n",
       "      <td>3</td>\n",
       "      <td>0.5</td>\n",
       "      <td>3</td>\n",
       "    </tr>\n",
       "    <tr>\n",
       "      <th>one</th>\n",
       "      <td>1.1</td>\n",
       "      <td>1</td>\n",
       "      <td>0.5</td>\n",
       "      <td>1</td>\n",
       "    </tr>\n",
       "    <tr>\n",
       "      <th>three</th>\n",
       "      <td>3.1</td>\n",
       "      <td>3</td>\n",
       "      <td>0.5</td>\n",
       "      <td>3</td>\n",
       "    </tr>\n",
       "    <tr>\n",
       "      <th>two</th>\n",
       "      <td>2.1</td>\n",
       "      <td>2</td>\n",
       "      <td>0.5</td>\n",
       "      <td>2</td>\n",
       "    </tr>\n",
       "  </tbody>\n",
       "</table>\n",
       "</div>"
      ],
      "text/plain": [
       "       floats  ints  ratio  floaty_ints\n",
       "five      5.3     5    0.5            5\n",
       "four      3.1     3    0.5            3\n",
       "one       1.1     1    0.5            1\n",
       "three     3.1     3    0.5            3\n",
       "two       2.1     2    0.5            2"
      ]
     },
     "execution_count": 52,
     "metadata": {},
     "output_type": "execute_result"
    }
   ],
   "source": [
    "d1"
   ]
  },
  {
   "cell_type": "markdown",
   "metadata": {},
   "source": [
    "And sort values (or indices)"
   ]
  },
  {
   "cell_type": "code",
   "execution_count": 55,
   "metadata": {},
   "outputs": [],
   "source": [
    "d1.sort_values('floats', inplace=True)"
   ]
  },
  {
   "cell_type": "code",
   "execution_count": 56,
   "metadata": {},
   "outputs": [
    {
     "data": {
      "text/html": [
       "<div>\n",
       "<style scoped>\n",
       "    .dataframe tbody tr th:only-of-type {\n",
       "        vertical-align: middle;\n",
       "    }\n",
       "\n",
       "    .dataframe tbody tr th {\n",
       "        vertical-align: top;\n",
       "    }\n",
       "\n",
       "    .dataframe thead th {\n",
       "        text-align: right;\n",
       "    }\n",
       "</style>\n",
       "<table border=\"1\" class=\"dataframe\">\n",
       "  <thead>\n",
       "    <tr style=\"text-align: right;\">\n",
       "      <th></th>\n",
       "      <th>floats</th>\n",
       "      <th>ints</th>\n",
       "      <th>ratio</th>\n",
       "      <th>floaty_ints</th>\n",
       "    </tr>\n",
       "  </thead>\n",
       "  <tbody>\n",
       "    <tr>\n",
       "      <th>one</th>\n",
       "      <td>1.1</td>\n",
       "      <td>1</td>\n",
       "      <td>0.5</td>\n",
       "      <td>1</td>\n",
       "    </tr>\n",
       "    <tr>\n",
       "      <th>two</th>\n",
       "      <td>2.1</td>\n",
       "      <td>2</td>\n",
       "      <td>0.5</td>\n",
       "      <td>2</td>\n",
       "    </tr>\n",
       "    <tr>\n",
       "      <th>four</th>\n",
       "      <td>3.1</td>\n",
       "      <td>3</td>\n",
       "      <td>0.5</td>\n",
       "      <td>3</td>\n",
       "    </tr>\n",
       "    <tr>\n",
       "      <th>three</th>\n",
       "      <td>3.1</td>\n",
       "      <td>3</td>\n",
       "      <td>0.5</td>\n",
       "      <td>3</td>\n",
       "    </tr>\n",
       "    <tr>\n",
       "      <th>five</th>\n",
       "      <td>5.3</td>\n",
       "      <td>5</td>\n",
       "      <td>0.5</td>\n",
       "      <td>5</td>\n",
       "    </tr>\n",
       "  </tbody>\n",
       "</table>\n",
       "</div>"
      ],
      "text/plain": [
       "       floats  ints  ratio  floaty_ints\n",
       "one       1.1     1    0.5            1\n",
       "two       2.1     2    0.5            2\n",
       "four      3.1     3    0.5            3\n",
       "three     3.1     3    0.5            3\n",
       "five      5.3     5    0.5            5"
      ]
     },
     "execution_count": 56,
     "metadata": {},
     "output_type": "execute_result"
    }
   ],
   "source": [
    "d1"
   ]
  },
  {
   "cell_type": "code",
   "execution_count": 58,
   "metadata": {},
   "outputs": [
    {
     "data": {
      "text/html": [
       "<div>\n",
       "<style scoped>\n",
       "    .dataframe tbody tr th:only-of-type {\n",
       "        vertical-align: middle;\n",
       "    }\n",
       "\n",
       "    .dataframe tbody tr th {\n",
       "        vertical-align: top;\n",
       "    }\n",
       "\n",
       "    .dataframe thead th {\n",
       "        text-align: right;\n",
       "    }\n",
       "</style>\n",
       "<table border=\"1\" class=\"dataframe\">\n",
       "  <thead>\n",
       "    <tr style=\"text-align: right;\">\n",
       "      <th></th>\n",
       "      <th>floats</th>\n",
       "      <th>ints</th>\n",
       "      <th>ratio</th>\n",
       "      <th>floaty_ints</th>\n",
       "    </tr>\n",
       "  </thead>\n",
       "  <tbody>\n",
       "    <tr>\n",
       "      <th>one</th>\n",
       "      <td>1.1</td>\n",
       "      <td>1</td>\n",
       "      <td>0.5</td>\n",
       "      <td>1</td>\n",
       "    </tr>\n",
       "    <tr>\n",
       "      <th>two</th>\n",
       "      <td>2.1</td>\n",
       "      <td>2</td>\n",
       "      <td>0.5</td>\n",
       "      <td>2</td>\n",
       "    </tr>\n",
       "    <tr>\n",
       "      <th>four</th>\n",
       "      <td>3.1</td>\n",
       "      <td>3</td>\n",
       "      <td>0.5</td>\n",
       "      <td>3</td>\n",
       "    </tr>\n",
       "    <tr>\n",
       "      <th>three</th>\n",
       "      <td>NaN</td>\n",
       "      <td>3</td>\n",
       "      <td>0.5</td>\n",
       "      <td>3</td>\n",
       "    </tr>\n",
       "    <tr>\n",
       "      <th>five</th>\n",
       "      <td>5.3</td>\n",
       "      <td>5</td>\n",
       "      <td>0.5</td>\n",
       "      <td>5</td>\n",
       "    </tr>\n",
       "  </tbody>\n",
       "</table>\n",
       "</div>"
      ],
      "text/plain": [
       "       floats  ints  ratio  floaty_ints\n",
       "one       1.1     1    0.5            1\n",
       "two       2.1     2    0.5            2\n",
       "four      3.1     3    0.5            3\n",
       "three     NaN     3    0.5            3\n",
       "five      5.3     5    0.5            5"
      ]
     },
     "execution_count": 58,
     "metadata": {},
     "output_type": "execute_result"
    }
   ],
   "source": [
    "d1.at['three', 'floats'] = np.NaN\n",
    "d1"
   ]
  },
  {
   "cell_type": "code",
   "execution_count": 61,
   "metadata": {},
   "outputs": [
    {
     "data": {
      "text/plain": [
       "nan"
      ]
     },
     "execution_count": 61,
     "metadata": {},
     "output_type": "execute_result"
    }
   ],
   "source": [
    "d1['floats'].values.mean()"
   ]
  },
  {
   "cell_type": "code",
   "execution_count": 62,
   "metadata": {},
   "outputs": [
    {
     "data": {
      "text/plain": [
       "2.9000000000000004"
      ]
     },
     "execution_count": 62,
     "metadata": {},
     "output_type": "execute_result"
    }
   ],
   "source": [
    "d1['floats'].mean()"
   ]
  },
  {
   "cell_type": "code",
   "execution_count": 63,
   "metadata": {},
   "outputs": [
    {
     "data": {
      "text/plain": [
       "2.9000000000000004"
      ]
     },
     "execution_count": 63,
     "metadata": {},
     "output_type": "execute_result"
    }
   ],
   "source": [
    "d1['floats'].dropna().values.mean()"
   ]
  },
  {
   "cell_type": "markdown",
   "metadata": {},
   "source": [
    "### Working with External Data\n",
    "\n",
    "Data comes in many, many forms from simple csv/json files, real-time APIs, structured binary files and many others. Try `pd.read_<TAB>` to see some of the `pandas` igestion options. `read_csv` is the main workhorse for data sets which will fit on a single machines. It is way more flexible than it's name suggests (S3 buckets, https, compressed files, ...) and many of the arguments to `read_csv` will have equivalents for the other functions, so we'll take a closer look at.\n",
    "    \n",
    "We need a CSV to work with. The city of Vancouver has an [open data catalog](https://vancouver.ca/your-government/open-data-catalogue.aspx), which has CSV for some of the datasets. There's a dataset which lists all of the [community gardens and food trees](https://opendata.vancouver.ca/explore/dataset/community-gardens-and-food-trees/information/) maintained by the city. A copy of it is available in this directory called `CommunityGardensAndFoodTrees.csv`"
   ]
  },
  {
   "cell_type": "code",
   "execution_count": null,
   "metadata": {},
   "outputs": [],
   "source": [
    "#pd.read_csv?"
   ]
  },
  {
   "cell_type": "code",
   "execution_count": 64,
   "metadata": {},
   "outputs": [
    {
     "data": {
      "text/plain": [
       "(176, 19)"
      ]
     },
     "execution_count": 64,
     "metadata": {},
     "output_type": "execute_result"
    }
   ],
   "source": [
    "gardenDF = pd.read_csv(\n",
    "    \"https://opendata.vancouver.ca/explore/dataset/community-gardens-and-food-trees/download/?format=csv&timezone=America/Los_Angeles&lang=en&use_labels_for_header=true&csv_separator=%3B\",\n",
    "    delimiter=';'\n",
    ")\n",
    "gardenDF.shape"
   ]
  },
  {
   "cell_type": "markdown",
   "metadata": {},
   "source": [
    "So there are 176 rows, with 19 columns, here are the fist few rows"
   ]
  },
  {
   "cell_type": "code",
   "execution_count": 65,
   "metadata": {},
   "outputs": [
    {
     "data": {
      "text/html": [
       "<div>\n",
       "<style scoped>\n",
       "    .dataframe tbody tr th:only-of-type {\n",
       "        vertical-align: middle;\n",
       "    }\n",
       "\n",
       "    .dataframe tbody tr th {\n",
       "        vertical-align: top;\n",
       "    }\n",
       "\n",
       "    .dataframe thead th {\n",
       "        text-align: right;\n",
       "    }\n",
       "</style>\n",
       "<table border=\"1\" class=\"dataframe\">\n",
       "  <thead>\n",
       "    <tr style=\"text-align: right;\">\n",
       "      <th></th>\n",
       "      <th>MAPID</th>\n",
       "      <th>YEAR_CREATED</th>\n",
       "      <th>NAME</th>\n",
       "      <th>STREET_NUMBER</th>\n",
       "      <th>STREET_DIRECTION</th>\n",
       "      <th>STREET_NAME</th>\n",
       "      <th>STREET_TYPE</th>\n",
       "      <th>MERGED_ADDRESS</th>\n",
       "      <th>NUMBER_OF_PLOTS</th>\n",
       "      <th>NUMBER_OF_FOOD_TREES</th>\n",
       "      <th>NOTES</th>\n",
       "      <th>FOOD_TREE_VARIETIES</th>\n",
       "      <th>OTHER_FOOD_ASSETS</th>\n",
       "      <th>JURISDICTION</th>\n",
       "      <th>STEWARD_OR_MANAGING_ORGANIZATION</th>\n",
       "      <th>PUBLIC_E_MAIL</th>\n",
       "      <th>WEBSITE</th>\n",
       "      <th>Geo Local Area</th>\n",
       "      <th>Geom</th>\n",
       "    </tr>\n",
       "  </thead>\n",
       "  <tbody>\n",
       "    <tr>\n",
       "      <th>0</th>\n",
       "      <td>FA002</td>\n",
       "      <td>2014</td>\n",
       "      <td>15th Avenue Coop</td>\n",
       "      <td>1255</td>\n",
       "      <td>E</td>\n",
       "      <td>15th</td>\n",
       "      <td>Av</td>\n",
       "      <td>1255 E 15th Av, Vancouver, BC</td>\n",
       "      <td>8.0</td>\n",
       "      <td>NaN</td>\n",
       "      <td>NaN</td>\n",
       "      <td>NaN</td>\n",
       "      <td>NaN</td>\n",
       "      <td>Private</td>\n",
       "      <td>NaN</td>\n",
       "      <td>NaN</td>\n",
       "      <td>NaN</td>\n",
       "      <td>Mount Pleasant</td>\n",
       "      <td>{\"type\": \"Point\", \"coordinates\": [-123.0788387...</td>\n",
       "    </tr>\n",
       "    <tr>\n",
       "      <th>1</th>\n",
       "      <td>FA003</td>\n",
       "      <td>2008</td>\n",
       "      <td>16 Oaks</td>\n",
       "      <td>1018</td>\n",
       "      <td>W</td>\n",
       "      <td>16th</td>\n",
       "      <td>Av</td>\n",
       "      <td>1018 W 16th Av, Vancouver, BC</td>\n",
       "      <td>55.0</td>\n",
       "      <td>NaN</td>\n",
       "      <td>NaN</td>\n",
       "      <td>NaN</td>\n",
       "      <td>NaN</td>\n",
       "      <td>Private</td>\n",
       "      <td>NaN</td>\n",
       "      <td>oak.16th.garden@gmail.com</td>\n",
       "      <td>NaN</td>\n",
       "      <td>Shaughnessy</td>\n",
       "      <td>{\"type\": \"Point\", \"coordinates\": [-123.1276645...</td>\n",
       "    </tr>\n",
       "    <tr>\n",
       "      <th>2</th>\n",
       "      <td>FA006</td>\n",
       "      <td>2011</td>\n",
       "      <td>Adanac Park Community Garden</td>\n",
       "      <td>1025</td>\n",
       "      <td>NaN</td>\n",
       "      <td>Boundary</td>\n",
       "      <td>Road</td>\n",
       "      <td>1025 Boundary Road, Vancouver, BC</td>\n",
       "      <td>30.0</td>\n",
       "      <td>8</td>\n",
       "      <td>NaN</td>\n",
       "      <td>1 Early McIntosh Apple; 1 Jonagold apple; 2 it...</td>\n",
       "      <td>NaN</td>\n",
       "      <td>Park Board</td>\n",
       "      <td>Kiwassa Neighbourhood Services Association</td>\n",
       "      <td>adanac.park.garden@gmail.com</td>\n",
       "      <td>http://adanacparkcommunitygarden.blogspot.ca/</td>\n",
       "      <td>Hastings-Sunrise</td>\n",
       "      <td>{\"type\": \"Point\", \"coordinates\": [-123.0243945...</td>\n",
       "    </tr>\n",
       "    <tr>\n",
       "      <th>3</th>\n",
       "      <td>FA007</td>\n",
       "      <td>1942</td>\n",
       "      <td>East Boulevard Allotment Plots</td>\n",
       "      <td>7176</td>\n",
       "      <td>E</td>\n",
       "      <td>NaN</td>\n",
       "      <td>Boulevard</td>\n",
       "      <td>7176 E  Boulevard, Vancouver, BC</td>\n",
       "      <td>71.0</td>\n",
       "      <td>NaN</td>\n",
       "      <td>NaN</td>\n",
       "      <td>NaN</td>\n",
       "      <td>NaN</td>\n",
       "      <td>City</td>\n",
       "      <td>City of Vancouver</td>\n",
       "      <td>communitygardens@vancouver.ca</td>\n",
       "      <td>NaN</td>\n",
       "      <td>Kerrisdale</td>\n",
       "      <td>{\"type\": \"Point\", \"coordinates\": [-123.1505481...</td>\n",
       "    </tr>\n",
       "    <tr>\n",
       "      <th>4</th>\n",
       "      <td>FA009</td>\n",
       "      <td>2010</td>\n",
       "      <td>Atira Community Garden</td>\n",
       "      <td>400</td>\n",
       "      <td>NaN</td>\n",
       "      <td>Hawks</td>\n",
       "      <td>Av</td>\n",
       "      <td>400 Hawks Av, Vancouver, BC</td>\n",
       "      <td>15.0</td>\n",
       "      <td>NaN</td>\n",
       "      <td>NaN</td>\n",
       "      <td>NaN</td>\n",
       "      <td>NaN</td>\n",
       "      <td>Private</td>\n",
       "      <td>Atira Community Resources</td>\n",
       "      <td>NaN</td>\n",
       "      <td>http://www.atira.bc.ca/community-garden-kitchens</td>\n",
       "      <td>Strathcona</td>\n",
       "      <td>{\"type\": \"Point\", \"coordinates\": [-123.0871212...</td>\n",
       "    </tr>\n",
       "  </tbody>\n",
       "</table>\n",
       "</div>"
      ],
      "text/plain": [
       "   MAPID YEAR_CREATED                            NAME STREET_NUMBER  \\\n",
       "0  FA002         2014                15th Avenue Coop          1255   \n",
       "1  FA003         2008                         16 Oaks          1018   \n",
       "2  FA006         2011    Adanac Park Community Garden          1025   \n",
       "3  FA007         1942  East Boulevard Allotment Plots          7176   \n",
       "4  FA009         2010          Atira Community Garden           400   \n",
       "\n",
       "  STREET_DIRECTION STREET_NAME STREET_TYPE                     MERGED_ADDRESS  \\\n",
       "0                E        15th          Av      1255 E 15th Av, Vancouver, BC   \n",
       "1                W        16th          Av      1018 W 16th Av, Vancouver, BC   \n",
       "2              NaN    Boundary        Road  1025 Boundary Road, Vancouver, BC   \n",
       "3                E         NaN   Boulevard   7176 E  Boulevard, Vancouver, BC   \n",
       "4              NaN       Hawks          Av        400 Hawks Av, Vancouver, BC   \n",
       "\n",
       "   NUMBER_OF_PLOTS NUMBER_OF_FOOD_TREES NOTES  \\\n",
       "0              8.0                  NaN   NaN   \n",
       "1             55.0                  NaN   NaN   \n",
       "2             30.0                    8   NaN   \n",
       "3             71.0                  NaN   NaN   \n",
       "4             15.0                  NaN   NaN   \n",
       "\n",
       "                                 FOOD_TREE_VARIETIES OTHER_FOOD_ASSETS  \\\n",
       "0                                                NaN               NaN   \n",
       "1                                                NaN               NaN   \n",
       "2  1 Early McIntosh Apple; 1 Jonagold apple; 2 it...               NaN   \n",
       "3                                                NaN               NaN   \n",
       "4                                                NaN               NaN   \n",
       "\n",
       "  JURISDICTION            STEWARD_OR_MANAGING_ORGANIZATION  \\\n",
       "0      Private                                         NaN   \n",
       "1      Private                                         NaN   \n",
       "2   Park Board  Kiwassa Neighbourhood Services Association   \n",
       "3         City                           City of Vancouver   \n",
       "4      Private                   Atira Community Resources   \n",
       "\n",
       "                   PUBLIC_E_MAIL  \\\n",
       "0                            NaN   \n",
       "1      oak.16th.garden@gmail.com   \n",
       "2   adanac.park.garden@gmail.com   \n",
       "3  communitygardens@vancouver.ca   \n",
       "4                            NaN   \n",
       "\n",
       "                                            WEBSITE    Geo Local Area  \\\n",
       "0                                               NaN    Mount Pleasant   \n",
       "1                                               NaN       Shaughnessy   \n",
       "2     http://adanacparkcommunitygarden.blogspot.ca/  Hastings-Sunrise   \n",
       "3                                               NaN        Kerrisdale   \n",
       "4  http://www.atira.bc.ca/community-garden-kitchens        Strathcona   \n",
       "\n",
       "                                                Geom  \n",
       "0  {\"type\": \"Point\", \"coordinates\": [-123.0788387...  \n",
       "1  {\"type\": \"Point\", \"coordinates\": [-123.1276645...  \n",
       "2  {\"type\": \"Point\", \"coordinates\": [-123.0243945...  \n",
       "3  {\"type\": \"Point\", \"coordinates\": [-123.1505481...  \n",
       "4  {\"type\": \"Point\", \"coordinates\": [-123.0871212...  "
      ]
     },
     "execution_count": 65,
     "metadata": {},
     "output_type": "execute_result"
    }
   ],
   "source": [
    "gardenDF.head()"
   ]
  },
  {
   "cell_type": "markdown",
   "metadata": {},
   "source": [
    "So we can tell things like the gardens were created (`YEAR_CREATED`), and where the are (`LATITUDE`, `LONGITUDE`), and who's responsible for them (`STEWARD_OR_MANAGING_ORGANIZATION`). "
   ]
  },
  {
   "cell_type": "markdown",
   "metadata": {},
   "source": [
    "Now it is time to clean the data. This is a hugely important step and will generally eat a lot of your time, but it is worth doing right. Having mistakes in your data undermine everything you are trying to do.\n",
    "\n",
    "First let's look at the index, the default is to index by integer, but we could have picked any column instead. It looks like the first column is unique (`MAPID`) and so let's use that (chosing the index right can make your life much easier when adding data or combining multiple DataFrames). The `inplace=True` argument means modify the existing dataframe rather than returning a modified copy"
   ]
  },
  {
   "cell_type": "code",
   "execution_count": 66,
   "metadata": {},
   "outputs": [],
   "source": [
    "gardenDF.set_index('MAPID', inplace=True)"
   ]
  },
  {
   "cell_type": "markdown",
   "metadata": {},
   "source": [
    "One useful trick when cleaning data is to look at the unique values in a column. You'll often catch coding mistakes or values being used as placeholders this way, e.g."
   ]
  },
  {
   "cell_type": "code",
   "execution_count": 67,
   "metadata": {},
   "outputs": [
    {
     "data": {
      "text/plain": [
       "array(['2014', '2008', '2011', '1942', '2010', '2015', nan, '2009',\n",
       "       '2013', '1992', '2006', '1996', '1986', '2007', 'pre 2000', '2012',\n",
       "       '1978', '2002', 'pre-1970', '2016', '2017', '2018', '2019', '1993',\n",
       "       '1995', '1988', '1990', '2003', '1985', '1999', '2020', 'Pre-2010'],\n",
       "      dtype=object)"
      ]
     },
     "execution_count": 67,
     "metadata": {},
     "output_type": "execute_result"
    }
   ],
   "source": [
    "gardenDF['YEAR_CREATED'].unique()"
   ]
  },
  {
   "cell_type": "markdown",
   "metadata": {},
   "source": [
    "`Pre-2010`, `pre-1970` and `pre 2000` are kind of usless (and inconsistent!) so let's toss them"
   ]
  },
  {
   "cell_type": "code",
   "execution_count": 68,
   "metadata": {},
   "outputs": [
    {
     "data": {
      "text/plain": [
       "array(['2014', '2008', '2011', '1942', '2010', '2015', nan, '2009',\n",
       "       '2013', '1992', '2006', '1996', '1986', '2007', '2012', '1978',\n",
       "       '2002', '2016', '2017', '2018', '2019', '1993', '1995', '1988',\n",
       "       '1990', '2003', '1985', '1999', '2020'], dtype=object)"
      ]
     },
     "execution_count": 68,
     "metadata": {},
     "output_type": "execute_result"
    }
   ],
   "source": [
    "for badLabel in ['Pre-2010', 'pre-1970', 'pre 2000']:\n",
    "    gardenDF = gardenDF[gardenDF['YEAR_CREATED'] != badLabel]\n",
    "\n",
    "gardenDF['YEAR_CREATED'].unique()"
   ]
  },
  {
   "cell_type": "markdown",
   "metadata": {},
   "source": [
    "There's still an `np.NaN`, and the years are strings (numbers would be better, or even dates). We can take a closer look at the rows which are missing their `YEAR_CREATED` using isnull"
   ]
  },
  {
   "cell_type": "code",
   "execution_count": 69,
   "metadata": {},
   "outputs": [
    {
     "data": {
      "text/html": [
       "<div>\n",
       "<style scoped>\n",
       "    .dataframe tbody tr th:only-of-type {\n",
       "        vertical-align: middle;\n",
       "    }\n",
       "\n",
       "    .dataframe tbody tr th {\n",
       "        vertical-align: top;\n",
       "    }\n",
       "\n",
       "    .dataframe thead th {\n",
       "        text-align: right;\n",
       "    }\n",
       "</style>\n",
       "<table border=\"1\" class=\"dataframe\">\n",
       "  <thead>\n",
       "    <tr style=\"text-align: right;\">\n",
       "      <th></th>\n",
       "      <th>YEAR_CREATED</th>\n",
       "      <th>NAME</th>\n",
       "      <th>STREET_NUMBER</th>\n",
       "      <th>STREET_DIRECTION</th>\n",
       "      <th>STREET_NAME</th>\n",
       "      <th>STREET_TYPE</th>\n",
       "      <th>MERGED_ADDRESS</th>\n",
       "      <th>NUMBER_OF_PLOTS</th>\n",
       "      <th>NUMBER_OF_FOOD_TREES</th>\n",
       "      <th>NOTES</th>\n",
       "      <th>FOOD_TREE_VARIETIES</th>\n",
       "      <th>OTHER_FOOD_ASSETS</th>\n",
       "      <th>JURISDICTION</th>\n",
       "      <th>STEWARD_OR_MANAGING_ORGANIZATION</th>\n",
       "      <th>PUBLIC_E_MAIL</th>\n",
       "      <th>WEBSITE</th>\n",
       "      <th>Geo Local Area</th>\n",
       "      <th>Geom</th>\n",
       "    </tr>\n",
       "    <tr>\n",
       "      <th>MAPID</th>\n",
       "      <th></th>\n",
       "      <th></th>\n",
       "      <th></th>\n",
       "      <th></th>\n",
       "      <th></th>\n",
       "      <th></th>\n",
       "      <th></th>\n",
       "      <th></th>\n",
       "      <th></th>\n",
       "      <th></th>\n",
       "      <th></th>\n",
       "      <th></th>\n",
       "      <th></th>\n",
       "      <th></th>\n",
       "      <th></th>\n",
       "      <th></th>\n",
       "      <th></th>\n",
       "      <th></th>\n",
       "    </tr>\n",
       "  </thead>\n",
       "  <tbody>\n",
       "    <tr>\n",
       "      <th>FA017</th>\n",
       "      <td>NaN</td>\n",
       "      <td>Carnarvon Park</td>\n",
       "      <td>2995</td>\n",
       "      <td>W</td>\n",
       "      <td>19th</td>\n",
       "      <td>Av</td>\n",
       "      <td>2995 W 19th Av, Vancouver, BC</td>\n",
       "      <td>0.0</td>\n",
       "      <td>15</td>\n",
       "      <td>NaN</td>\n",
       "      <td>Apple</td>\n",
       "      <td>NaN</td>\n",
       "      <td>Park Board</td>\n",
       "      <td>NaN</td>\n",
       "      <td>NaN</td>\n",
       "      <td>NaN</td>\n",
       "      <td>Arbutus-Ridge</td>\n",
       "      <td>{\"type\": \"Point\", \"coordinates\": [-123.171486,...</td>\n",
       "    </tr>\n",
       "    <tr>\n",
       "      <th>FA024</th>\n",
       "      <td>NaN</td>\n",
       "      <td>Charles Park</td>\n",
       "      <td>3400</td>\n",
       "      <td>NaN</td>\n",
       "      <td>Charles</td>\n",
       "      <td>St</td>\n",
       "      <td>3400 Charles St, Vancouver, BC</td>\n",
       "      <td>0.0</td>\n",
       "      <td>1</td>\n",
       "      <td>NaN</td>\n",
       "      <td>Crabapple</td>\n",
       "      <td>NaN</td>\n",
       "      <td>Park Board</td>\n",
       "      <td>NaN</td>\n",
       "      <td>NaN</td>\n",
       "      <td>NaN</td>\n",
       "      <td>Hastings-Sunrise</td>\n",
       "      <td>{\"type\": \"Point\", \"coordinates\": [-123.0308947...</td>\n",
       "    </tr>\n",
       "    <tr>\n",
       "      <th>FA046</th>\n",
       "      <td>NaN</td>\n",
       "      <td>Delamont Park</td>\n",
       "      <td>2091</td>\n",
       "      <td>W</td>\n",
       "      <td>7th</td>\n",
       "      <td>Av</td>\n",
       "      <td>2091 W 7th Av, Vancouver, BC</td>\n",
       "      <td>0.0</td>\n",
       "      <td>8</td>\n",
       "      <td>NaN</td>\n",
       "      <td>Cherry, Asian pear, plum, hazelnut</td>\n",
       "      <td>NaN</td>\n",
       "      <td>Park Board</td>\n",
       "      <td>NaN</td>\n",
       "      <td>NaN</td>\n",
       "      <td>NaN</td>\n",
       "      <td>Kitsilano</td>\n",
       "      <td>{\"type\": \"Point\", \"coordinates\": [-123.152619,...</td>\n",
       "    </tr>\n",
       "    <tr>\n",
       "      <th>FA055</th>\n",
       "      <td>NaN</td>\n",
       "      <td>Everett Crowley Park</td>\n",
       "      <td>8200</td>\n",
       "      <td>NaN</td>\n",
       "      <td>Kerr</td>\n",
       "      <td>St</td>\n",
       "      <td>8200 Kerr St, Vancouver, BC</td>\n",
       "      <td>0.0</td>\n",
       "      <td>2</td>\n",
       "      <td>NaN</td>\n",
       "      <td>Cherry, pear</td>\n",
       "      <td>NaN</td>\n",
       "      <td>Park Board</td>\n",
       "      <td>NaN</td>\n",
       "      <td>NaN</td>\n",
       "      <td>NaN</td>\n",
       "      <td>Killarney</td>\n",
       "      <td>{\"type\": \"Point\", \"coordinates\": [-123.0380764...</td>\n",
       "    </tr>\n",
       "    <tr>\n",
       "      <th>FA010</th>\n",
       "      <td>NaN</td>\n",
       "      <td>Barclay Heritage Square</td>\n",
       "      <td>1433</td>\n",
       "      <td>NaN</td>\n",
       "      <td>Barclay</td>\n",
       "      <td>St</td>\n",
       "      <td>1433 Barclay St, Vancouver, BC</td>\n",
       "      <td>0.0</td>\n",
       "      <td>2</td>\n",
       "      <td>NaN</td>\n",
       "      <td>Apple</td>\n",
       "      <td>NaN</td>\n",
       "      <td>Park Board</td>\n",
       "      <td>NaN</td>\n",
       "      <td>NaN</td>\n",
       "      <td>NaN</td>\n",
       "      <td>West End</td>\n",
       "      <td>{\"type\": \"Point\", \"coordinates\": [-123.1328450...</td>\n",
       "    </tr>\n",
       "    <tr>\n",
       "      <th>FA022</th>\n",
       "      <td>NaN</td>\n",
       "      <td>Champlain Heights Park</td>\n",
       "      <td>3351</td>\n",
       "      <td>NaN</td>\n",
       "      <td>Maquinna</td>\n",
       "      <td>Drive</td>\n",
       "      <td>3351 Maquinna  Drive, Vancouver, BC</td>\n",
       "      <td>0.0</td>\n",
       "      <td>1</td>\n",
       "      <td>NaN</td>\n",
       "      <td>Apple</td>\n",
       "      <td>NaN</td>\n",
       "      <td>Park Board</td>\n",
       "      <td>NaN</td>\n",
       "      <td>NaN</td>\n",
       "      <td>NaN</td>\n",
       "      <td>Killarney</td>\n",
       "      <td>{\"type\": \"Point\", \"coordinates\": [-123.0326603...</td>\n",
       "    </tr>\n",
       "    <tr>\n",
       "      <th>FA148</th>\n",
       "      <td>NaN</td>\n",
       "      <td>Westmount Park</td>\n",
       "      <td>4651</td>\n",
       "      <td>W</td>\n",
       "      <td>2nd</td>\n",
       "      <td>Av</td>\n",
       "      <td>4651 W 2nd Av, Vancouver, BC</td>\n",
       "      <td>0.0</td>\n",
       "      <td>2</td>\n",
       "      <td>NaN</td>\n",
       "      <td>Apple</td>\n",
       "      <td>NaN</td>\n",
       "      <td>Park Board</td>\n",
       "      <td>NaN</td>\n",
       "      <td>NaN</td>\n",
       "      <td>NaN</td>\n",
       "      <td>West Point Grey</td>\n",
       "      <td>{\"type\": \"Point\", \"coordinates\": [-123.2144218...</td>\n",
       "    </tr>\n",
       "    <tr>\n",
       "      <th>FA176</th>\n",
       "      <td>NaN</td>\n",
       "      <td>John Hendry (Trout Lake) Park</td>\n",
       "      <td>3300</td>\n",
       "      <td>NaN</td>\n",
       "      <td>Victoria</td>\n",
       "      <td>Drive</td>\n",
       "      <td>3300 Victoria Drive, Vancouver, BC</td>\n",
       "      <td>4.0</td>\n",
       "      <td>NaN</td>\n",
       "      <td>NaN</td>\n",
       "      <td>NaN</td>\n",
       "      <td>NaN</td>\n",
       "      <td>Park Board</td>\n",
       "      <td>NaN</td>\n",
       "      <td>NaN</td>\n",
       "      <td>https://cedarcottagefoodnetwork.com/projects-e...</td>\n",
       "      <td>Kensington-Cedar Cottage</td>\n",
       "      <td>{\"type\": \"Point\", \"coordinates\": [-123.0636787...</td>\n",
       "    </tr>\n",
       "    <tr>\n",
       "      <th>FA008</th>\n",
       "      <td>NaN</td>\n",
       "      <td>Arbutus Village Park</td>\n",
       "      <td>4202</td>\n",
       "      <td>NaN</td>\n",
       "      <td>Valley</td>\n",
       "      <td>Drive</td>\n",
       "      <td>4202 Valley Drive, Vancouver, BC</td>\n",
       "      <td>0.0</td>\n",
       "      <td>9</td>\n",
       "      <td>NaN</td>\n",
       "      <td>Crabapple</td>\n",
       "      <td>NaN</td>\n",
       "      <td>Park Board</td>\n",
       "      <td>NaN</td>\n",
       "      <td>NaN</td>\n",
       "      <td>NaN</td>\n",
       "      <td>Arbutus-Ridge</td>\n",
       "      <td>{\"type\": \"Point\", \"coordinates\": [-123.1549951...</td>\n",
       "    </tr>\n",
       "    <tr>\n",
       "      <th>FA014</th>\n",
       "      <td>NaN</td>\n",
       "      <td>Burrard View Park</td>\n",
       "      <td>650</td>\n",
       "      <td>N</td>\n",
       "      <td>Penticton</td>\n",
       "      <td>St</td>\n",
       "      <td>650 N Penticton St, Vancouver, BC</td>\n",
       "      <td>0.0</td>\n",
       "      <td>1</td>\n",
       "      <td>NaN</td>\n",
       "      <td>Cherry</td>\n",
       "      <td>NaN</td>\n",
       "      <td>Park Board</td>\n",
       "      <td>NaN</td>\n",
       "      <td>NaN</td>\n",
       "      <td>NaN</td>\n",
       "      <td>Hastings-Sunrise</td>\n",
       "      <td>{\"type\": \"Point\", \"coordinates\": [-123.0519175...</td>\n",
       "    </tr>\n",
       "    <tr>\n",
       "      <th>FA069</th>\n",
       "      <td>NaN</td>\n",
       "      <td>Grass Roots Community Garden</td>\n",
       "      <td>478</td>\n",
       "      <td>E</td>\n",
       "      <td>Hastings</td>\n",
       "      <td>St</td>\n",
       "      <td>478 E  Hastings  St, Vancouver, BC</td>\n",
       "      <td>10.0</td>\n",
       "      <td>NaN</td>\n",
       "      <td>NaN</td>\n",
       "      <td>NaN</td>\n",
       "      <td>NaN</td>\n",
       "      <td>Private</td>\n",
       "      <td>NaN</td>\n",
       "      <td>NaN</td>\n",
       "      <td>NaN</td>\n",
       "      <td>Strathcona</td>\n",
       "      <td>{\"type\": \"Point\", \"coordinates\": [-123.0936723...</td>\n",
       "    </tr>\n",
       "    <tr>\n",
       "      <th>FA145</th>\n",
       "      <td>NaN</td>\n",
       "      <td>Van Dusen Botanical Gardens</td>\n",
       "      <td>5251</td>\n",
       "      <td>NaN</td>\n",
       "      <td>Oak</td>\n",
       "      <td>St</td>\n",
       "      <td>5251 Oak St, Vancouver, BC</td>\n",
       "      <td>0.0</td>\n",
       "      <td>yes</td>\n",
       "      <td>NaN</td>\n",
       "      <td>Heritage apple</td>\n",
       "      <td>NaN</td>\n",
       "      <td>Park Board</td>\n",
       "      <td>Van Dusen Botanical Garden Association</td>\n",
       "      <td>NaN</td>\n",
       "      <td>NaN</td>\n",
       "      <td>Shaughnessy</td>\n",
       "      <td>{\"type\": \"Point\", \"coordinates\": [-123.1280384...</td>\n",
       "    </tr>\n",
       "    <tr>\n",
       "      <th>FA184</th>\n",
       "      <td>NaN</td>\n",
       "      <td>Van Tech secondary school</td>\n",
       "      <td>2600</td>\n",
       "      <td>E</td>\n",
       "      <td>Broadway</td>\n",
       "      <td>NaN</td>\n",
       "      <td>2600 E Broadway , Vancouver, BC</td>\n",
       "      <td>0.0</td>\n",
       "      <td>5</td>\n",
       "      <td>NaN</td>\n",
       "      <td>NaN</td>\n",
       "      <td>NaN</td>\n",
       "      <td>private</td>\n",
       "      <td>NaN</td>\n",
       "      <td>NaN</td>\n",
       "      <td>NaN</td>\n",
       "      <td>Renfrew-Collingwood</td>\n",
       "      <td>{\"type\": \"Point\", \"coordinates\": [-123.051705,...</td>\n",
       "    </tr>\n",
       "  </tbody>\n",
       "</table>\n",
       "</div>"
      ],
      "text/plain": [
       "      YEAR_CREATED                           NAME STREET_NUMBER  \\\n",
       "MAPID                                                             \n",
       "FA017          NaN                 Carnarvon Park          2995   \n",
       "FA024          NaN                   Charles Park          3400   \n",
       "FA046          NaN                  Delamont Park          2091   \n",
       "FA055          NaN           Everett Crowley Park          8200   \n",
       "FA010          NaN        Barclay Heritage Square          1433   \n",
       "FA022          NaN         Champlain Heights Park          3351   \n",
       "FA148          NaN                 Westmount Park          4651   \n",
       "FA176          NaN  John Hendry (Trout Lake) Park          3300   \n",
       "FA008          NaN           Arbutus Village Park          4202   \n",
       "FA014          NaN              Burrard View Park           650   \n",
       "FA069          NaN   Grass Roots Community Garden           478   \n",
       "FA145          NaN    Van Dusen Botanical Gardens          5251   \n",
       "FA184          NaN      Van Tech secondary school          2600   \n",
       "\n",
       "      STREET_DIRECTION STREET_NAME STREET_TYPE  \\\n",
       "MAPID                                            \n",
       "FA017                W        19th          Av   \n",
       "FA024              NaN     Charles          St   \n",
       "FA046                W         7th          Av   \n",
       "FA055              NaN        Kerr          St   \n",
       "FA010              NaN     Barclay          St   \n",
       "FA022              NaN    Maquinna       Drive   \n",
       "FA148                W         2nd          Av   \n",
       "FA176              NaN    Victoria       Drive   \n",
       "FA008              NaN      Valley       Drive   \n",
       "FA014                N   Penticton          St   \n",
       "FA069                E    Hastings          St   \n",
       "FA145              NaN         Oak          St   \n",
       "FA184                E    Broadway         NaN   \n",
       "\n",
       "                            MERGED_ADDRESS  NUMBER_OF_PLOTS  \\\n",
       "MAPID                                                         \n",
       "FA017        2995 W 19th Av, Vancouver, BC              0.0   \n",
       "FA024       3400 Charles St, Vancouver, BC              0.0   \n",
       "FA046         2091 W 7th Av, Vancouver, BC              0.0   \n",
       "FA055          8200 Kerr St, Vancouver, BC              0.0   \n",
       "FA010       1433 Barclay St, Vancouver, BC              0.0   \n",
       "FA022  3351 Maquinna  Drive, Vancouver, BC              0.0   \n",
       "FA148         4651 W 2nd Av, Vancouver, BC              0.0   \n",
       "FA176   3300 Victoria Drive, Vancouver, BC              4.0   \n",
       "FA008     4202 Valley Drive, Vancouver, BC              0.0   \n",
       "FA014    650 N Penticton St, Vancouver, BC              0.0   \n",
       "FA069   478 E  Hastings  St, Vancouver, BC             10.0   \n",
       "FA145           5251 Oak St, Vancouver, BC              0.0   \n",
       "FA184      2600 E Broadway , Vancouver, BC              0.0   \n",
       "\n",
       "      NUMBER_OF_FOOD_TREES NOTES                 FOOD_TREE_VARIETIES  \\\n",
       "MAPID                                                                  \n",
       "FA017                   15   NaN                               Apple   \n",
       "FA024                    1   NaN                           Crabapple   \n",
       "FA046                    8   NaN  Cherry, Asian pear, plum, hazelnut   \n",
       "FA055                    2   NaN                        Cherry, pear   \n",
       "FA010                    2   NaN                               Apple   \n",
       "FA022                    1   NaN                               Apple   \n",
       "FA148                    2   NaN                               Apple   \n",
       "FA176                  NaN   NaN                                 NaN   \n",
       "FA008                    9   NaN                           Crabapple   \n",
       "FA014                    1   NaN                              Cherry   \n",
       "FA069                  NaN   NaN                                 NaN   \n",
       "FA145                  yes   NaN                      Heritage apple   \n",
       "FA184                    5   NaN                                 NaN   \n",
       "\n",
       "      OTHER_FOOD_ASSETS JURISDICTION        STEWARD_OR_MANAGING_ORGANIZATION  \\\n",
       "MAPID                                                                          \n",
       "FA017               NaN   Park Board                                     NaN   \n",
       "FA024               NaN   Park Board                                     NaN   \n",
       "FA046               NaN   Park Board                                     NaN   \n",
       "FA055               NaN   Park Board                                     NaN   \n",
       "FA010               NaN   Park Board                                     NaN   \n",
       "FA022               NaN   Park Board                                     NaN   \n",
       "FA148               NaN   Park Board                                     NaN   \n",
       "FA176               NaN   Park Board                                     NaN   \n",
       "FA008               NaN   Park Board                                     NaN   \n",
       "FA014               NaN   Park Board                                     NaN   \n",
       "FA069               NaN      Private                                     NaN   \n",
       "FA145               NaN   Park Board  Van Dusen Botanical Garden Association   \n",
       "FA184               NaN      private                                     NaN   \n",
       "\n",
       "      PUBLIC_E_MAIL                                            WEBSITE  \\\n",
       "MAPID                                                                    \n",
       "FA017           NaN                                                NaN   \n",
       "FA024           NaN                                                NaN   \n",
       "FA046           NaN                                                NaN   \n",
       "FA055           NaN                                                NaN   \n",
       "FA010           NaN                                                NaN   \n",
       "FA022           NaN                                                NaN   \n",
       "FA148           NaN                                                NaN   \n",
       "FA176           NaN  https://cedarcottagefoodnetwork.com/projects-e...   \n",
       "FA008           NaN                                                NaN   \n",
       "FA014           NaN                                                NaN   \n",
       "FA069           NaN                                                NaN   \n",
       "FA145           NaN                                                NaN   \n",
       "FA184           NaN                                                NaN   \n",
       "\n",
       "                 Geo Local Area  \\\n",
       "MAPID                             \n",
       "FA017             Arbutus-Ridge   \n",
       "FA024          Hastings-Sunrise   \n",
       "FA046                 Kitsilano   \n",
       "FA055                 Killarney   \n",
       "FA010                  West End   \n",
       "FA022                 Killarney   \n",
       "FA148           West Point Grey   \n",
       "FA176  Kensington-Cedar Cottage   \n",
       "FA008             Arbutus-Ridge   \n",
       "FA014          Hastings-Sunrise   \n",
       "FA069                Strathcona   \n",
       "FA145               Shaughnessy   \n",
       "FA184       Renfrew-Collingwood   \n",
       "\n",
       "                                                    Geom  \n",
       "MAPID                                                     \n",
       "FA017  {\"type\": \"Point\", \"coordinates\": [-123.171486,...  \n",
       "FA024  {\"type\": \"Point\", \"coordinates\": [-123.0308947...  \n",
       "FA046  {\"type\": \"Point\", \"coordinates\": [-123.152619,...  \n",
       "FA055  {\"type\": \"Point\", \"coordinates\": [-123.0380764...  \n",
       "FA010  {\"type\": \"Point\", \"coordinates\": [-123.1328450...  \n",
       "FA022  {\"type\": \"Point\", \"coordinates\": [-123.0326603...  \n",
       "FA148  {\"type\": \"Point\", \"coordinates\": [-123.2144218...  \n",
       "FA176  {\"type\": \"Point\", \"coordinates\": [-123.0636787...  \n",
       "FA008  {\"type\": \"Point\", \"coordinates\": [-123.1549951...  \n",
       "FA014  {\"type\": \"Point\", \"coordinates\": [-123.0519175...  \n",
       "FA069  {\"type\": \"Point\", \"coordinates\": [-123.0936723...  \n",
       "FA145  {\"type\": \"Point\", \"coordinates\": [-123.1280384...  \n",
       "FA184  {\"type\": \"Point\", \"coordinates\": [-123.051705,...  "
      ]
     },
     "execution_count": 69,
     "metadata": {},
     "output_type": "execute_result"
    }
   ],
   "source": [
    "gardenDF[gardenDF['YEAR_CREATED'].isnull()]"
   ]
  },
  {
   "cell_type": "markdown",
   "metadata": {},
   "source": [
    "In some cases you might be able to patch up missing data by combining one DataFrame with another, but for cases where that isn't possible (like here, where I'm too lazy), you can just throw away the rows without valid years"
   ]
  },
  {
   "cell_type": "code",
   "execution_count": 70,
   "metadata": {},
   "outputs": [
    {
     "data": {
      "text/html": [
       "<div>\n",
       "<style scoped>\n",
       "    .dataframe tbody tr th:only-of-type {\n",
       "        vertical-align: middle;\n",
       "    }\n",
       "\n",
       "    .dataframe tbody tr th {\n",
       "        vertical-align: top;\n",
       "    }\n",
       "\n",
       "    .dataframe thead th {\n",
       "        text-align: right;\n",
       "    }\n",
       "</style>\n",
       "<table border=\"1\" class=\"dataframe\">\n",
       "  <thead>\n",
       "    <tr style=\"text-align: right;\">\n",
       "      <th></th>\n",
       "      <th>YEAR_CREATED</th>\n",
       "      <th>NAME</th>\n",
       "      <th>STREET_NUMBER</th>\n",
       "      <th>STREET_DIRECTION</th>\n",
       "      <th>STREET_NAME</th>\n",
       "      <th>STREET_TYPE</th>\n",
       "      <th>MERGED_ADDRESS</th>\n",
       "      <th>NUMBER_OF_PLOTS</th>\n",
       "      <th>NUMBER_OF_FOOD_TREES</th>\n",
       "      <th>NOTES</th>\n",
       "      <th>FOOD_TREE_VARIETIES</th>\n",
       "      <th>OTHER_FOOD_ASSETS</th>\n",
       "      <th>JURISDICTION</th>\n",
       "      <th>STEWARD_OR_MANAGING_ORGANIZATION</th>\n",
       "      <th>PUBLIC_E_MAIL</th>\n",
       "      <th>WEBSITE</th>\n",
       "      <th>Geo Local Area</th>\n",
       "      <th>Geom</th>\n",
       "    </tr>\n",
       "    <tr>\n",
       "      <th>MAPID</th>\n",
       "      <th></th>\n",
       "      <th></th>\n",
       "      <th></th>\n",
       "      <th></th>\n",
       "      <th></th>\n",
       "      <th></th>\n",
       "      <th></th>\n",
       "      <th></th>\n",
       "      <th></th>\n",
       "      <th></th>\n",
       "      <th></th>\n",
       "      <th></th>\n",
       "      <th></th>\n",
       "      <th></th>\n",
       "      <th></th>\n",
       "      <th></th>\n",
       "      <th></th>\n",
       "      <th></th>\n",
       "    </tr>\n",
       "  </thead>\n",
       "  <tbody>\n",
       "    <tr>\n",
       "      <th>FA002</th>\n",
       "      <td>2014</td>\n",
       "      <td>15th Avenue Coop</td>\n",
       "      <td>1255</td>\n",
       "      <td>E</td>\n",
       "      <td>15th</td>\n",
       "      <td>Av</td>\n",
       "      <td>1255 E 15th Av, Vancouver, BC</td>\n",
       "      <td>8.0</td>\n",
       "      <td>NaN</td>\n",
       "      <td>NaN</td>\n",
       "      <td>NaN</td>\n",
       "      <td>NaN</td>\n",
       "      <td>Private</td>\n",
       "      <td>NaN</td>\n",
       "      <td>NaN</td>\n",
       "      <td>NaN</td>\n",
       "      <td>Mount Pleasant</td>\n",
       "      <td>{\"type\": \"Point\", \"coordinates\": [-123.0788387...</td>\n",
       "    </tr>\n",
       "    <tr>\n",
       "      <th>FA003</th>\n",
       "      <td>2008</td>\n",
       "      <td>16 Oaks</td>\n",
       "      <td>1018</td>\n",
       "      <td>W</td>\n",
       "      <td>16th</td>\n",
       "      <td>Av</td>\n",
       "      <td>1018 W 16th Av, Vancouver, BC</td>\n",
       "      <td>55.0</td>\n",
       "      <td>NaN</td>\n",
       "      <td>NaN</td>\n",
       "      <td>NaN</td>\n",
       "      <td>NaN</td>\n",
       "      <td>Private</td>\n",
       "      <td>NaN</td>\n",
       "      <td>oak.16th.garden@gmail.com</td>\n",
       "      <td>NaN</td>\n",
       "      <td>Shaughnessy</td>\n",
       "      <td>{\"type\": \"Point\", \"coordinates\": [-123.1276645...</td>\n",
       "    </tr>\n",
       "    <tr>\n",
       "      <th>FA006</th>\n",
       "      <td>2011</td>\n",
       "      <td>Adanac Park Community Garden</td>\n",
       "      <td>1025</td>\n",
       "      <td>NaN</td>\n",
       "      <td>Boundary</td>\n",
       "      <td>Road</td>\n",
       "      <td>1025 Boundary Road, Vancouver, BC</td>\n",
       "      <td>30.0</td>\n",
       "      <td>8</td>\n",
       "      <td>NaN</td>\n",
       "      <td>1 Early McIntosh Apple; 1 Jonagold apple; 2 it...</td>\n",
       "      <td>NaN</td>\n",
       "      <td>Park Board</td>\n",
       "      <td>Kiwassa Neighbourhood Services Association</td>\n",
       "      <td>adanac.park.garden@gmail.com</td>\n",
       "      <td>http://adanacparkcommunitygarden.blogspot.ca/</td>\n",
       "      <td>Hastings-Sunrise</td>\n",
       "      <td>{\"type\": \"Point\", \"coordinates\": [-123.0243945...</td>\n",
       "    </tr>\n",
       "    <tr>\n",
       "      <th>FA007</th>\n",
       "      <td>1942</td>\n",
       "      <td>East Boulevard Allotment Plots</td>\n",
       "      <td>7176</td>\n",
       "      <td>E</td>\n",
       "      <td>NaN</td>\n",
       "      <td>Boulevard</td>\n",
       "      <td>7176 E  Boulevard, Vancouver, BC</td>\n",
       "      <td>71.0</td>\n",
       "      <td>NaN</td>\n",
       "      <td>NaN</td>\n",
       "      <td>NaN</td>\n",
       "      <td>NaN</td>\n",
       "      <td>City</td>\n",
       "      <td>City of Vancouver</td>\n",
       "      <td>communitygardens@vancouver.ca</td>\n",
       "      <td>NaN</td>\n",
       "      <td>Kerrisdale</td>\n",
       "      <td>{\"type\": \"Point\", \"coordinates\": [-123.1505481...</td>\n",
       "    </tr>\n",
       "    <tr>\n",
       "      <th>FA009</th>\n",
       "      <td>2010</td>\n",
       "      <td>Atira Community Garden</td>\n",
       "      <td>400</td>\n",
       "      <td>NaN</td>\n",
       "      <td>Hawks</td>\n",
       "      <td>Av</td>\n",
       "      <td>400 Hawks Av, Vancouver, BC</td>\n",
       "      <td>15.0</td>\n",
       "      <td>NaN</td>\n",
       "      <td>NaN</td>\n",
       "      <td>NaN</td>\n",
       "      <td>NaN</td>\n",
       "      <td>Private</td>\n",
       "      <td>Atira Community Resources</td>\n",
       "      <td>NaN</td>\n",
       "      <td>http://www.atira.bc.ca/community-garden-kitchens</td>\n",
       "      <td>Strathcona</td>\n",
       "      <td>{\"type\": \"Point\", \"coordinates\": [-123.0871212...</td>\n",
       "    </tr>\n",
       "    <tr>\n",
       "      <th>...</th>\n",
       "      <td>...</td>\n",
       "      <td>...</td>\n",
       "      <td>...</td>\n",
       "      <td>...</td>\n",
       "      <td>...</td>\n",
       "      <td>...</td>\n",
       "      <td>...</td>\n",
       "      <td>...</td>\n",
       "      <td>...</td>\n",
       "      <td>...</td>\n",
       "      <td>...</td>\n",
       "      <td>...</td>\n",
       "      <td>...</td>\n",
       "      <td>...</td>\n",
       "      <td>...</td>\n",
       "      <td>...</td>\n",
       "      <td>...</td>\n",
       "      <td>...</td>\n",
       "    </tr>\n",
       "    <tr>\n",
       "      <th>FA175</th>\n",
       "      <td>2016</td>\n",
       "      <td>HFBC Housing Foundation</td>\n",
       "      <td>2950</td>\n",
       "      <td>NaN</td>\n",
       "      <td>Euclid</td>\n",
       "      <td>St</td>\n",
       "      <td>2950 Euclid St, Vancouver, BC</td>\n",
       "      <td>12.0</td>\n",
       "      <td>NaN</td>\n",
       "      <td>NaN</td>\n",
       "      <td>NaN</td>\n",
       "      <td>NaN</td>\n",
       "      <td>Private</td>\n",
       "      <td>HFBC Housing Foundation</td>\n",
       "      <td>NaN</td>\n",
       "      <td>NaN</td>\n",
       "      <td>Renfrew-Collingwood</td>\n",
       "      <td>{\"type\": \"Point\", \"coordinates\": [-123.043697,...</td>\n",
       "    </tr>\n",
       "    <tr>\n",
       "      <th>FA178</th>\n",
       "      <td>1985</td>\n",
       "      <td>Nicholson Towers</td>\n",
       "      <td>1115</td>\n",
       "      <td>NaN</td>\n",
       "      <td>Nelson</td>\n",
       "      <td>St</td>\n",
       "      <td>1115 Nelson St, Vancouver, BC</td>\n",
       "      <td>28.0</td>\n",
       "      <td>NaN</td>\n",
       "      <td>NaN</td>\n",
       "      <td>NaN</td>\n",
       "      <td>NaN</td>\n",
       "      <td>Private</td>\n",
       "      <td>Bloomgroup</td>\n",
       "      <td>None</td>\n",
       "      <td>NaN</td>\n",
       "      <td>West End</td>\n",
       "      <td>{\"type\": \"Point\", \"coordinates\": [-123.1279113...</td>\n",
       "    </tr>\n",
       "    <tr>\n",
       "      <th>FA180</th>\n",
       "      <td>2019</td>\n",
       "      <td>Dany Guincher House</td>\n",
       "      <td>475</td>\n",
       "      <td>E</td>\n",
       "      <td>Broadway</td>\n",
       "      <td>NaN</td>\n",
       "      <td>475 E Broadway , Vancouver, BC</td>\n",
       "      <td>3.0</td>\n",
       "      <td>NaN</td>\n",
       "      <td>NaN</td>\n",
       "      <td>NaN</td>\n",
       "      <td>NaN</td>\n",
       "      <td>Private</td>\n",
       "      <td>Jewish Family Services</td>\n",
       "      <td>None</td>\n",
       "      <td>NaN</td>\n",
       "      <td>Mount Pleasant</td>\n",
       "      <td>{\"type\": \"Point\", \"coordinates\": [-123.0935368...</td>\n",
       "    </tr>\n",
       "    <tr>\n",
       "      <th>FA187</th>\n",
       "      <td>2020</td>\n",
       "      <td>Centrepoint Gardens</td>\n",
       "      <td>2990</td>\n",
       "      <td>NaN</td>\n",
       "      <td>Quebec</td>\n",
       "      <td>St</td>\n",
       "      <td>2990 Quebec St, Vancouver, BC</td>\n",
       "      <td>20.0</td>\n",
       "      <td>NaN</td>\n",
       "      <td>NaN</td>\n",
       "      <td>NaN</td>\n",
       "      <td>NaN</td>\n",
       "      <td>private</td>\n",
       "      <td>Centrepoint Development</td>\n",
       "      <td>centrepoint.caretaker@hotmail.com</td>\n",
       "      <td>NaN</td>\n",
       "      <td>Mount Pleasant</td>\n",
       "      <td>{\"type\": \"Point\", \"coordinates\": [-123.102952,...</td>\n",
       "    </tr>\n",
       "    <tr>\n",
       "      <th>FA188</th>\n",
       "      <td>2020</td>\n",
       "      <td>Colonial Arms Vegetable Garden</td>\n",
       "      <td>8680</td>\n",
       "      <td>NaN</td>\n",
       "      <td>Fremlin</td>\n",
       "      <td>St</td>\n",
       "      <td>8680 Fremlin St, Vancouver, BC</td>\n",
       "      <td>15.0</td>\n",
       "      <td>NaN</td>\n",
       "      <td>NaN</td>\n",
       "      <td>NaN</td>\n",
       "      <td>NaN</td>\n",
       "      <td>Private</td>\n",
       "      <td>Colonial Arms Apartments</td>\n",
       "      <td>scottharding8680colonialarms@gmail.com</td>\n",
       "      <td>NaN</td>\n",
       "      <td>Marpole</td>\n",
       "      <td>{\"type\": \"Point\", \"coordinates\": [-123.127177,...</td>\n",
       "    </tr>\n",
       "  </tbody>\n",
       "</table>\n",
       "<p>159 rows × 18 columns</p>\n",
       "</div>"
      ],
      "text/plain": [
       "      YEAR_CREATED                            NAME STREET_NUMBER  \\\n",
       "MAPID                                                              \n",
       "FA002         2014                15th Avenue Coop          1255   \n",
       "FA003         2008                         16 Oaks          1018   \n",
       "FA006         2011    Adanac Park Community Garden          1025   \n",
       "FA007         1942  East Boulevard Allotment Plots          7176   \n",
       "FA009         2010          Atira Community Garden           400   \n",
       "...            ...                             ...           ...   \n",
       "FA175         2016         HFBC Housing Foundation          2950   \n",
       "FA178         1985                Nicholson Towers          1115   \n",
       "FA180         2019             Dany Guincher House           475   \n",
       "FA187         2020             Centrepoint Gardens          2990   \n",
       "FA188         2020  Colonial Arms Vegetable Garden          8680   \n",
       "\n",
       "      STREET_DIRECTION STREET_NAME STREET_TYPE  \\\n",
       "MAPID                                            \n",
       "FA002                E        15th          Av   \n",
       "FA003                W        16th          Av   \n",
       "FA006              NaN    Boundary        Road   \n",
       "FA007                E         NaN   Boulevard   \n",
       "FA009              NaN       Hawks          Av   \n",
       "...                ...         ...         ...   \n",
       "FA175              NaN      Euclid          St   \n",
       "FA178              NaN      Nelson          St   \n",
       "FA180                E    Broadway         NaN   \n",
       "FA187              NaN      Quebec          St   \n",
       "FA188              NaN     Fremlin          St   \n",
       "\n",
       "                          MERGED_ADDRESS  NUMBER_OF_PLOTS  \\\n",
       "MAPID                                                       \n",
       "FA002      1255 E 15th Av, Vancouver, BC              8.0   \n",
       "FA003      1018 W 16th Av, Vancouver, BC             55.0   \n",
       "FA006  1025 Boundary Road, Vancouver, BC             30.0   \n",
       "FA007   7176 E  Boulevard, Vancouver, BC             71.0   \n",
       "FA009        400 Hawks Av, Vancouver, BC             15.0   \n",
       "...                                  ...              ...   \n",
       "FA175      2950 Euclid St, Vancouver, BC             12.0   \n",
       "FA178      1115 Nelson St, Vancouver, BC             28.0   \n",
       "FA180     475 E Broadway , Vancouver, BC              3.0   \n",
       "FA187      2990 Quebec St, Vancouver, BC             20.0   \n",
       "FA188     8680 Fremlin St, Vancouver, BC             15.0   \n",
       "\n",
       "      NUMBER_OF_FOOD_TREES NOTES  \\\n",
       "MAPID                              \n",
       "FA002                  NaN   NaN   \n",
       "FA003                  NaN   NaN   \n",
       "FA006                    8   NaN   \n",
       "FA007                  NaN   NaN   \n",
       "FA009                  NaN   NaN   \n",
       "...                    ...   ...   \n",
       "FA175                  NaN   NaN   \n",
       "FA178                  NaN   NaN   \n",
       "FA180                  NaN   NaN   \n",
       "FA187                  NaN   NaN   \n",
       "FA188                  NaN   NaN   \n",
       "\n",
       "                                     FOOD_TREE_VARIETIES OTHER_FOOD_ASSETS  \\\n",
       "MAPID                                                                        \n",
       "FA002                                                NaN               NaN   \n",
       "FA003                                                NaN               NaN   \n",
       "FA006  1 Early McIntosh Apple; 1 Jonagold apple; 2 it...               NaN   \n",
       "FA007                                                NaN               NaN   \n",
       "FA009                                                NaN               NaN   \n",
       "...                                                  ...               ...   \n",
       "FA175                                                NaN               NaN   \n",
       "FA178                                                NaN               NaN   \n",
       "FA180                                                NaN               NaN   \n",
       "FA187                                                NaN               NaN   \n",
       "FA188                                                NaN               NaN   \n",
       "\n",
       "      JURISDICTION            STEWARD_OR_MANAGING_ORGANIZATION  \\\n",
       "MAPID                                                            \n",
       "FA002      Private                                         NaN   \n",
       "FA003      Private                                         NaN   \n",
       "FA006   Park Board  Kiwassa Neighbourhood Services Association   \n",
       "FA007         City                           City of Vancouver   \n",
       "FA009      Private                   Atira Community Resources   \n",
       "...            ...                                         ...   \n",
       "FA175      Private                     HFBC Housing Foundation   \n",
       "FA178      Private                                  Bloomgroup   \n",
       "FA180      Private                      Jewish Family Services   \n",
       "FA187      private                     Centrepoint Development   \n",
       "FA188      Private                    Colonial Arms Apartments   \n",
       "\n",
       "                                PUBLIC_E_MAIL  \\\n",
       "MAPID                                           \n",
       "FA002                                     NaN   \n",
       "FA003               oak.16th.garden@gmail.com   \n",
       "FA006            adanac.park.garden@gmail.com   \n",
       "FA007           communitygardens@vancouver.ca   \n",
       "FA009                                     NaN   \n",
       "...                                       ...   \n",
       "FA175                                     NaN   \n",
       "FA178                                    None   \n",
       "FA180                                    None   \n",
       "FA187       centrepoint.caretaker@hotmail.com   \n",
       "FA188  scottharding8680colonialarms@gmail.com   \n",
       "\n",
       "                                                WEBSITE       Geo Local Area  \\\n",
       "MAPID                                                                          \n",
       "FA002                                               NaN       Mount Pleasant   \n",
       "FA003                                               NaN          Shaughnessy   \n",
       "FA006     http://adanacparkcommunitygarden.blogspot.ca/     Hastings-Sunrise   \n",
       "FA007                                               NaN           Kerrisdale   \n",
       "FA009  http://www.atira.bc.ca/community-garden-kitchens           Strathcona   \n",
       "...                                                 ...                  ...   \n",
       "FA175                                               NaN  Renfrew-Collingwood   \n",
       "FA178                                               NaN             West End   \n",
       "FA180                                               NaN       Mount Pleasant   \n",
       "FA187                                               NaN       Mount Pleasant   \n",
       "FA188                                               NaN              Marpole   \n",
       "\n",
       "                                                    Geom  \n",
       "MAPID                                                     \n",
       "FA002  {\"type\": \"Point\", \"coordinates\": [-123.0788387...  \n",
       "FA003  {\"type\": \"Point\", \"coordinates\": [-123.1276645...  \n",
       "FA006  {\"type\": \"Point\", \"coordinates\": [-123.0243945...  \n",
       "FA007  {\"type\": \"Point\", \"coordinates\": [-123.1505481...  \n",
       "FA009  {\"type\": \"Point\", \"coordinates\": [-123.0871212...  \n",
       "...                                                  ...  \n",
       "FA175  {\"type\": \"Point\", \"coordinates\": [-123.043697,...  \n",
       "FA178  {\"type\": \"Point\", \"coordinates\": [-123.1279113...  \n",
       "FA180  {\"type\": \"Point\", \"coordinates\": [-123.0935368...  \n",
       "FA187  {\"type\": \"Point\", \"coordinates\": [-123.102952,...  \n",
       "FA188  {\"type\": \"Point\", \"coordinates\": [-123.127177,...  \n",
       "\n",
       "[159 rows x 18 columns]"
      ]
     },
     "execution_count": 70,
     "metadata": {},
     "output_type": "execute_result"
    }
   ],
   "source": [
    "gardenDF.dropna(axis=0, subset=['YEAR_CREATED'], inplace=True)\n",
    "gardenDF"
   ]
  },
  {
   "cell_type": "markdown",
   "metadata": {},
   "source": [
    "Now it might make sense to convert that column to a numerical value"
   ]
  },
  {
   "cell_type": "code",
   "execution_count": 74,
   "metadata": {},
   "outputs": [
    {
     "data": {
      "text/plain": [
       "MAPID\n",
       "FA002    2014\n",
       "FA003    2008\n",
       "FA006    2011\n",
       "FA007    1942\n",
       "FA009    2010\n",
       "         ... \n",
       "FA175    2016\n",
       "FA178    1985\n",
       "FA180    2019\n",
       "FA187    2020\n",
       "FA188    2020\n",
       "Name: YEAR_CREATED, Length: 159, dtype: int64"
      ]
     },
     "execution_count": 74,
     "metadata": {},
     "output_type": "execute_result"
    }
   ],
   "source": [
    "pd.to_numeric(gardenDF['YEAR_CREATED'])"
   ]
  },
  {
   "cell_type": "markdown",
   "metadata": {},
   "source": [
    "or better yet, a DateTime object"
   ]
  },
  {
   "cell_type": "code",
   "execution_count": 75,
   "metadata": {},
   "outputs": [
    {
     "data": {
      "text/html": [
       "<div>\n",
       "<style scoped>\n",
       "    .dataframe tbody tr th:only-of-type {\n",
       "        vertical-align: middle;\n",
       "    }\n",
       "\n",
       "    .dataframe tbody tr th {\n",
       "        vertical-align: top;\n",
       "    }\n",
       "\n",
       "    .dataframe thead th {\n",
       "        text-align: right;\n",
       "    }\n",
       "</style>\n",
       "<table border=\"1\" class=\"dataframe\">\n",
       "  <thead>\n",
       "    <tr style=\"text-align: right;\">\n",
       "      <th></th>\n",
       "      <th>YEAR_CREATED</th>\n",
       "      <th>NAME</th>\n",
       "      <th>STREET_NUMBER</th>\n",
       "      <th>STREET_DIRECTION</th>\n",
       "      <th>STREET_NAME</th>\n",
       "      <th>STREET_TYPE</th>\n",
       "      <th>MERGED_ADDRESS</th>\n",
       "      <th>NUMBER_OF_PLOTS</th>\n",
       "      <th>NUMBER_OF_FOOD_TREES</th>\n",
       "      <th>NOTES</th>\n",
       "      <th>FOOD_TREE_VARIETIES</th>\n",
       "      <th>OTHER_FOOD_ASSETS</th>\n",
       "      <th>JURISDICTION</th>\n",
       "      <th>STEWARD_OR_MANAGING_ORGANIZATION</th>\n",
       "      <th>PUBLIC_E_MAIL</th>\n",
       "      <th>WEBSITE</th>\n",
       "      <th>Geo Local Area</th>\n",
       "      <th>Geom</th>\n",
       "    </tr>\n",
       "    <tr>\n",
       "      <th>MAPID</th>\n",
       "      <th></th>\n",
       "      <th></th>\n",
       "      <th></th>\n",
       "      <th></th>\n",
       "      <th></th>\n",
       "      <th></th>\n",
       "      <th></th>\n",
       "      <th></th>\n",
       "      <th></th>\n",
       "      <th></th>\n",
       "      <th></th>\n",
       "      <th></th>\n",
       "      <th></th>\n",
       "      <th></th>\n",
       "      <th></th>\n",
       "      <th></th>\n",
       "      <th></th>\n",
       "      <th></th>\n",
       "    </tr>\n",
       "  </thead>\n",
       "  <tbody>\n",
       "    <tr>\n",
       "      <th>FA002</th>\n",
       "      <td>2014-01-01</td>\n",
       "      <td>15th Avenue Coop</td>\n",
       "      <td>1255</td>\n",
       "      <td>E</td>\n",
       "      <td>15th</td>\n",
       "      <td>Av</td>\n",
       "      <td>1255 E 15th Av, Vancouver, BC</td>\n",
       "      <td>8.0</td>\n",
       "      <td>NaN</td>\n",
       "      <td>NaN</td>\n",
       "      <td>NaN</td>\n",
       "      <td>NaN</td>\n",
       "      <td>Private</td>\n",
       "      <td>NaN</td>\n",
       "      <td>NaN</td>\n",
       "      <td>NaN</td>\n",
       "      <td>Mount Pleasant</td>\n",
       "      <td>{\"type\": \"Point\", \"coordinates\": [-123.0788387...</td>\n",
       "    </tr>\n",
       "    <tr>\n",
       "      <th>FA003</th>\n",
       "      <td>2008-01-01</td>\n",
       "      <td>16 Oaks</td>\n",
       "      <td>1018</td>\n",
       "      <td>W</td>\n",
       "      <td>16th</td>\n",
       "      <td>Av</td>\n",
       "      <td>1018 W 16th Av, Vancouver, BC</td>\n",
       "      <td>55.0</td>\n",
       "      <td>NaN</td>\n",
       "      <td>NaN</td>\n",
       "      <td>NaN</td>\n",
       "      <td>NaN</td>\n",
       "      <td>Private</td>\n",
       "      <td>NaN</td>\n",
       "      <td>oak.16th.garden@gmail.com</td>\n",
       "      <td>NaN</td>\n",
       "      <td>Shaughnessy</td>\n",
       "      <td>{\"type\": \"Point\", \"coordinates\": [-123.1276645...</td>\n",
       "    </tr>\n",
       "    <tr>\n",
       "      <th>FA006</th>\n",
       "      <td>2011-01-01</td>\n",
       "      <td>Adanac Park Community Garden</td>\n",
       "      <td>1025</td>\n",
       "      <td>NaN</td>\n",
       "      <td>Boundary</td>\n",
       "      <td>Road</td>\n",
       "      <td>1025 Boundary Road, Vancouver, BC</td>\n",
       "      <td>30.0</td>\n",
       "      <td>8</td>\n",
       "      <td>NaN</td>\n",
       "      <td>1 Early McIntosh Apple; 1 Jonagold apple; 2 it...</td>\n",
       "      <td>NaN</td>\n",
       "      <td>Park Board</td>\n",
       "      <td>Kiwassa Neighbourhood Services Association</td>\n",
       "      <td>adanac.park.garden@gmail.com</td>\n",
       "      <td>http://adanacparkcommunitygarden.blogspot.ca/</td>\n",
       "      <td>Hastings-Sunrise</td>\n",
       "      <td>{\"type\": \"Point\", \"coordinates\": [-123.0243945...</td>\n",
       "    </tr>\n",
       "    <tr>\n",
       "      <th>FA007</th>\n",
       "      <td>1942-01-01</td>\n",
       "      <td>East Boulevard Allotment Plots</td>\n",
       "      <td>7176</td>\n",
       "      <td>E</td>\n",
       "      <td>NaN</td>\n",
       "      <td>Boulevard</td>\n",
       "      <td>7176 E  Boulevard, Vancouver, BC</td>\n",
       "      <td>71.0</td>\n",
       "      <td>NaN</td>\n",
       "      <td>NaN</td>\n",
       "      <td>NaN</td>\n",
       "      <td>NaN</td>\n",
       "      <td>City</td>\n",
       "      <td>City of Vancouver</td>\n",
       "      <td>communitygardens@vancouver.ca</td>\n",
       "      <td>NaN</td>\n",
       "      <td>Kerrisdale</td>\n",
       "      <td>{\"type\": \"Point\", \"coordinates\": [-123.1505481...</td>\n",
       "    </tr>\n",
       "    <tr>\n",
       "      <th>FA009</th>\n",
       "      <td>2010-01-01</td>\n",
       "      <td>Atira Community Garden</td>\n",
       "      <td>400</td>\n",
       "      <td>NaN</td>\n",
       "      <td>Hawks</td>\n",
       "      <td>Av</td>\n",
       "      <td>400 Hawks Av, Vancouver, BC</td>\n",
       "      <td>15.0</td>\n",
       "      <td>NaN</td>\n",
       "      <td>NaN</td>\n",
       "      <td>NaN</td>\n",
       "      <td>NaN</td>\n",
       "      <td>Private</td>\n",
       "      <td>Atira Community Resources</td>\n",
       "      <td>NaN</td>\n",
       "      <td>http://www.atira.bc.ca/community-garden-kitchens</td>\n",
       "      <td>Strathcona</td>\n",
       "      <td>{\"type\": \"Point\", \"coordinates\": [-123.0871212...</td>\n",
       "    </tr>\n",
       "    <tr>\n",
       "      <th>...</th>\n",
       "      <td>...</td>\n",
       "      <td>...</td>\n",
       "      <td>...</td>\n",
       "      <td>...</td>\n",
       "      <td>...</td>\n",
       "      <td>...</td>\n",
       "      <td>...</td>\n",
       "      <td>...</td>\n",
       "      <td>...</td>\n",
       "      <td>...</td>\n",
       "      <td>...</td>\n",
       "      <td>...</td>\n",
       "      <td>...</td>\n",
       "      <td>...</td>\n",
       "      <td>...</td>\n",
       "      <td>...</td>\n",
       "      <td>...</td>\n",
       "      <td>...</td>\n",
       "    </tr>\n",
       "    <tr>\n",
       "      <th>FA175</th>\n",
       "      <td>2016-01-01</td>\n",
       "      <td>HFBC Housing Foundation</td>\n",
       "      <td>2950</td>\n",
       "      <td>NaN</td>\n",
       "      <td>Euclid</td>\n",
       "      <td>St</td>\n",
       "      <td>2950 Euclid St, Vancouver, BC</td>\n",
       "      <td>12.0</td>\n",
       "      <td>NaN</td>\n",
       "      <td>NaN</td>\n",
       "      <td>NaN</td>\n",
       "      <td>NaN</td>\n",
       "      <td>Private</td>\n",
       "      <td>HFBC Housing Foundation</td>\n",
       "      <td>NaN</td>\n",
       "      <td>NaN</td>\n",
       "      <td>Renfrew-Collingwood</td>\n",
       "      <td>{\"type\": \"Point\", \"coordinates\": [-123.043697,...</td>\n",
       "    </tr>\n",
       "    <tr>\n",
       "      <th>FA178</th>\n",
       "      <td>1985-01-01</td>\n",
       "      <td>Nicholson Towers</td>\n",
       "      <td>1115</td>\n",
       "      <td>NaN</td>\n",
       "      <td>Nelson</td>\n",
       "      <td>St</td>\n",
       "      <td>1115 Nelson St, Vancouver, BC</td>\n",
       "      <td>28.0</td>\n",
       "      <td>NaN</td>\n",
       "      <td>NaN</td>\n",
       "      <td>NaN</td>\n",
       "      <td>NaN</td>\n",
       "      <td>Private</td>\n",
       "      <td>Bloomgroup</td>\n",
       "      <td>None</td>\n",
       "      <td>NaN</td>\n",
       "      <td>West End</td>\n",
       "      <td>{\"type\": \"Point\", \"coordinates\": [-123.1279113...</td>\n",
       "    </tr>\n",
       "    <tr>\n",
       "      <th>FA180</th>\n",
       "      <td>2019-01-01</td>\n",
       "      <td>Dany Guincher House</td>\n",
       "      <td>475</td>\n",
       "      <td>E</td>\n",
       "      <td>Broadway</td>\n",
       "      <td>NaN</td>\n",
       "      <td>475 E Broadway , Vancouver, BC</td>\n",
       "      <td>3.0</td>\n",
       "      <td>NaN</td>\n",
       "      <td>NaN</td>\n",
       "      <td>NaN</td>\n",
       "      <td>NaN</td>\n",
       "      <td>Private</td>\n",
       "      <td>Jewish Family Services</td>\n",
       "      <td>None</td>\n",
       "      <td>NaN</td>\n",
       "      <td>Mount Pleasant</td>\n",
       "      <td>{\"type\": \"Point\", \"coordinates\": [-123.0935368...</td>\n",
       "    </tr>\n",
       "    <tr>\n",
       "      <th>FA187</th>\n",
       "      <td>2020-01-01</td>\n",
       "      <td>Centrepoint Gardens</td>\n",
       "      <td>2990</td>\n",
       "      <td>NaN</td>\n",
       "      <td>Quebec</td>\n",
       "      <td>St</td>\n",
       "      <td>2990 Quebec St, Vancouver, BC</td>\n",
       "      <td>20.0</td>\n",
       "      <td>NaN</td>\n",
       "      <td>NaN</td>\n",
       "      <td>NaN</td>\n",
       "      <td>NaN</td>\n",
       "      <td>private</td>\n",
       "      <td>Centrepoint Development</td>\n",
       "      <td>centrepoint.caretaker@hotmail.com</td>\n",
       "      <td>NaN</td>\n",
       "      <td>Mount Pleasant</td>\n",
       "      <td>{\"type\": \"Point\", \"coordinates\": [-123.102952,...</td>\n",
       "    </tr>\n",
       "    <tr>\n",
       "      <th>FA188</th>\n",
       "      <td>2020-01-01</td>\n",
       "      <td>Colonial Arms Vegetable Garden</td>\n",
       "      <td>8680</td>\n",
       "      <td>NaN</td>\n",
       "      <td>Fremlin</td>\n",
       "      <td>St</td>\n",
       "      <td>8680 Fremlin St, Vancouver, BC</td>\n",
       "      <td>15.0</td>\n",
       "      <td>NaN</td>\n",
       "      <td>NaN</td>\n",
       "      <td>NaN</td>\n",
       "      <td>NaN</td>\n",
       "      <td>Private</td>\n",
       "      <td>Colonial Arms Apartments</td>\n",
       "      <td>scottharding8680colonialarms@gmail.com</td>\n",
       "      <td>NaN</td>\n",
       "      <td>Marpole</td>\n",
       "      <td>{\"type\": \"Point\", \"coordinates\": [-123.127177,...</td>\n",
       "    </tr>\n",
       "  </tbody>\n",
       "</table>\n",
       "<p>159 rows × 18 columns</p>\n",
       "</div>"
      ],
      "text/plain": [
       "      YEAR_CREATED                            NAME STREET_NUMBER  \\\n",
       "MAPID                                                              \n",
       "FA002   2014-01-01                15th Avenue Coop          1255   \n",
       "FA003   2008-01-01                         16 Oaks          1018   \n",
       "FA006   2011-01-01    Adanac Park Community Garden          1025   \n",
       "FA007   1942-01-01  East Boulevard Allotment Plots          7176   \n",
       "FA009   2010-01-01          Atira Community Garden           400   \n",
       "...            ...                             ...           ...   \n",
       "FA175   2016-01-01         HFBC Housing Foundation          2950   \n",
       "FA178   1985-01-01                Nicholson Towers          1115   \n",
       "FA180   2019-01-01             Dany Guincher House           475   \n",
       "FA187   2020-01-01             Centrepoint Gardens          2990   \n",
       "FA188   2020-01-01  Colonial Arms Vegetable Garden          8680   \n",
       "\n",
       "      STREET_DIRECTION STREET_NAME STREET_TYPE  \\\n",
       "MAPID                                            \n",
       "FA002                E        15th          Av   \n",
       "FA003                W        16th          Av   \n",
       "FA006              NaN    Boundary        Road   \n",
       "FA007                E         NaN   Boulevard   \n",
       "FA009              NaN       Hawks          Av   \n",
       "...                ...         ...         ...   \n",
       "FA175              NaN      Euclid          St   \n",
       "FA178              NaN      Nelson          St   \n",
       "FA180                E    Broadway         NaN   \n",
       "FA187              NaN      Quebec          St   \n",
       "FA188              NaN     Fremlin          St   \n",
       "\n",
       "                          MERGED_ADDRESS  NUMBER_OF_PLOTS  \\\n",
       "MAPID                                                       \n",
       "FA002      1255 E 15th Av, Vancouver, BC              8.0   \n",
       "FA003      1018 W 16th Av, Vancouver, BC             55.0   \n",
       "FA006  1025 Boundary Road, Vancouver, BC             30.0   \n",
       "FA007   7176 E  Boulevard, Vancouver, BC             71.0   \n",
       "FA009        400 Hawks Av, Vancouver, BC             15.0   \n",
       "...                                  ...              ...   \n",
       "FA175      2950 Euclid St, Vancouver, BC             12.0   \n",
       "FA178      1115 Nelson St, Vancouver, BC             28.0   \n",
       "FA180     475 E Broadway , Vancouver, BC              3.0   \n",
       "FA187      2990 Quebec St, Vancouver, BC             20.0   \n",
       "FA188     8680 Fremlin St, Vancouver, BC             15.0   \n",
       "\n",
       "      NUMBER_OF_FOOD_TREES NOTES  \\\n",
       "MAPID                              \n",
       "FA002                  NaN   NaN   \n",
       "FA003                  NaN   NaN   \n",
       "FA006                    8   NaN   \n",
       "FA007                  NaN   NaN   \n",
       "FA009                  NaN   NaN   \n",
       "...                    ...   ...   \n",
       "FA175                  NaN   NaN   \n",
       "FA178                  NaN   NaN   \n",
       "FA180                  NaN   NaN   \n",
       "FA187                  NaN   NaN   \n",
       "FA188                  NaN   NaN   \n",
       "\n",
       "                                     FOOD_TREE_VARIETIES OTHER_FOOD_ASSETS  \\\n",
       "MAPID                                                                        \n",
       "FA002                                                NaN               NaN   \n",
       "FA003                                                NaN               NaN   \n",
       "FA006  1 Early McIntosh Apple; 1 Jonagold apple; 2 it...               NaN   \n",
       "FA007                                                NaN               NaN   \n",
       "FA009                                                NaN               NaN   \n",
       "...                                                  ...               ...   \n",
       "FA175                                                NaN               NaN   \n",
       "FA178                                                NaN               NaN   \n",
       "FA180                                                NaN               NaN   \n",
       "FA187                                                NaN               NaN   \n",
       "FA188                                                NaN               NaN   \n",
       "\n",
       "      JURISDICTION            STEWARD_OR_MANAGING_ORGANIZATION  \\\n",
       "MAPID                                                            \n",
       "FA002      Private                                         NaN   \n",
       "FA003      Private                                         NaN   \n",
       "FA006   Park Board  Kiwassa Neighbourhood Services Association   \n",
       "FA007         City                           City of Vancouver   \n",
       "FA009      Private                   Atira Community Resources   \n",
       "...            ...                                         ...   \n",
       "FA175      Private                     HFBC Housing Foundation   \n",
       "FA178      Private                                  Bloomgroup   \n",
       "FA180      Private                      Jewish Family Services   \n",
       "FA187      private                     Centrepoint Development   \n",
       "FA188      Private                    Colonial Arms Apartments   \n",
       "\n",
       "                                PUBLIC_E_MAIL  \\\n",
       "MAPID                                           \n",
       "FA002                                     NaN   \n",
       "FA003               oak.16th.garden@gmail.com   \n",
       "FA006            adanac.park.garden@gmail.com   \n",
       "FA007           communitygardens@vancouver.ca   \n",
       "FA009                                     NaN   \n",
       "...                                       ...   \n",
       "FA175                                     NaN   \n",
       "FA178                                    None   \n",
       "FA180                                    None   \n",
       "FA187       centrepoint.caretaker@hotmail.com   \n",
       "FA188  scottharding8680colonialarms@gmail.com   \n",
       "\n",
       "                                                WEBSITE       Geo Local Area  \\\n",
       "MAPID                                                                          \n",
       "FA002                                               NaN       Mount Pleasant   \n",
       "FA003                                               NaN          Shaughnessy   \n",
       "FA006     http://adanacparkcommunitygarden.blogspot.ca/     Hastings-Sunrise   \n",
       "FA007                                               NaN           Kerrisdale   \n",
       "FA009  http://www.atira.bc.ca/community-garden-kitchens           Strathcona   \n",
       "...                                                 ...                  ...   \n",
       "FA175                                               NaN  Renfrew-Collingwood   \n",
       "FA178                                               NaN             West End   \n",
       "FA180                                               NaN       Mount Pleasant   \n",
       "FA187                                               NaN       Mount Pleasant   \n",
       "FA188                                               NaN              Marpole   \n",
       "\n",
       "                                                    Geom  \n",
       "MAPID                                                     \n",
       "FA002  {\"type\": \"Point\", \"coordinates\": [-123.0788387...  \n",
       "FA003  {\"type\": \"Point\", \"coordinates\": [-123.1276645...  \n",
       "FA006  {\"type\": \"Point\", \"coordinates\": [-123.0243945...  \n",
       "FA007  {\"type\": \"Point\", \"coordinates\": [-123.1505481...  \n",
       "FA009  {\"type\": \"Point\", \"coordinates\": [-123.0871212...  \n",
       "...                                                  ...  \n",
       "FA175  {\"type\": \"Point\", \"coordinates\": [-123.043697,...  \n",
       "FA178  {\"type\": \"Point\", \"coordinates\": [-123.1279113...  \n",
       "FA180  {\"type\": \"Point\", \"coordinates\": [-123.0935368...  \n",
       "FA187  {\"type\": \"Point\", \"coordinates\": [-123.102952,...  \n",
       "FA188  {\"type\": \"Point\", \"coordinates\": [-123.127177,...  \n",
       "\n",
       "[159 rows x 18 columns]"
      ]
     },
     "execution_count": 75,
     "metadata": {},
     "output_type": "execute_result"
    }
   ],
   "source": [
    "gardenDF['YEAR_CREATED'] = pd.to_datetime(gardenDF['YEAR_CREATED'])\n",
    "gardenDF"
   ]
  },
  {
   "cell_type": "markdown",
   "metadata": {},
   "source": [
    "Sometimes you are not so lucky and will have to parse through strings to extract the information you are looking for. The `Geom` column looks like latitude and longitude stored as json, lets parse an individual entry"
   ]
  },
  {
   "cell_type": "code",
   "execution_count": 76,
   "metadata": {},
   "outputs": [
    {
     "data": {
      "text/plain": [
       "{'type': 'Point', 'coordinates': [-123.127177, 49.207365]}"
      ]
     },
     "execution_count": 76,
     "metadata": {},
     "output_type": "execute_result"
    }
   ],
   "source": [
    "import json\n",
    "\n",
    "geom = gardenDF.iloc[-1]['Geom']\n",
    "json.loads(geom)"
   ]
  },
  {
   "cell_type": "markdown",
   "metadata": {},
   "source": [
    "Now we have a `dict` and `coordinates` holds the longitude and latitude. We can use `pd.DataFrame.apply` to apply this transformation to all of the rows and generate new columns"
   ]
  },
  {
   "cell_type": "code",
   "execution_count": 77,
   "metadata": {},
   "outputs": [
    {
     "data": {
      "text/html": [
       "<div>\n",
       "<style scoped>\n",
       "    .dataframe tbody tr th:only-of-type {\n",
       "        vertical-align: middle;\n",
       "    }\n",
       "\n",
       "    .dataframe tbody tr th {\n",
       "        vertical-align: top;\n",
       "    }\n",
       "\n",
       "    .dataframe thead th {\n",
       "        text-align: right;\n",
       "    }\n",
       "</style>\n",
       "<table border=\"1\" class=\"dataframe\">\n",
       "  <thead>\n",
       "    <tr style=\"text-align: right;\">\n",
       "      <th></th>\n",
       "      <th>Latitude</th>\n",
       "      <th>Longitude</th>\n",
       "    </tr>\n",
       "    <tr>\n",
       "      <th>MAPID</th>\n",
       "      <th></th>\n",
       "      <th></th>\n",
       "    </tr>\n",
       "  </thead>\n",
       "  <tbody>\n",
       "    <tr>\n",
       "      <th>FA002</th>\n",
       "      <td>49.257119</td>\n",
       "      <td>-123.078839</td>\n",
       "    </tr>\n",
       "    <tr>\n",
       "      <th>FA003</th>\n",
       "      <td>49.256748</td>\n",
       "      <td>-123.127664</td>\n",
       "    </tr>\n",
       "    <tr>\n",
       "      <th>FA006</th>\n",
       "      <td>49.275582</td>\n",
       "      <td>-123.024395</td>\n",
       "    </tr>\n",
       "    <tr>\n",
       "      <th>FA007</th>\n",
       "      <td>49.220983</td>\n",
       "      <td>-123.150548</td>\n",
       "    </tr>\n",
       "    <tr>\n",
       "      <th>FA009</th>\n",
       "      <td>49.281091</td>\n",
       "      <td>-123.087121</td>\n",
       "    </tr>\n",
       "    <tr>\n",
       "      <th>...</th>\n",
       "      <td>...</td>\n",
       "      <td>...</td>\n",
       "    </tr>\n",
       "    <tr>\n",
       "      <th>FA175</th>\n",
       "      <td>49.240111</td>\n",
       "      <td>-123.043697</td>\n",
       "    </tr>\n",
       "    <tr>\n",
       "      <th>FA178</th>\n",
       "      <td>49.282812</td>\n",
       "      <td>-123.127911</td>\n",
       "    </tr>\n",
       "    <tr>\n",
       "      <th>FA180</th>\n",
       "      <td>49.262568</td>\n",
       "      <td>-123.093537</td>\n",
       "    </tr>\n",
       "    <tr>\n",
       "      <th>FA187</th>\n",
       "      <td>49.258797</td>\n",
       "      <td>-123.102952</td>\n",
       "    </tr>\n",
       "    <tr>\n",
       "      <th>FA188</th>\n",
       "      <td>49.207365</td>\n",
       "      <td>-123.127177</td>\n",
       "    </tr>\n",
       "  </tbody>\n",
       "</table>\n",
       "<p>159 rows × 2 columns</p>\n",
       "</div>"
      ],
      "text/plain": [
       "        Latitude   Longitude\n",
       "MAPID                       \n",
       "FA002  49.257119 -123.078839\n",
       "FA003  49.256748 -123.127664\n",
       "FA006  49.275582 -123.024395\n",
       "FA007  49.220983 -123.150548\n",
       "FA009  49.281091 -123.087121\n",
       "...          ...         ...\n",
       "FA175  49.240111 -123.043697\n",
       "FA178  49.282812 -123.127911\n",
       "FA180  49.262568 -123.093537\n",
       "FA187  49.258797 -123.102952\n",
       "FA188  49.207365 -123.127177\n",
       "\n",
       "[159 rows x 2 columns]"
      ]
     },
     "execution_count": 77,
     "metadata": {},
     "output_type": "execute_result"
    }
   ],
   "source": [
    "gardenDF['Longitude'] = gardenDF['Geom'].apply(lambda x: json.loads(x)['coordinates'][0])\n",
    "gardenDF['Latitude']  = gardenDF['Geom'].apply(lambda x: json.loads(x)['coordinates'][1])\n",
    "gardenDF[['Latitude', 'Longitude']]"
   ]
  },
  {
   "cell_type": "markdown",
   "metadata": {},
   "source": [
    "Once you have an idea of what your data source looks like there are some arguments to `read_csv` (and related functions) which can tidy things up as they are loaded"
   ]
  },
  {
   "cell_type": "code",
   "execution_count": 78,
   "metadata": {},
   "outputs": [
    {
     "data": {
      "text/html": [
       "<div>\n",
       "<style scoped>\n",
       "    .dataframe tbody tr th:only-of-type {\n",
       "        vertical-align: middle;\n",
       "    }\n",
       "\n",
       "    .dataframe tbody tr th {\n",
       "        vertical-align: top;\n",
       "    }\n",
       "\n",
       "    .dataframe thead th {\n",
       "        text-align: right;\n",
       "    }\n",
       "</style>\n",
       "<table border=\"1\" class=\"dataframe\">\n",
       "  <thead>\n",
       "    <tr style=\"text-align: right;\">\n",
       "      <th></th>\n",
       "      <th>YEAR_CREATED</th>\n",
       "      <th>NAME</th>\n",
       "      <th>STREET_NUMBER</th>\n",
       "      <th>STREET_NAME</th>\n",
       "      <th>STEWARD_OR_MANAGING_ORGANIZATION</th>\n",
       "      <th>Geom</th>\n",
       "    </tr>\n",
       "    <tr>\n",
       "      <th>MAPID</th>\n",
       "      <th></th>\n",
       "      <th></th>\n",
       "      <th></th>\n",
       "      <th></th>\n",
       "      <th></th>\n",
       "      <th></th>\n",
       "    </tr>\n",
       "  </thead>\n",
       "  <tbody>\n",
       "    <tr>\n",
       "      <th>FA002</th>\n",
       "      <td>2014-01-01</td>\n",
       "      <td>15th Avenue Coop</td>\n",
       "      <td>1255</td>\n",
       "      <td>15th</td>\n",
       "      <td>NaN</td>\n",
       "      <td>-123.078839</td>\n",
       "    </tr>\n",
       "    <tr>\n",
       "      <th>FA003</th>\n",
       "      <td>2008-01-01</td>\n",
       "      <td>16 Oaks</td>\n",
       "      <td>1018</td>\n",
       "      <td>16th</td>\n",
       "      <td>NaN</td>\n",
       "      <td>-123.127664</td>\n",
       "    </tr>\n",
       "    <tr>\n",
       "      <th>FA006</th>\n",
       "      <td>2011-01-01</td>\n",
       "      <td>Adanac Park Community Garden</td>\n",
       "      <td>1025</td>\n",
       "      <td>Boundary</td>\n",
       "      <td>Kiwassa Neighbourhood Services Association</td>\n",
       "      <td>-123.024395</td>\n",
       "    </tr>\n",
       "    <tr>\n",
       "      <th>FA007</th>\n",
       "      <td>1942-01-01</td>\n",
       "      <td>East Boulevard Allotment Plots</td>\n",
       "      <td>7176</td>\n",
       "      <td>NaN</td>\n",
       "      <td>City of Vancouver</td>\n",
       "      <td>-123.150548</td>\n",
       "    </tr>\n",
       "    <tr>\n",
       "      <th>FA009</th>\n",
       "      <td>2010-01-01</td>\n",
       "      <td>Atira Community Garden</td>\n",
       "      <td>400</td>\n",
       "      <td>Hawks</td>\n",
       "      <td>Atira Community Resources</td>\n",
       "      <td>-123.087121</td>\n",
       "    </tr>\n",
       "  </tbody>\n",
       "</table>\n",
       "</div>"
      ],
      "text/plain": [
       "      YEAR_CREATED                            NAME STREET_NUMBER STREET_NAME  \\\n",
       "MAPID                                                                          \n",
       "FA002   2014-01-01                15th Avenue Coop          1255        15th   \n",
       "FA003   2008-01-01                         16 Oaks          1018        16th   \n",
       "FA006   2011-01-01    Adanac Park Community Garden          1025    Boundary   \n",
       "FA007   1942-01-01  East Boulevard Allotment Plots          7176         NaN   \n",
       "FA009   2010-01-01          Atira Community Garden           400       Hawks   \n",
       "\n",
       "                 STEWARD_OR_MANAGING_ORGANIZATION        Geom  \n",
       "MAPID                                                          \n",
       "FA002                                         NaN -123.078839  \n",
       "FA003                                         NaN -123.127664  \n",
       "FA006  Kiwassa Neighbourhood Services Association -123.024395  \n",
       "FA007                           City of Vancouver -123.150548  \n",
       "FA009                   Atira Community Resources -123.087121  "
      ]
     },
     "execution_count": 78,
     "metadata": {},
     "output_type": "execute_result"
    }
   ],
   "source": [
    "import json\n",
    "\n",
    "def geom2lat(geom):\n",
    "    if geom:\n",
    "        return json.loads(geom)['coordinates'][0]\n",
    "    else:\n",
    "        return np.NaN\n",
    "\n",
    "    \n",
    "gardenDF = pd.read_csv(\n",
    "    \"https://opendata.vancouver.ca/explore/dataset/community-gardens-and-food-trees/download/?format=csv&timezone=America/Los_Angeles&lang=en&use_labels_for_header=true&csv_separator=%3B\",\n",
    "    usecols = [\n",
    "        'MAPID',\n",
    "        'YEAR_CREATED',\n",
    "        'NAME',\n",
    "        'STEWARD_OR_MANAGING_ORGANIZATION',\n",
    "        'STREET_NUMBER',\n",
    "        'STREET_NAME',\n",
    "        'Geom',\n",
    "        'Geom'\n",
    "    ],\n",
    "    delimiter=';',\n",
    "    encoding='latin1',\n",
    "    na_values={\n",
    "        'YEAR_CREATED': ['Pre-2010', 'pre-1970', 'pre 2000', 'nan']\n",
    "    },\n",
    "    index_col='MAPID',\n",
    "    parse_dates=['YEAR_CREATED'],\n",
    "    converters={\n",
    "        'Geom': geom2lat,\n",
    "    }\n",
    ")\n",
    "gardenDF.head()"
   ]
  },
  {
   "cell_type": "markdown",
   "metadata": {},
   "source": [
    "## Accessing Data via APIs\n",
    "\n",
    "An API (Application Programming Interface) is a formal specification describing how systems should communicate with each other. This is an incredibly general notion which could involve information going in both directions and changes being made on both systems. We will only talk about them in the context of extracting data into massaging it into pandas, but full featured APIs could also support authentication, uploading information, telling AWS to shutdown all your ec2 instances or pretty mich anything else you could think of.\n",
    "\n",
    "APIs allow applications (you're code) to interact with other applications (someone elses' code) and they're particularly useful where the incoming data is event based or otherwise frequently updated. They also turn up in situations where the entire data set is very large, but individual requests will only need small slices; applications can request the information they need on demand without the source having to pre-prepare all the possible variations for download.\n",
    "\n",
    "Good APIs are versioned (or at the very least stable), well documented and they often implement a pattern called [REST](https://en.wikipedia.org/wiki/Representational_state_transfer). This adds a layer of formality and standardization to the API which which helps to make them more predictable and easier to develop with. Most of the API's I can think of operate over HTTP and pass information back and forth in the [json](https://en.wikipedia.org/wiki/JSON) format.\n"
   ]
  },
  {
   "cell_type": "markdown",
   "metadata": {},
   "source": [
    "For popular APIs (e.g. [twitter](https://developer.twitter.com/en/docs/twitter-api)) you might find that someone has already written a python wrapper for the API (e.g [python-twitter](https://python-twitter.readthedocs.io/en/latest/)). This is usually the best case scenario because it means someone else has done the hard work of reading the API specification for you. In other cases, you might only have access to the API spec or maybe a console to help you build queries. If you're very unlucky, the API will be undocumented, the silver lining in this case is these are usually where the really juicy stuff is stored!\n",
    "\n",
    "* [Vancouver Open Data Portal](https://opendata.vancouver.ca/api/v1/console/datasets/1.0/search/) has a console to help you build queries\n",
    "* [Canada Open Data Portal](https://open.canada.ca/en/working-data#toc93c) has instructions on interfacing with python\n",
    "* [Stats Canada API](https://www.statcan.gc.ca/eng/developers/wds/user-guide#a12-3) See also [this post](https://towardsdatascience.com/how-to-collect-data-from-statistics-canada-using-python-db8a81ce6475) on using that portal\n",
    "* [Twitter API](https://developer.twitter.com/en/docs)\n",
    "* [Open Weather Map](https://openweathermap.org/api)\n",
    "* [NASA](https://api.nasa.gov/) imagery, data, etc.\n",
    "* [GitHub](https://docs.github.com/en/rest)"
   ]
  },
  {
   "cell_type": "markdown",
   "metadata": {},
   "source": [
    "If there isn't a pre-packaged module to take care of your needs the [requests module](https://docs.python-requests.org/en/master/) is usually your best option. Here is a quick example extracting the part of the gardens dataset from the vancouver data portal"
   ]
  },
  {
   "cell_type": "code",
   "execution_count": 79,
   "metadata": {},
   "outputs": [
    {
     "data": {
      "text/plain": [
       "200"
      ]
     },
     "execution_count": 79,
     "metadata": {},
     "output_type": "execute_result"
    }
   ],
   "source": [
    "import requests\n",
    "\n",
    "base_url = 'https://opendata.vancouver.ca/api/v2/catalog/datasets/community-gardens-and-food-trees/records'\n",
    "headers = {\n",
    " 'Content-Type': 'application/json; charset=utf-8'\n",
    "}\n",
    "\n",
    "\n",
    "params = {\n",
    "    'dataset_id' : 'community-gardens-and-food-trees',\n",
    "    'limit'      : 10,\n",
    "    'facet'      : 'jurisdiction',\n",
    "    'refine'     : 'jurisdiction:City'\n",
    "}\n",
    "\n",
    "\n",
    "r = requests.get(base_url, params=params)\n",
    "r.status_code"
   ]
  },
  {
   "cell_type": "code",
   "execution_count": 80,
   "metadata": {},
   "outputs": [
    {
     "data": {
      "text/plain": [
       "'application/json; charset=utf-8'"
      ]
     },
     "execution_count": 80,
     "metadata": {},
     "output_type": "execute_result"
    }
   ],
   "source": [
    "r.headers['content-type']"
   ]
  },
  {
   "cell_type": "code",
   "execution_count": 82,
   "metadata": {},
   "outputs": [],
   "source": [
    "r.json();"
   ]
  },
  {
   "cell_type": "markdown",
   "metadata": {},
   "source": [
    "If you look up these params in the the [API documentation](https://opendata.vancouver.ca/api/v2/console#!/dataset/getRecords) you'll see that we are filtering for records where `jurisdiction` is `City` and we are asking for a `limit` of 10 records (which is actually the default value of `limit`). But there are 25 records in total which match that filter (look at the first line of `r.json()`. If we want them all, we have to access them in pages. Before we do that though, we should think about rate limits. Almost every API will implement some form of rate limit and the Vancouver Open Data (as well as a lot of other places) will tell you what your current rate limit status is in the response headers."
   ]
  },
  {
   "cell_type": "code",
   "execution_count": 83,
   "metadata": {},
   "outputs": [
    {
     "data": {
      "text/plain": [
       "{'X-RateLimit-Remaining': '14968',\n",
       " 'X-RateLimit-Limit': '15000',\n",
       " 'X-RateLimit-Reset': '2021-08-06 00:00:00+00:00'}"
      ]
     },
     "execution_count": 83,
     "metadata": {},
     "output_type": "execute_result"
    }
   ],
   "source": [
    "{k:v for k, v in dict(r.headers).items() if k.startswith('X-Rate')}"
   ]
  },
  {
   "cell_type": "markdown",
   "metadata": {},
   "source": [
    "[Their documentation](https://help.opendatasoft.com/apis/ods-search-v1/#quotas) has information on these values. In general, registered users will be given more generous limits. Often this means registering for some kind of token and including it in your requests, we will do this below, but with one **major** caveat. The token is usually equivalent to a password and you should treat it the same way. Don't share it with people, be careful where you use it (including jupyter notebook output cells!), and make sure you don't check it into version control!"
   ]
  },
  {
   "cell_type": "code",
   "execution_count": 84,
   "metadata": {},
   "outputs": [],
   "source": [
    "import os\n",
    "from getpass import getpass"
   ]
  },
  {
   "cell_type": "code",
   "execution_count": 85,
   "metadata": {},
   "outputs": [
    {
     "name": "stdin",
     "output_type": "stream",
     "text": [
      "API Key ························································\n"
     ]
    }
   ],
   "source": [
    "os.environ['VAN_API_KEY'] = getpass('API Key')"
   ]
  },
  {
   "cell_type": "code",
   "execution_count": 86,
   "metadata": {},
   "outputs": [],
   "source": [
    "params['apikey'] = os.environ['VAN_API_KEY']\n",
    "r = requests.get(base_url, params=params)"
   ]
  },
  {
   "cell_type": "code",
   "execution_count": 87,
   "metadata": {},
   "outputs": [
    {
     "data": {
      "text/plain": [
       "{'X-RateLimit-Remaining': '19997',\n",
       " 'X-RateLimit-Limit': '20000',\n",
       " 'X-RateLimit-Reset': '2021-08-06 00:00:00+00:00'}"
      ]
     },
     "execution_count": 87,
     "metadata": {},
     "output_type": "execute_result"
    }
   ],
   "source": [
    "{k:v for k, v in dict(r.headers).items() if k.startswith('X-Rate')}"
   ]
  },
  {
   "cell_type": "markdown",
   "metadata": {},
   "source": [
    "With our new rate limit we can make multiple requests and get all of the data we wanted. Even so it is worth limiting the impact we will have on their API, there are modules like [ratelimit](https://pypi.org/project/ratelimit/) which can do this systematically, but we will just add a manual delay."
   ]
  },
  {
   "cell_type": "code",
   "execution_count": 88,
   "metadata": {},
   "outputs": [],
   "source": [
    "import time\n",
    "from urllib.parse import urlencode, urljoin\n",
    "\n",
    "records = []\n",
    "url  = f\"{base_url}?{urlencode(params)}\"\n",
    "\n",
    "while True:\n",
    "    time.sleep(2)\n",
    "    \n",
    "    r = requests.get(url)\n",
    "    urls = {x['rel']:x['href'] for x in r.json()['links']}\n",
    "\n",
    "    records.extend(r.json()['records'])\n",
    "    \n",
    "    if urls['self'] == urls['last']:\n",
    "        break\n",
    "    else:\n",
    "        url = urls['next']\n",
    "        params = {}"
   ]
  },
  {
   "cell_type": "code",
   "execution_count": 90,
   "metadata": {},
   "outputs": [
    {
     "data": {
      "text/plain": [
       "25"
      ]
     },
     "execution_count": 90,
     "metadata": {},
     "output_type": "execute_result"
    }
   ],
   "source": [
    "len(records)"
   ]
  },
  {
   "cell_type": "markdown",
   "metadata": {},
   "source": [
    "## TimeSeries\n",
    "\n",
    "We've already talked about time and date handling a bit, but I use this a lot, so we can talk about it more! Pandas was created to handle Financial data and do financial modeling. This lineage has given pandas really excellent time handling. The main objects are\n",
    "\n",
    "  * **Time Stamps**: Specific points in time usually recorded to the second or nanosecond\n",
    "  * **Time Intervals/Time Deltas**: These types lets you do arithmetic on time objects\n",
    "\n",
    "We need some dates to play with. There's a convenience function called `to_datetime` which can convert many \"human readable\" dates to a pd.Timestamp object"
   ]
  },
  {
   "cell_type": "code",
   "execution_count": 91,
   "metadata": {},
   "outputs": [
    {
     "data": {
      "text/plain": [
       "Timestamp('1969-07-20 20:17:00+0000', tz='UTC')"
      ]
     },
     "execution_count": 91,
     "metadata": {},
     "output_type": "execute_result"
    }
   ],
   "source": [
    "from datetime import datetime\n",
    "\n",
    "moonwalk = pd.to_datetime('July 20, 1969, 20:17 UTC')\n",
    "moonwalk"
   ]
  },
  {
   "cell_type": "markdown",
   "metadata": {},
   "source": [
    "Timestamps have attributes which let you extract days, year, etc. Normally these will be reported as numbers, but the strftime method supports the usual format specifiers (The correspond with the libc specifiers, here's a reference http://strftime.org/)"
   ]
  },
  {
   "cell_type": "code",
   "execution_count": 92,
   "metadata": {},
   "outputs": [
    {
     "name": "stdout",
     "output_type": "stream",
     "text": [
      "The moon walk took place on a Sunday\n"
     ]
    }
   ],
   "source": [
    "print(f\"The moon walk took place on a {moonwalk.strftime('%A')}\")"
   ]
  },
  {
   "cell_type": "code",
   "execution_count": 94,
   "metadata": {},
   "outputs": [
    {
     "data": {
      "text/plain": [
       "Timedelta('19008 days 21:22:10.580418')"
      ]
     },
     "execution_count": 94,
     "metadata": {},
     "output_type": "execute_result"
    }
   ],
   "source": [
    "pd.to_datetime(datetime.utcnow(), utc=True) - moonwalk"
   ]
  },
  {
   "cell_type": "markdown",
   "metadata": {},
   "source": [
    "Let's look at another sample dataset, it contains various columns, we will look at\n",
    "\n",
    "  * `activity_period`: The date for the record in the format yyyymm\n",
    "  * `passenger_count`\n",
    "  \n",
    "We can parse the date into a DateTime with `pd.to_datetime` then set the result as the index. We can then slice dates and resample"
   ]
  },
  {
   "cell_type": "code",
   "execution_count": 95,
   "metadata": {},
   "outputs": [
    {
     "data": {
      "text/html": [
       "<div>\n",
       "<style scoped>\n",
       "    .dataframe tbody tr th:only-of-type {\n",
       "        vertical-align: middle;\n",
       "    }\n",
       "\n",
       "    .dataframe tbody tr th {\n",
       "        vertical-align: top;\n",
       "    }\n",
       "\n",
       "    .dataframe thead th {\n",
       "        text-align: right;\n",
       "    }\n",
       "</style>\n",
       "<table border=\"1\" class=\"dataframe\">\n",
       "  <thead>\n",
       "    <tr style=\"text-align: right;\">\n",
       "      <th></th>\n",
       "      <th>activity_period</th>\n",
       "      <th>operating_airline</th>\n",
       "      <th>operating_airline_iata_code</th>\n",
       "      <th>published_airline</th>\n",
       "      <th>published_airline_iata_code</th>\n",
       "      <th>geo_summary</th>\n",
       "      <th>geo_region</th>\n",
       "      <th>activity_type_code</th>\n",
       "      <th>price_category_code</th>\n",
       "      <th>terminal</th>\n",
       "      <th>boarding_area</th>\n",
       "      <th>passenger_count</th>\n",
       "    </tr>\n",
       "  </thead>\n",
       "  <tbody>\n",
       "    <tr>\n",
       "      <th>0</th>\n",
       "      <td>202106</td>\n",
       "      <td>Lufthansa German Airlines</td>\n",
       "      <td>LH</td>\n",
       "      <td>Lufthansa German Airlines</td>\n",
       "      <td>LH</td>\n",
       "      <td>International</td>\n",
       "      <td>Europe</td>\n",
       "      <td>Deplaned</td>\n",
       "      <td>Other</td>\n",
       "      <td>International</td>\n",
       "      <td>G</td>\n",
       "      <td>3336</td>\n",
       "    </tr>\n",
       "    <tr>\n",
       "      <th>1</th>\n",
       "      <td>202106</td>\n",
       "      <td>SkyWest Airlines</td>\n",
       "      <td>OO</td>\n",
       "      <td>Delta Air Lines</td>\n",
       "      <td>DL</td>\n",
       "      <td>Domestic</td>\n",
       "      <td>US</td>\n",
       "      <td>Enplaned</td>\n",
       "      <td>Other</td>\n",
       "      <td>Terminal 2</td>\n",
       "      <td>D</td>\n",
       "      <td>3626</td>\n",
       "    </tr>\n",
       "    <tr>\n",
       "      <th>2</th>\n",
       "      <td>202106</td>\n",
       "      <td>United Airlines</td>\n",
       "      <td>UA</td>\n",
       "      <td>United Airlines</td>\n",
       "      <td>UA</td>\n",
       "      <td>Domestic</td>\n",
       "      <td>US</td>\n",
       "      <td>Thru / Transit</td>\n",
       "      <td>Other</td>\n",
       "      <td>Terminal 3</td>\n",
       "      <td>F</td>\n",
       "      <td>144</td>\n",
       "    </tr>\n",
       "    <tr>\n",
       "      <th>3</th>\n",
       "      <td>202106</td>\n",
       "      <td>Jazz Aviation</td>\n",
       "      <td>QK</td>\n",
       "      <td>Air Canada</td>\n",
       "      <td>AC</td>\n",
       "      <td>International</td>\n",
       "      <td>Canada</td>\n",
       "      <td>Deplaned</td>\n",
       "      <td>Other</td>\n",
       "      <td>International</td>\n",
       "      <td>G</td>\n",
       "      <td>1669</td>\n",
       "    </tr>\n",
       "    <tr>\n",
       "      <th>4</th>\n",
       "      <td>202106</td>\n",
       "      <td>TAP Air Portugal</td>\n",
       "      <td>TP</td>\n",
       "      <td>TAP Air Portugal</td>\n",
       "      <td>TP</td>\n",
       "      <td>International</td>\n",
       "      <td>Europe</td>\n",
       "      <td>Enplaned</td>\n",
       "      <td>Other</td>\n",
       "      <td>International</td>\n",
       "      <td>G</td>\n",
       "      <td>1923</td>\n",
       "    </tr>\n",
       "  </tbody>\n",
       "</table>\n",
       "</div>"
      ],
      "text/plain": [
       "  activity_period          operating_airline operating_airline_iata_code  \\\n",
       "0          202106  Lufthansa German Airlines                          LH   \n",
       "1          202106           SkyWest Airlines                          OO   \n",
       "2          202106            United Airlines                          UA   \n",
       "3          202106              Jazz Aviation                          QK   \n",
       "4          202106           TAP Air Portugal                          TP   \n",
       "\n",
       "           published_airline published_airline_iata_code    geo_summary  \\\n",
       "0  Lufthansa German Airlines                          LH  International   \n",
       "1            Delta Air Lines                          DL       Domestic   \n",
       "2            United Airlines                          UA       Domestic   \n",
       "3                 Air Canada                          AC  International   \n",
       "4           TAP Air Portugal                          TP  International   \n",
       "\n",
       "  geo_region activity_type_code price_category_code       terminal  \\\n",
       "0     Europe           Deplaned               Other  International   \n",
       "1         US           Enplaned               Other     Terminal 2   \n",
       "2         US     Thru / Transit               Other     Terminal 3   \n",
       "3     Canada           Deplaned               Other  International   \n",
       "4     Europe           Enplaned               Other  International   \n",
       "\n",
       "  boarding_area passenger_count  \n",
       "0             G            3336  \n",
       "1             D            3626  \n",
       "2             F             144  \n",
       "3             G            1669  \n",
       "4             G            1923  "
      ]
     },
     "execution_count": 95,
     "metadata": {},
     "output_type": "execute_result"
    }
   ],
   "source": [
    "r = requests.get('https://data.sfgov.org/resource/rkru-6vcg?$limit=10000')\n",
    "\n",
    "flightsDF = pd.DataFrame(r.json())\n",
    "flightsDF.head()"
   ]
  },
  {
   "cell_type": "code",
   "execution_count": 96,
   "metadata": {},
   "outputs": [
    {
     "data": {
      "text/html": [
       "<div>\n",
       "<style scoped>\n",
       "    .dataframe tbody tr th:only-of-type {\n",
       "        vertical-align: middle;\n",
       "    }\n",
       "\n",
       "    .dataframe tbody tr th {\n",
       "        vertical-align: top;\n",
       "    }\n",
       "\n",
       "    .dataframe thead th {\n",
       "        text-align: right;\n",
       "    }\n",
       "</style>\n",
       "<table border=\"1\" class=\"dataframe\">\n",
       "  <thead>\n",
       "    <tr style=\"text-align: right;\">\n",
       "      <th></th>\n",
       "      <th>activity_period</th>\n",
       "      <th>operating_airline</th>\n",
       "      <th>operating_airline_iata_code</th>\n",
       "      <th>published_airline</th>\n",
       "      <th>published_airline_iata_code</th>\n",
       "      <th>geo_summary</th>\n",
       "      <th>geo_region</th>\n",
       "      <th>activity_type_code</th>\n",
       "      <th>price_category_code</th>\n",
       "      <th>terminal</th>\n",
       "      <th>boarding_area</th>\n",
       "      <th>passenger_count</th>\n",
       "    </tr>\n",
       "    <tr>\n",
       "      <th>date</th>\n",
       "      <th></th>\n",
       "      <th></th>\n",
       "      <th></th>\n",
       "      <th></th>\n",
       "      <th></th>\n",
       "      <th></th>\n",
       "      <th></th>\n",
       "      <th></th>\n",
       "      <th></th>\n",
       "      <th></th>\n",
       "      <th></th>\n",
       "      <th></th>\n",
       "    </tr>\n",
       "  </thead>\n",
       "  <tbody>\n",
       "    <tr>\n",
       "      <th>2021-06-01</th>\n",
       "      <td>202106</td>\n",
       "      <td>Lufthansa German Airlines</td>\n",
       "      <td>LH</td>\n",
       "      <td>Lufthansa German Airlines</td>\n",
       "      <td>LH</td>\n",
       "      <td>International</td>\n",
       "      <td>Europe</td>\n",
       "      <td>Deplaned</td>\n",
       "      <td>Other</td>\n",
       "      <td>International</td>\n",
       "      <td>G</td>\n",
       "      <td>3336</td>\n",
       "    </tr>\n",
       "    <tr>\n",
       "      <th>2021-06-01</th>\n",
       "      <td>202106</td>\n",
       "      <td>SkyWest Airlines</td>\n",
       "      <td>OO</td>\n",
       "      <td>Delta Air Lines</td>\n",
       "      <td>DL</td>\n",
       "      <td>Domestic</td>\n",
       "      <td>US</td>\n",
       "      <td>Enplaned</td>\n",
       "      <td>Other</td>\n",
       "      <td>Terminal 2</td>\n",
       "      <td>D</td>\n",
       "      <td>3626</td>\n",
       "    </tr>\n",
       "    <tr>\n",
       "      <th>2021-06-01</th>\n",
       "      <td>202106</td>\n",
       "      <td>United Airlines</td>\n",
       "      <td>UA</td>\n",
       "      <td>United Airlines</td>\n",
       "      <td>UA</td>\n",
       "      <td>Domestic</td>\n",
       "      <td>US</td>\n",
       "      <td>Thru / Transit</td>\n",
       "      <td>Other</td>\n",
       "      <td>Terminal 3</td>\n",
       "      <td>F</td>\n",
       "      <td>144</td>\n",
       "    </tr>\n",
       "    <tr>\n",
       "      <th>2021-06-01</th>\n",
       "      <td>202106</td>\n",
       "      <td>Jazz Aviation</td>\n",
       "      <td>QK</td>\n",
       "      <td>Air Canada</td>\n",
       "      <td>AC</td>\n",
       "      <td>International</td>\n",
       "      <td>Canada</td>\n",
       "      <td>Deplaned</td>\n",
       "      <td>Other</td>\n",
       "      <td>International</td>\n",
       "      <td>G</td>\n",
       "      <td>1669</td>\n",
       "    </tr>\n",
       "    <tr>\n",
       "      <th>2021-06-01</th>\n",
       "      <td>202106</td>\n",
       "      <td>TAP Air Portugal</td>\n",
       "      <td>TP</td>\n",
       "      <td>TAP Air Portugal</td>\n",
       "      <td>TP</td>\n",
       "      <td>International</td>\n",
       "      <td>Europe</td>\n",
       "      <td>Enplaned</td>\n",
       "      <td>Other</td>\n",
       "      <td>International</td>\n",
       "      <td>G</td>\n",
       "      <td>1923</td>\n",
       "    </tr>\n",
       "  </tbody>\n",
       "</table>\n",
       "</div>"
      ],
      "text/plain": [
       "           activity_period          operating_airline  \\\n",
       "date                                                    \n",
       "2021-06-01          202106  Lufthansa German Airlines   \n",
       "2021-06-01          202106           SkyWest Airlines   \n",
       "2021-06-01          202106            United Airlines   \n",
       "2021-06-01          202106              Jazz Aviation   \n",
       "2021-06-01          202106           TAP Air Portugal   \n",
       "\n",
       "           operating_airline_iata_code          published_airline  \\\n",
       "date                                                                \n",
       "2021-06-01                          LH  Lufthansa German Airlines   \n",
       "2021-06-01                          OO            Delta Air Lines   \n",
       "2021-06-01                          UA            United Airlines   \n",
       "2021-06-01                          QK                 Air Canada   \n",
       "2021-06-01                          TP           TAP Air Portugal   \n",
       "\n",
       "           published_airline_iata_code    geo_summary geo_region  \\\n",
       "date                                                               \n",
       "2021-06-01                          LH  International     Europe   \n",
       "2021-06-01                          DL       Domestic         US   \n",
       "2021-06-01                          UA       Domestic         US   \n",
       "2021-06-01                          AC  International     Canada   \n",
       "2021-06-01                          TP  International     Europe   \n",
       "\n",
       "           activity_type_code price_category_code       terminal  \\\n",
       "date                                                               \n",
       "2021-06-01           Deplaned               Other  International   \n",
       "2021-06-01           Enplaned               Other     Terminal 2   \n",
       "2021-06-01     Thru / Transit               Other     Terminal 3   \n",
       "2021-06-01           Deplaned               Other  International   \n",
       "2021-06-01           Enplaned               Other  International   \n",
       "\n",
       "           boarding_area  passenger_count  \n",
       "date                                       \n",
       "2021-06-01             G             3336  \n",
       "2021-06-01             D             3626  \n",
       "2021-06-01             F              144  \n",
       "2021-06-01             G             1669  \n",
       "2021-06-01             G             1923  "
      ]
     },
     "execution_count": 96,
     "metadata": {},
     "output_type": "execute_result"
    }
   ],
   "source": [
    "flightsDF['passenger_count'] = flightsDF['passenger_count'].astype(int)\n",
    "flightsDF['date'] = pd.to_datetime(flightsDF['activity_period'], format='%Y%m')\n",
    "\n",
    "flightsDF.set_index('date', inplace=True)\n",
    "flightsDF.head()"
   ]
  },
  {
   "cell_type": "code",
   "execution_count": 97,
   "metadata": {},
   "outputs": [
    {
     "data": {
      "text/html": [
       "<div>\n",
       "<style scoped>\n",
       "    .dataframe tbody tr th:only-of-type {\n",
       "        vertical-align: middle;\n",
       "    }\n",
       "\n",
       "    .dataframe tbody tr th {\n",
       "        vertical-align: top;\n",
       "    }\n",
       "\n",
       "    .dataframe thead th {\n",
       "        text-align: right;\n",
       "    }\n",
       "</style>\n",
       "<table border=\"1\" class=\"dataframe\">\n",
       "  <thead>\n",
       "    <tr style=\"text-align: right;\">\n",
       "      <th></th>\n",
       "      <th>passenger_count</th>\n",
       "    </tr>\n",
       "    <tr>\n",
       "      <th>date</th>\n",
       "      <th></th>\n",
       "    </tr>\n",
       "  </thead>\n",
       "  <tbody>\n",
       "    <tr>\n",
       "      <th>2018-03-31</th>\n",
       "      <td>3745874</td>\n",
       "    </tr>\n",
       "    <tr>\n",
       "      <th>2018-04-30</th>\n",
       "      <td>9426366</td>\n",
       "    </tr>\n",
       "    <tr>\n",
       "      <th>2018-05-31</th>\n",
       "      <td>10051190</td>\n",
       "    </tr>\n",
       "    <tr>\n",
       "      <th>2018-06-30</th>\n",
       "      <td>10854288</td>\n",
       "    </tr>\n",
       "    <tr>\n",
       "      <th>2018-07-31</th>\n",
       "      <td>11385144</td>\n",
       "    </tr>\n",
       "  </tbody>\n",
       "</table>\n",
       "</div>"
      ],
      "text/plain": [
       "            passenger_count\n",
       "date                       \n",
       "2018-03-31          3745874\n",
       "2018-04-30          9426366\n",
       "2018-05-31         10051190\n",
       "2018-06-30         10854288\n",
       "2018-07-31         11385144"
      ]
     },
     "execution_count": 97,
     "metadata": {},
     "output_type": "execute_result"
    }
   ],
   "source": [
    "flightsDF = flightsDF.resample('M').sum()\n",
    "flightsDF.head()"
   ]
  },
  {
   "cell_type": "code",
   "execution_count": 98,
   "metadata": {},
   "outputs": [
    {
     "data": {
      "text/plain": [
       "<AxesSubplot:xlabel='date'>"
      ]
     },
     "execution_count": 98,
     "metadata": {},
     "output_type": "execute_result"
    },
    {
     "data": {
      "image/png": "[encoded data removed]",
      "text/plain": [
       "<Figure size 432x288 with 1 Axes>"
      ]
     },
     "metadata": {
      "needs_background": "light"
     },
     "output_type": "display_data"
    }
   ],
   "source": [
    "flightsDF['2021-01-01':].plot(kind='bar')"
   ]
  },
  {
   "cell_type": "markdown",
   "metadata": {},
   "source": [
    "Timestamp objects can also deal with arithmetic"
   ]
  },
  {
   "cell_type": "code",
   "execution_count": 99,
   "metadata": {},
   "outputs": [
    {
     "data": {
      "text/plain": [
       "Timedelta('1187 days 00:00:00')"
      ]
     },
     "execution_count": 99,
     "metadata": {},
     "output_type": "execute_result"
    }
   ],
   "source": [
    "flightsDF.index[-1] - flightsDF.index[0]"
   ]
  },
  {
   "cell_type": "code",
   "execution_count": 100,
   "metadata": {},
   "outputs": [
    {
     "data": {
      "text/plain": [
       "<AxesSubplot:xlabel='date'>"
      ]
     },
     "execution_count": 100,
     "metadata": {},
     "output_type": "execute_result"
    },
    {
     "data": {
      "image/png": "[encoded data removed]",
      "text/plain": [
       "<Figure size 432x288 with 1 Axes>"
      ]
     },
     "metadata": {
      "needs_background": "light"
     },
     "output_type": "display_data"
    }
   ],
   "source": [
    "flightsDF.resample('Y').mean().plot(kind='bar')"
   ]
  },
  {
   "cell_type": "markdown",
   "metadata": {},
   "source": [
    "## Grouping, Joining, Concatenating\n",
    "\n",
    "You can get pretty far by jamming everything into a single dataframe, but sometimes you might want to do aggregate operations within a dataframe (e.g. group together all of the rows by year and show the mean value of some other column). Alternatively you might want to add new rows to or columns to an existing DataFrame or join dataframes based on shared key.\n"
   ]
  },
  {
   "cell_type": "code",
   "execution_count": 101,
   "metadata": {},
   "outputs": [
    {
     "data": {
      "text/html": [
       "<div>\n",
       "<style scoped>\n",
       "    .dataframe tbody tr th:only-of-type {\n",
       "        vertical-align: middle;\n",
       "    }\n",
       "\n",
       "    .dataframe tbody tr th {\n",
       "        vertical-align: top;\n",
       "    }\n",
       "\n",
       "    .dataframe thead th {\n",
       "        text-align: right;\n",
       "    }\n",
       "</style>\n",
       "<table border=\"1\" class=\"dataframe\">\n",
       "  <thead>\n",
       "    <tr style=\"text-align: right;\">\n",
       "      <th></th>\n",
       "      <th>mpg</th>\n",
       "      <th>cylinders</th>\n",
       "      <th>displacement</th>\n",
       "      <th>horsepower</th>\n",
       "      <th>weight</th>\n",
       "      <th>acceleration</th>\n",
       "      <th>model_year</th>\n",
       "      <th>origin</th>\n",
       "      <th>name</th>\n",
       "    </tr>\n",
       "  </thead>\n",
       "  <tbody>\n",
       "    <tr>\n",
       "      <th>0</th>\n",
       "      <td>18.0</td>\n",
       "      <td>8</td>\n",
       "      <td>307.0</td>\n",
       "      <td>130.0</td>\n",
       "      <td>3504</td>\n",
       "      <td>12.0</td>\n",
       "      <td>70</td>\n",
       "      <td>usa</td>\n",
       "      <td>chevrolet chevelle malibu</td>\n",
       "    </tr>\n",
       "    <tr>\n",
       "      <th>1</th>\n",
       "      <td>15.0</td>\n",
       "      <td>8</td>\n",
       "      <td>350.0</td>\n",
       "      <td>165.0</td>\n",
       "      <td>3693</td>\n",
       "      <td>11.5</td>\n",
       "      <td>70</td>\n",
       "      <td>usa</td>\n",
       "      <td>buick skylark 320</td>\n",
       "    </tr>\n",
       "    <tr>\n",
       "      <th>2</th>\n",
       "      <td>18.0</td>\n",
       "      <td>8</td>\n",
       "      <td>318.0</td>\n",
       "      <td>150.0</td>\n",
       "      <td>3436</td>\n",
       "      <td>11.0</td>\n",
       "      <td>70</td>\n",
       "      <td>usa</td>\n",
       "      <td>plymouth satellite</td>\n",
       "    </tr>\n",
       "    <tr>\n",
       "      <th>3</th>\n",
       "      <td>16.0</td>\n",
       "      <td>8</td>\n",
       "      <td>304.0</td>\n",
       "      <td>150.0</td>\n",
       "      <td>3433</td>\n",
       "      <td>12.0</td>\n",
       "      <td>70</td>\n",
       "      <td>usa</td>\n",
       "      <td>amc rebel sst</td>\n",
       "    </tr>\n",
       "    <tr>\n",
       "      <th>4</th>\n",
       "      <td>17.0</td>\n",
       "      <td>8</td>\n",
       "      <td>302.0</td>\n",
       "      <td>140.0</td>\n",
       "      <td>3449</td>\n",
       "      <td>10.5</td>\n",
       "      <td>70</td>\n",
       "      <td>usa</td>\n",
       "      <td>ford torino</td>\n",
       "    </tr>\n",
       "  </tbody>\n",
       "</table>\n",
       "</div>"
      ],
      "text/plain": [
       "    mpg  cylinders  displacement  horsepower  weight  acceleration  \\\n",
       "0  18.0          8         307.0       130.0    3504          12.0   \n",
       "1  15.0          8         350.0       165.0    3693          11.5   \n",
       "2  18.0          8         318.0       150.0    3436          11.0   \n",
       "3  16.0          8         304.0       150.0    3433          12.0   \n",
       "4  17.0          8         302.0       140.0    3449          10.5   \n",
       "\n",
       "   model_year origin                       name  \n",
       "0          70    usa  chevrolet chevelle malibu  \n",
       "1          70    usa          buick skylark 320  \n",
       "2          70    usa         plymouth satellite  \n",
       "3          70    usa              amc rebel sst  \n",
       "4          70    usa                ford torino  "
      ]
     },
     "execution_count": 101,
     "metadata": {},
     "output_type": "execute_result"
    }
   ],
   "source": [
    "carsDF = pd.read_csv(\n",
    "    'https://raw.githubusercontent.com/mwaskom/seaborn-data/master/mpg.csv'\n",
    ")\n",
    "carsDF.head()"
   ]
  },
  {
   "cell_type": "markdown",
   "metadata": {},
   "source": [
    "### Groupby\n",
    "Let's group things by number_of_cylinders and see how that affects mpg..."
   ]
  },
  {
   "cell_type": "code",
   "execution_count": 102,
   "metadata": {},
   "outputs": [
    {
     "data": {
      "text/plain": [
       "23.514572864321615"
      ]
     },
     "execution_count": 102,
     "metadata": {},
     "output_type": "execute_result"
    }
   ],
   "source": [
    "carsDF['mpg'].mean()"
   ]
  },
  {
   "cell_type": "markdown",
   "metadata": {},
   "source": [
    "Calling groupby on it's own will give you a `DataFrameGroupBy` object, you have to tell it what you want to do with the groups to actually see some results, this can be convenient if you want to look at different aggregate functions on the same groups."
   ]
  },
  {
   "cell_type": "code",
   "execution_count": 103,
   "metadata": {},
   "outputs": [
    {
     "data": {
      "text/plain": [
       "<pandas.core.groupby.generic.DataFrameGroupBy object at 0x7fdadc30d430>"
      ]
     },
     "execution_count": 103,
     "metadata": {},
     "output_type": "execute_result"
    }
   ],
   "source": [
    "carsDFbyCylinders = carsDF.groupby('cylinders')\n",
    "carsDFbyCylinders"
   ]
  },
  {
   "cell_type": "markdown",
   "metadata": {},
   "source": [
    "The typical aggregate operations are things like\n",
    "\n",
    "  * mean()\n",
    "  * sum()\n",
    "  * median()\n",
    "  * min()/max()"
   ]
  },
  {
   "cell_type": "code",
   "execution_count": 104,
   "metadata": {},
   "outputs": [
    {
     "data": {
      "text/html": [
       "<div>\n",
       "<style scoped>\n",
       "    .dataframe tbody tr th:only-of-type {\n",
       "        vertical-align: middle;\n",
       "    }\n",
       "\n",
       "    .dataframe tbody tr th {\n",
       "        vertical-align: top;\n",
       "    }\n",
       "\n",
       "    .dataframe thead th {\n",
       "        text-align: right;\n",
       "    }\n",
       "</style>\n",
       "<table border=\"1\" class=\"dataframe\">\n",
       "  <thead>\n",
       "    <tr style=\"text-align: right;\">\n",
       "      <th></th>\n",
       "      <th>mpg</th>\n",
       "      <th>displacement</th>\n",
       "      <th>horsepower</th>\n",
       "      <th>weight</th>\n",
       "      <th>acceleration</th>\n",
       "      <th>model_year</th>\n",
       "    </tr>\n",
       "    <tr>\n",
       "      <th>cylinders</th>\n",
       "      <th></th>\n",
       "      <th></th>\n",
       "      <th></th>\n",
       "      <th></th>\n",
       "      <th></th>\n",
       "      <th></th>\n",
       "    </tr>\n",
       "  </thead>\n",
       "  <tbody>\n",
       "    <tr>\n",
       "      <th>3</th>\n",
       "      <td>20.550000</td>\n",
       "      <td>72.500000</td>\n",
       "      <td>99.250000</td>\n",
       "      <td>2398.500000</td>\n",
       "      <td>13.250000</td>\n",
       "      <td>75.500000</td>\n",
       "    </tr>\n",
       "    <tr>\n",
       "      <th>4</th>\n",
       "      <td>29.286765</td>\n",
       "      <td>109.796569</td>\n",
       "      <td>78.281407</td>\n",
       "      <td>2308.127451</td>\n",
       "      <td>16.601471</td>\n",
       "      <td>77.073529</td>\n",
       "    </tr>\n",
       "    <tr>\n",
       "      <th>5</th>\n",
       "      <td>27.366667</td>\n",
       "      <td>145.000000</td>\n",
       "      <td>82.333333</td>\n",
       "      <td>3103.333333</td>\n",
       "      <td>18.633333</td>\n",
       "      <td>79.000000</td>\n",
       "    </tr>\n",
       "    <tr>\n",
       "      <th>6</th>\n",
       "      <td>19.985714</td>\n",
       "      <td>218.142857</td>\n",
       "      <td>101.506024</td>\n",
       "      <td>3198.226190</td>\n",
       "      <td>16.263095</td>\n",
       "      <td>75.928571</td>\n",
       "    </tr>\n",
       "    <tr>\n",
       "      <th>8</th>\n",
       "      <td>14.963107</td>\n",
       "      <td>345.009709</td>\n",
       "      <td>158.300971</td>\n",
       "      <td>4114.718447</td>\n",
       "      <td>12.955340</td>\n",
       "      <td>73.902913</td>\n",
       "    </tr>\n",
       "  </tbody>\n",
       "</table>\n",
       "</div>"
      ],
      "text/plain": [
       "                 mpg  displacement  horsepower       weight  acceleration  \\\n",
       "cylinders                                                                   \n",
       "3          20.550000     72.500000   99.250000  2398.500000     13.250000   \n",
       "4          29.286765    109.796569   78.281407  2308.127451     16.601471   \n",
       "5          27.366667    145.000000   82.333333  3103.333333     18.633333   \n",
       "6          19.985714    218.142857  101.506024  3198.226190     16.263095   \n",
       "8          14.963107    345.009709  158.300971  4114.718447     12.955340   \n",
       "\n",
       "           model_year  \n",
       "cylinders              \n",
       "3           75.500000  \n",
       "4           77.073529  \n",
       "5           79.000000  \n",
       "6           75.928571  \n",
       "8           73.902913  "
      ]
     },
     "execution_count": 104,
     "metadata": {},
     "output_type": "execute_result"
    }
   ],
   "source": [
    "carsDFbyCylinders.mean()"
   ]
  },
  {
   "cell_type": "markdown",
   "metadata": {},
   "source": [
    "Group the carsDF by model_year and look at the median mpg (don't include the other columns)"
   ]
  },
  {
   "cell_type": "code",
   "execution_count": 105,
   "metadata": {},
   "outputs": [
    {
     "data": {
      "text/plain": [
       "model_year\n",
       "70    16.00\n",
       "71    19.00\n",
       "72    18.50\n",
       "73    16.00\n",
       "74    24.00\n",
       "75    19.50\n",
       "76    21.00\n",
       "77    21.75\n",
       "78    20.70\n",
       "79    23.90\n",
       "80    32.70\n",
       "81    31.60\n",
       "82    32.00\n",
       "Name: mpg, dtype: float64"
      ]
     },
     "execution_count": 105,
     "metadata": {},
     "output_type": "execute_result"
    }
   ],
   "source": [
    "carsDF.groupby('model_year')['mpg'].median()"
   ]
  },
  {
   "cell_type": "markdown",
   "metadata": {},
   "source": [
    "You can actually do much more with groupby, you can iterate over the groups"
   ]
  },
  {
   "cell_type": "code",
   "execution_count": 106,
   "metadata": {},
   "outputs": [
    {
     "name": "stdout",
     "output_type": "stream",
     "text": [
      "There are 4 cars with 3 cylinders\n",
      "There are 204 cars with 4 cylinders\n",
      "There are 3 cars with 5 cylinders\n",
      "There are 84 cars with 6 cylinders\n",
      "There are 103 cars with 8 cylinders\n"
     ]
    }
   ],
   "source": [
    "for vroom, group in carsDFbyCylinders:\n",
    "    print(f\"There are {group.shape[0]} cars with {vroom} cylinders\")"
   ]
  },
  {
   "cell_type": "markdown",
   "metadata": {},
   "source": [
    "How are there possibly 4 cars with 3 cylinders?!\n",
    "\n",
    "We can apply multiple operations at the same time. The `.aggregate()` method can take a list of the operations you want to perform (e.g. [\"max\", \"min\"])"
   ]
  },
  {
   "cell_type": "code",
   "execution_count": 107,
   "metadata": {},
   "outputs": [
    {
     "data": {
      "text/html": [
       "<div>\n",
       "<style scoped>\n",
       "    .dataframe tbody tr th:only-of-type {\n",
       "        vertical-align: middle;\n",
       "    }\n",
       "\n",
       "    .dataframe tbody tr th {\n",
       "        vertical-align: top;\n",
       "    }\n",
       "\n",
       "    .dataframe thead th {\n",
       "        text-align: right;\n",
       "    }\n",
       "</style>\n",
       "<table border=\"1\" class=\"dataframe\">\n",
       "  <thead>\n",
       "    <tr style=\"text-align: right;\">\n",
       "      <th></th>\n",
       "      <th>min</th>\n",
       "      <th>max</th>\n",
       "    </tr>\n",
       "    <tr>\n",
       "      <th>cylinders</th>\n",
       "      <th></th>\n",
       "      <th></th>\n",
       "    </tr>\n",
       "  </thead>\n",
       "  <tbody>\n",
       "    <tr>\n",
       "      <th>3</th>\n",
       "      <td>18.0</td>\n",
       "      <td>23.7</td>\n",
       "    </tr>\n",
       "    <tr>\n",
       "      <th>4</th>\n",
       "      <td>18.0</td>\n",
       "      <td>46.6</td>\n",
       "    </tr>\n",
       "    <tr>\n",
       "      <th>5</th>\n",
       "      <td>20.3</td>\n",
       "      <td>36.4</td>\n",
       "    </tr>\n",
       "    <tr>\n",
       "      <th>6</th>\n",
       "      <td>15.0</td>\n",
       "      <td>38.0</td>\n",
       "    </tr>\n",
       "    <tr>\n",
       "      <th>8</th>\n",
       "      <td>9.0</td>\n",
       "      <td>26.6</td>\n",
       "    </tr>\n",
       "  </tbody>\n",
       "</table>\n",
       "</div>"
      ],
      "text/plain": [
       "            min   max\n",
       "cylinders            \n",
       "3          18.0  23.7\n",
       "4          18.0  46.6\n",
       "5          20.3  36.4\n",
       "6          15.0  38.0\n",
       "8           9.0  26.6"
      ]
     },
     "execution_count": 107,
     "metadata": {},
     "output_type": "execute_result"
    }
   ],
   "source": [
    "carsDFbyCylinders['mpg'].aggregate([\"min\",\"max\"])"
   ]
  },
  {
   "cell_type": "markdown",
   "metadata": {},
   "source": [
    "We can filter based on group, this is a silly example, but group the cars by cylinder, then show me all of the groups with a mean mpg > 15."
   ]
  },
  {
   "cell_type": "code",
   "execution_count": 108,
   "metadata": {},
   "outputs": [
    {
     "data": {
      "text/html": [
       "<div>\n",
       "<style scoped>\n",
       "    .dataframe tbody tr th:only-of-type {\n",
       "        vertical-align: middle;\n",
       "    }\n",
       "\n",
       "    .dataframe tbody tr th {\n",
       "        vertical-align: top;\n",
       "    }\n",
       "\n",
       "    .dataframe thead th {\n",
       "        text-align: right;\n",
       "    }\n",
       "</style>\n",
       "<table border=\"1\" class=\"dataframe\">\n",
       "  <thead>\n",
       "    <tr style=\"text-align: right;\">\n",
       "      <th></th>\n",
       "      <th>mpg</th>\n",
       "      <th>cylinders</th>\n",
       "      <th>displacement</th>\n",
       "      <th>horsepower</th>\n",
       "      <th>weight</th>\n",
       "      <th>acceleration</th>\n",
       "      <th>model_year</th>\n",
       "      <th>origin</th>\n",
       "      <th>name</th>\n",
       "    </tr>\n",
       "  </thead>\n",
       "  <tbody>\n",
       "    <tr>\n",
       "      <th>14</th>\n",
       "      <td>24.0</td>\n",
       "      <td>4</td>\n",
       "      <td>113.0</td>\n",
       "      <td>95.0</td>\n",
       "      <td>2372</td>\n",
       "      <td>15.0</td>\n",
       "      <td>70</td>\n",
       "      <td>japan</td>\n",
       "      <td>toyota corona mark ii</td>\n",
       "    </tr>\n",
       "    <tr>\n",
       "      <th>15</th>\n",
       "      <td>22.0</td>\n",
       "      <td>6</td>\n",
       "      <td>198.0</td>\n",
       "      <td>95.0</td>\n",
       "      <td>2833</td>\n",
       "      <td>15.5</td>\n",
       "      <td>70</td>\n",
       "      <td>usa</td>\n",
       "      <td>plymouth duster</td>\n",
       "    </tr>\n",
       "    <tr>\n",
       "      <th>16</th>\n",
       "      <td>18.0</td>\n",
       "      <td>6</td>\n",
       "      <td>199.0</td>\n",
       "      <td>97.0</td>\n",
       "      <td>2774</td>\n",
       "      <td>15.5</td>\n",
       "      <td>70</td>\n",
       "      <td>usa</td>\n",
       "      <td>amc hornet</td>\n",
       "    </tr>\n",
       "    <tr>\n",
       "      <th>17</th>\n",
       "      <td>21.0</td>\n",
       "      <td>6</td>\n",
       "      <td>200.0</td>\n",
       "      <td>85.0</td>\n",
       "      <td>2587</td>\n",
       "      <td>16.0</td>\n",
       "      <td>70</td>\n",
       "      <td>usa</td>\n",
       "      <td>ford maverick</td>\n",
       "    </tr>\n",
       "    <tr>\n",
       "      <th>18</th>\n",
       "      <td>27.0</td>\n",
       "      <td>4</td>\n",
       "      <td>97.0</td>\n",
       "      <td>88.0</td>\n",
       "      <td>2130</td>\n",
       "      <td>14.5</td>\n",
       "      <td>70</td>\n",
       "      <td>japan</td>\n",
       "      <td>datsun pl510</td>\n",
       "    </tr>\n",
       "  </tbody>\n",
       "</table>\n",
       "</div>"
      ],
      "text/plain": [
       "     mpg  cylinders  displacement  horsepower  weight  acceleration  \\\n",
       "14  24.0          4         113.0        95.0    2372          15.0   \n",
       "15  22.0          6         198.0        95.0    2833          15.5   \n",
       "16  18.0          6         199.0        97.0    2774          15.5   \n",
       "17  21.0          6         200.0        85.0    2587          16.0   \n",
       "18  27.0          4          97.0        88.0    2130          14.5   \n",
       "\n",
       "    model_year origin                   name  \n",
       "14          70  japan  toyota corona mark ii  \n",
       "15          70    usa        plymouth duster  \n",
       "16          70    usa             amc hornet  \n",
       "17          70    usa          ford maverick  \n",
       "18          70  japan           datsun pl510  "
      ]
     },
     "execution_count": 108,
     "metadata": {},
     "output_type": "execute_result"
    }
   ],
   "source": [
    "carsDFbyCylinders.filter(lambda x: x['mpg'].mean()>15).head()"
   ]
  },
  {
   "cell_type": "markdown",
   "metadata": {},
   "source": [
    "The transform method lets you perform a group operation then use the results to update the rows. For example, we could calculate mean values for our groups, then look at how individual cars perform relative to that"
   ]
  },
  {
   "cell_type": "code",
   "execution_count": 109,
   "metadata": {},
   "outputs": [
    {
     "name": "stderr",
     "output_type": "stream",
     "text": [
      "<ipython-input-109-944b0487b527>:1: FutureWarning: Dropping invalid columns in DataFrameGroupBy.transform is deprecated. In a future version, a TypeError will be raised. Before calling .transform, select only columns which should be valid for the transforming function.\n",
      "  carsDFbyCylinders.transform(lambda x: x - x.mean()).head()\n"
     ]
    },
    {
     "data": {
      "text/html": [
       "<div>\n",
       "<style scoped>\n",
       "    .dataframe tbody tr th:only-of-type {\n",
       "        vertical-align: middle;\n",
       "    }\n",
       "\n",
       "    .dataframe tbody tr th {\n",
       "        vertical-align: top;\n",
       "    }\n",
       "\n",
       "    .dataframe thead th {\n",
       "        text-align: right;\n",
       "    }\n",
       "</style>\n",
       "<table border=\"1\" class=\"dataframe\">\n",
       "  <thead>\n",
       "    <tr style=\"text-align: right;\">\n",
       "      <th></th>\n",
       "      <th>mpg</th>\n",
       "      <th>displacement</th>\n",
       "      <th>horsepower</th>\n",
       "      <th>weight</th>\n",
       "      <th>acceleration</th>\n",
       "      <th>model_year</th>\n",
       "    </tr>\n",
       "  </thead>\n",
       "  <tbody>\n",
       "    <tr>\n",
       "      <th>0</th>\n",
       "      <td>3.036893</td>\n",
       "      <td>-38.009709</td>\n",
       "      <td>-28.300971</td>\n",
       "      <td>-610.718447</td>\n",
       "      <td>-0.95534</td>\n",
       "      <td>-3.902913</td>\n",
       "    </tr>\n",
       "    <tr>\n",
       "      <th>1</th>\n",
       "      <td>0.036893</td>\n",
       "      <td>4.990291</td>\n",
       "      <td>6.699029</td>\n",
       "      <td>-421.718447</td>\n",
       "      <td>-1.45534</td>\n",
       "      <td>-3.902913</td>\n",
       "    </tr>\n",
       "    <tr>\n",
       "      <th>2</th>\n",
       "      <td>3.036893</td>\n",
       "      <td>-27.009709</td>\n",
       "      <td>-8.300971</td>\n",
       "      <td>-678.718447</td>\n",
       "      <td>-1.95534</td>\n",
       "      <td>-3.902913</td>\n",
       "    </tr>\n",
       "    <tr>\n",
       "      <th>3</th>\n",
       "      <td>1.036893</td>\n",
       "      <td>-41.009709</td>\n",
       "      <td>-8.300971</td>\n",
       "      <td>-681.718447</td>\n",
       "      <td>-0.95534</td>\n",
       "      <td>-3.902913</td>\n",
       "    </tr>\n",
       "    <tr>\n",
       "      <th>4</th>\n",
       "      <td>2.036893</td>\n",
       "      <td>-43.009709</td>\n",
       "      <td>-18.300971</td>\n",
       "      <td>-665.718447</td>\n",
       "      <td>-2.45534</td>\n",
       "      <td>-3.902913</td>\n",
       "    </tr>\n",
       "  </tbody>\n",
       "</table>\n",
       "</div>"
      ],
      "text/plain": [
       "        mpg  displacement  horsepower      weight  acceleration  model_year\n",
       "0  3.036893    -38.009709  -28.300971 -610.718447      -0.95534   -3.902913\n",
       "1  0.036893      4.990291    6.699029 -421.718447      -1.45534   -3.902913\n",
       "2  3.036893    -27.009709   -8.300971 -678.718447      -1.95534   -3.902913\n",
       "3  1.036893    -41.009709   -8.300971 -681.718447      -0.95534   -3.902913\n",
       "4  2.036893    -43.009709  -18.300971 -665.718447      -2.45534   -3.902913"
      ]
     },
     "execution_count": 109,
     "metadata": {},
     "output_type": "execute_result"
    }
   ],
   "source": [
    "carsDFbyCylinders.transform(lambda x: x - x.mean()).head()"
   ]
  },
  {
   "cell_type": "markdown",
   "metadata": {},
   "source": [
    "There is also an apply method which is even more general and will let you apply an arbitrary function to the group results."
   ]
  },
  {
   "cell_type": "markdown",
   "metadata": {},
   "source": [
    "## Concatenate & Join\n",
    "\n",
    "There are a handful of functions which handle concatenation. The main workhorse is `pd.concat`, but there are some convenience functions which will let you avoid passing lots of arguments to concat. You can combine either `Series` and `DataFrames` but we'll jump straight to `DataFrames`,"
   ]
  },
  {
   "cell_type": "code",
   "execution_count": 110,
   "metadata": {},
   "outputs": [
    {
     "data": {
      "text/html": [
       "<div>\n",
       "<style scoped>\n",
       "    .dataframe tbody tr th:only-of-type {\n",
       "        vertical-align: middle;\n",
       "    }\n",
       "\n",
       "    .dataframe tbody tr th {\n",
       "        vertical-align: top;\n",
       "    }\n",
       "\n",
       "    .dataframe thead th {\n",
       "        text-align: right;\n",
       "    }\n",
       "</style>\n",
       "<table border=\"1\" class=\"dataframe\">\n",
       "  <thead>\n",
       "    <tr style=\"text-align: right;\">\n",
       "      <th></th>\n",
       "      <th>upper</th>\n",
       "      <th>lower</th>\n",
       "    </tr>\n",
       "  </thead>\n",
       "  <tbody>\n",
       "    <tr>\n",
       "      <th>1</th>\n",
       "      <td>A</td>\n",
       "      <td>a</td>\n",
       "    </tr>\n",
       "    <tr>\n",
       "      <th>2</th>\n",
       "      <td>B</td>\n",
       "      <td>b</td>\n",
       "    </tr>\n",
       "    <tr>\n",
       "      <th>3</th>\n",
       "      <td>C</td>\n",
       "      <td>c</td>\n",
       "    </tr>\n",
       "    <tr>\n",
       "      <th>4</th>\n",
       "      <td>D</td>\n",
       "      <td>d</td>\n",
       "    </tr>\n",
       "    <tr>\n",
       "      <th>5</th>\n",
       "      <td>E</td>\n",
       "      <td>e</td>\n",
       "    </tr>\n",
       "    <tr>\n",
       "      <th>6</th>\n",
       "      <td>F</td>\n",
       "      <td>f</td>\n",
       "    </tr>\n",
       "  </tbody>\n",
       "</table>\n",
       "</div>"
      ],
      "text/plain": [
       "  upper lower\n",
       "1     A     a\n",
       "2     B     b\n",
       "3     C     c\n",
       "4     D     d\n",
       "5     E     e\n",
       "6     F     f"
      ]
     },
     "execution_count": 110,
     "metadata": {},
     "output_type": "execute_result"
    }
   ],
   "source": [
    "s1 = pd.DataFrame(\n",
    "    {\n",
    "        'upper': ['A', 'B', 'C'], \n",
    "        'lower': ['a', 'b', 'c']\n",
    "    }, \n",
    "    columns=['upper', 'lower'], \n",
    "    index=[1,2,3]\n",
    ")\n",
    "\n",
    "s2 = pd.DataFrame(\n",
    "    {\n",
    "        'upper': ['D', 'E', 'F'],\n",
    "        'lower': ['d', 'e', 'f']\n",
    "    }, \n",
    "    columns=['upper', 'lower'],\n",
    "    index=[4,5,6]\n",
    ")\n",
    "\n",
    "pd.concat([s1,s2])"
   ]
  },
  {
   "cell_type": "markdown",
   "metadata": {},
   "source": [
    "Notice that we enclosed the thigs we want to join as some sort of iterable (a `list` here).\n",
    "\n",
    "What if we wanted to add columns rather than rows"
   ]
  },
  {
   "cell_type": "code",
   "execution_count": 111,
   "metadata": {},
   "outputs": [
    {
     "data": {
      "text/html": [
       "<div>\n",
       "<style scoped>\n",
       "    .dataframe tbody tr th:only-of-type {\n",
       "        vertical-align: middle;\n",
       "    }\n",
       "\n",
       "    .dataframe tbody tr th {\n",
       "        vertical-align: top;\n",
       "    }\n",
       "\n",
       "    .dataframe thead th {\n",
       "        text-align: right;\n",
       "    }\n",
       "</style>\n",
       "<table border=\"1\" class=\"dataframe\">\n",
       "  <thead>\n",
       "    <tr style=\"text-align: right;\">\n",
       "      <th></th>\n",
       "      <th>upper</th>\n",
       "      <th>lower</th>\n",
       "      <th>greek</th>\n",
       "    </tr>\n",
       "  </thead>\n",
       "  <tbody>\n",
       "    <tr>\n",
       "      <th>1</th>\n",
       "      <td>A</td>\n",
       "      <td>a</td>\n",
       "      <td>α</td>\n",
       "    </tr>\n",
       "    <tr>\n",
       "      <th>2</th>\n",
       "      <td>B</td>\n",
       "      <td>b</td>\n",
       "      <td>β</td>\n",
       "    </tr>\n",
       "    <tr>\n",
       "      <th>3</th>\n",
       "      <td>C</td>\n",
       "      <td>c</td>\n",
       "      <td>γ</td>\n",
       "    </tr>\n",
       "  </tbody>\n",
       "</table>\n",
       "</div>"
      ],
      "text/plain": [
       "  upper lower greek\n",
       "1     A     a     α\n",
       "2     B     b     β\n",
       "3     C     c     γ"
      ]
     },
     "execution_count": 111,
     "metadata": {},
     "output_type": "execute_result"
    }
   ],
   "source": [
    "t1 = pd.DataFrame({'upper': ['A', 'B', 'C'], 'lower': ['a', 'b', 'c']}, columns=['upper', 'lower'], index=[1,2,3])\n",
    "t2 = pd.DataFrame({'greek': ['α', 'β', 'γ']}, index=[1,2,3])\n",
    "\n",
    "pd.concat([t1, t2], axis='columns')"
   ]
  },
  {
   "cell_type": "markdown",
   "metadata": {},
   "source": [
    "`pd.concat` will accept duplicate indices, but normally that indicates a problem with the data normalization. `concat` has a `verify_index` argument which can check for these problems and you can specify what you want to do with duplicates manually.\n",
    "\n",
    "concat will often result in `NaN`s because some columns might not exist in both/all frames."
   ]
  },
  {
   "cell_type": "code",
   "execution_count": 112,
   "metadata": {},
   "outputs": [
    {
     "data": {
      "text/html": [
       "<div>\n",
       "<style scoped>\n",
       "    .dataframe tbody tr th:only-of-type {\n",
       "        vertical-align: middle;\n",
       "    }\n",
       "\n",
       "    .dataframe tbody tr th {\n",
       "        vertical-align: top;\n",
       "    }\n",
       "\n",
       "    .dataframe thead th {\n",
       "        text-align: right;\n",
       "    }\n",
       "</style>\n",
       "<table border=\"1\" class=\"dataframe\">\n",
       "  <thead>\n",
       "    <tr style=\"text-align: right;\">\n",
       "      <th></th>\n",
       "      <th>fruit</th>\n",
       "      <th>veg</th>\n",
       "      <th>tree</th>\n",
       "    </tr>\n",
       "  </thead>\n",
       "  <tbody>\n",
       "    <tr>\n",
       "      <th>0</th>\n",
       "      <td>apple</td>\n",
       "      <td>brocolli</td>\n",
       "      <td>cedar</td>\n",
       "    </tr>\n",
       "    <tr>\n",
       "      <th>1</th>\n",
       "      <td>orange</td>\n",
       "      <td>carrot</td>\n",
       "      <td>alder</td>\n",
       "    </tr>\n",
       "    <tr>\n",
       "      <th>2</th>\n",
       "      <td>banana</td>\n",
       "      <td>onion</td>\n",
       "      <td>NaN</td>\n",
       "    </tr>\n",
       "    <tr>\n",
       "      <th>3</th>\n",
       "      <td>grape</td>\n",
       "      <td>potato</td>\n",
       "      <td>NaN</td>\n",
       "    </tr>\n",
       "  </tbody>\n",
       "</table>\n",
       "</div>"
      ],
      "text/plain": [
       "    fruit       veg   tree\n",
       "0   apple  brocolli  cedar\n",
       "1  orange    carrot  alder\n",
       "2  banana     onion    NaN\n",
       "3   grape    potato    NaN"
      ]
     },
     "execution_count": 112,
     "metadata": {},
     "output_type": "execute_result"
    }
   ],
   "source": [
    "d4 = pd.DataFrame({'fruit': ['apple', 'orange'], 'veg': ['brocolli', 'carrot'], 'tree': ['cedar', 'alder']})\n",
    "d5 = pd.DataFrame({'veg': ['onion', 'potato'], 'fruit': ['banana','grape']})\n",
    "pd.concat([d4,d5], sort=False, ignore_index=True)"
   ]
  },
  {
   "cell_type": "markdown",
   "metadata": {},
   "source": [
    "Since the index wasn't important here, I threw it away and just accepted a new one.\n",
    "\n",
    "In the general case, joining DataFrames can get complex. The concat method can take a `join` keyword to specify a database like join stragegy (inner or outer), but `pd.merge` is a bit more flexible. It implements the usual relations\n",
    "\n",
    "  * one-to-one (similar to a concat)\n",
    "  * many-to-one\n",
    "  * many-to-many\n",
    "  \n",
    "For the many-to-one case here is an example"
   ]
  },
  {
   "cell_type": "code",
   "execution_count": 113,
   "metadata": {},
   "outputs": [
    {
     "name": "stdout",
     "output_type": "stream",
     "text": [
      "    class  legs\n",
      "0  insect     6\n",
      "1  spider     8\n",
      "      name   class\n",
      "0    molly  insect\n",
      "1     anna  insect\n",
      "2  stephen  spider\n",
      "3     mica  insect\n"
     ]
    }
   ],
   "source": [
    "adf1=pd.DataFrame({\n",
    "    'class': ['insect', 'spider'], \n",
    "    'legs': [6, 8]}\n",
    ")\n",
    "\n",
    "adf2=pd.DataFrame({\n",
    "    'name': ['molly', 'anna', 'stephen', 'mica'], \n",
    "    'class': ['insect','insect','spider','insect']}\n",
    ")                     \n",
    "\n",
    "print(adf1); print(adf2)"
   ]
  },
  {
   "cell_type": "code",
   "execution_count": 114,
   "metadata": {},
   "outputs": [
    {
     "data": {
      "text/html": [
       "<div>\n",
       "<style scoped>\n",
       "    .dataframe tbody tr th:only-of-type {\n",
       "        vertical-align: middle;\n",
       "    }\n",
       "\n",
       "    .dataframe tbody tr th {\n",
       "        vertical-align: top;\n",
       "    }\n",
       "\n",
       "    .dataframe thead th {\n",
       "        text-align: right;\n",
       "    }\n",
       "</style>\n",
       "<table border=\"1\" class=\"dataframe\">\n",
       "  <thead>\n",
       "    <tr style=\"text-align: right;\">\n",
       "      <th></th>\n",
       "      <th>class</th>\n",
       "      <th>legs</th>\n",
       "      <th>name</th>\n",
       "    </tr>\n",
       "  </thead>\n",
       "  <tbody>\n",
       "    <tr>\n",
       "      <th>0</th>\n",
       "      <td>insect</td>\n",
       "      <td>6</td>\n",
       "      <td>molly</td>\n",
       "    </tr>\n",
       "    <tr>\n",
       "      <th>1</th>\n",
       "      <td>insect</td>\n",
       "      <td>6</td>\n",
       "      <td>anna</td>\n",
       "    </tr>\n",
       "    <tr>\n",
       "      <th>2</th>\n",
       "      <td>insect</td>\n",
       "      <td>6</td>\n",
       "      <td>mica</td>\n",
       "    </tr>\n",
       "    <tr>\n",
       "      <th>3</th>\n",
       "      <td>spider</td>\n",
       "      <td>8</td>\n",
       "      <td>stephen</td>\n",
       "    </tr>\n",
       "  </tbody>\n",
       "</table>\n",
       "</div>"
      ],
      "text/plain": [
       "    class  legs     name\n",
       "0  insect     6    molly\n",
       "1  insect     6     anna\n",
       "2  insect     6     mica\n",
       "3  spider     8  stephen"
      ]
     },
     "execution_count": 114,
     "metadata": {},
     "output_type": "execute_result"
    }
   ],
   "source": [
    "pd.merge(adf1, adf2)"
   ]
  },
  {
   "cell_type": "markdown",
   "metadata": {},
   "source": [
    "The _many-to-one_ is many different rows in adf2 being mapped to a single row in adf1 (insects). `pd.merge` also accepts a selection of keyword arguments so you can manually specify which columns to join, patch up name differences etc."
   ]
  },
  {
   "cell_type": "code",
   "execution_count": null,
   "metadata": {},
   "outputs": [],
   "source": []
  }
 ],
 "metadata": {
  "kernelspec": {
   "display_name": "Python 3",
   "language": "python",
   "name": "python3"
  },
  "language_info": {
   "codemirror_mode": {
    "name": "ipython",
    "version": 3
   },
   "file_extension": ".py",
   "mimetype": "text/x-python",
   "name": "python",
   "nbconvert_exporter": "python",
   "pygments_lexer": "ipython3",
   "version": "3.8.6"
  }
 },
 "nbformat": 4,
 "nbformat_minor": 4
}
